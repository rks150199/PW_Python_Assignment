{
 "cells": [
  {
   "cell_type": "markdown",
   "metadata": {},
   "source": [
    "# Basic If-Else Statements:"
   ]
  },
  {
   "cell_type": "markdown",
   "metadata": {},
   "source": [
    "# 1. Write a Python program to check if a given number is positive or negative."
   ]
  },
  {
   "cell_type": "code",
   "execution_count": 8,
   "metadata": {},
   "outputs": [
    {
     "name": "stdout",
     "output_type": "stream",
     "text": [
      "enter number to check positive or negative34\n"
     ]
    },
    {
     "data": {
      "text/plain": [
       "'34 is positive number'"
      ]
     },
     "execution_count": 8,
     "metadata": {},
     "output_type": "execute_result"
    }
   ],
   "source": [
    "def check_positive_negative(n):\n",
    "    if n>=0:\n",
    "        return (f\"{n} is positive number\")\n",
    "    else:\n",
    "        return (f\"{n} is negative number\")\n",
    "    \n",
    "n=int(input(\"enter number to check positive or negative\"))\n",
    "check_positive_negative(n) \n",
    "    "
   ]
  },
  {
   "cell_type": "markdown",
   "metadata": {},
   "source": [
    "# 2. Create a program that determines if a person is eligible to vote based on their age."
   ]
  },
  {
   "cell_type": "code",
   "execution_count": 7,
   "metadata": {},
   "outputs": [
    {
     "name": "stdout",
     "output_type": "stream",
     "text": [
      "enter age12\n",
      "age 12 : is not eligible to vote\n"
     ]
    }
   ],
   "source": [
    "def eligible_to_vote(n):\n",
    "    if n>=18:\n",
    "        return print(f\"age {n} : is eligible to vote\")\n",
    "    else:\n",
    "        return print(f\"age {n} : is not eligible to vote\")\n",
    "    \n",
    "n=int(input(\"enter age\"))\n",
    "eligible_to_vote(n)"
   ]
  },
  {
   "cell_type": "markdown",
   "metadata": {},
   "source": [
    "# 3. Develop a program to find the maximum of two numbers using if-else statements."
   ]
  },
  {
   "cell_type": "code",
   "execution_count": 10,
   "metadata": {},
   "outputs": [
    {
     "data": {
      "text/plain": [
       "'24 is max'"
      ]
     },
     "execution_count": 10,
     "metadata": {},
     "output_type": "execute_result"
    }
   ],
   "source": [
    "def maximum(a,b):\n",
    "    if a>b:\n",
    "        return f\"{a} is max\"\n",
    "    else:\n",
    "        return f\"{b} is max\"\n",
    "maximum(12,24)"
   ]
  },
  {
   "cell_type": "markdown",
   "metadata": {},
   "source": [
    "# 4. Write a Python script to classify a given year as a leap year or not."
   ]
  },
  {
   "cell_type": "code",
   "execution_count": 19,
   "metadata": {},
   "outputs": [
    {
     "data": {
      "text/plain": [
       "'not leap year'"
      ]
     },
     "execution_count": 19,
     "metadata": {},
     "output_type": "execute_result"
    }
   ],
   "source": [
    "def leap_year(n):\n",
    "    if (n%4==0 and n%100!=0) or n%400==0:\n",
    "        return \"leap year\"\n",
    "    else:\n",
    "        return \"not leap year\"\n",
    "leap_year(2001)"
   ]
  },
  {
   "cell_type": "markdown",
   "metadata": {},
   "source": [
    "# 5. Create a program that checks whether a character is a vowel or a consonant."
   ]
  },
  {
   "cell_type": "code",
   "execution_count": 24,
   "metadata": {},
   "outputs": [
    {
     "name": "stdout",
     "output_type": "stream",
     "text": [
      "enter a character : r\n"
     ]
    },
    {
     "data": {
      "text/plain": [
       "'r is consonant'"
      ]
     },
     "execution_count": 24,
     "metadata": {},
     "output_type": "execute_result"
    }
   ],
   "source": [
    "vowel=\"aeiou\"\n",
    "def check_vowel(string):\n",
    "    for i in string:\n",
    "            if i in vowel:\n",
    "                return f\"{i} is vowel\"\n",
    "            else:\n",
    "                return f\"{i} is consonant\"\n",
    "            \n",
    "string=input(\"enter a character : \")\n",
    "check_vowel(string)"
   ]
  },
  {
   "cell_type": "markdown",
   "metadata": {},
   "source": [
    "# 6. Implement a program to determine whether a given number is even or odd."
   ]
  },
  {
   "cell_type": "code",
   "execution_count": 26,
   "metadata": {},
   "outputs": [
    {
     "name": "stdout",
     "output_type": "stream",
     "text": [
      "enter number to check odd or even3\n"
     ]
    },
    {
     "data": {
      "text/plain": [
       "'3 is odd'"
      ]
     },
     "execution_count": 26,
     "metadata": {},
     "output_type": "execute_result"
    }
   ],
   "source": [
    "def check_odd_even(n):\n",
    "    if n%2==0:\n",
    "        return f\"{n} is even\"\n",
    "    else:\n",
    "        return f\"{n} is odd\"\n",
    "n=int(input('enter number to check odd or even'))\n",
    "check_odd_even(n)"
   ]
  },
  {
   "cell_type": "markdown",
   "metadata": {},
   "source": [
    "# 7. Write a Python function to calculate the absolute value of a number without using the `abs()` function."
   ]
  },
  {
   "cell_type": "code",
   "execution_count": 37,
   "metadata": {},
   "outputs": [
    {
     "name": "stdout",
     "output_type": "stream",
     "text": [
      "enter number to check the absolute value of a number-63\n"
     ]
    },
    {
     "data": {
      "text/plain": [
       "63"
      ]
     },
     "execution_count": 37,
     "metadata": {},
     "output_type": "execute_result"
    }
   ],
   "source": [
    "def absolute_value(n):\n",
    "    if n<=0:\n",
    "        return int(f\"{-n}\")\n",
    "    else:\n",
    "        return int(f\"{n}\")\n",
    "    \n",
    "n=int(input(\"enter number to check the absolute value of a number\"))\n",
    "absolute_value(n)"
   ]
  },
  {
   "cell_type": "markdown",
   "metadata": {},
   "source": [
    "# 8. Develop a program that determines the largest of three given numbers using if-else statements."
   ]
  },
  {
   "cell_type": "code",
   "execution_count": 42,
   "metadata": {
    "scrolled": true
   },
   "outputs": [
    {
     "name": "stdout",
     "output_type": "stream",
     "text": [
      "enter value12\n",
      "enter value23\n",
      "enter value54\n"
     ]
    },
    {
     "data": {
      "text/plain": [
       "'54 is greater'"
      ]
     },
     "execution_count": 42,
     "metadata": {},
     "output_type": "execute_result"
    }
   ],
   "source": [
    "def larger(a,b,c): \n",
    "    if a>b and a>c:\n",
    "        return f\"{a} is greater\"\n",
    "    if b>c and c>a:\n",
    "        return f\"{b} is greater\"\n",
    "    if c>b and c>a:\n",
    "        return f\"{c} is greater\"\n",
    "\n",
    "a,b,c=int(input(\"enter value\")),int(input(\"enter value\")),int(input(\"enter value\"))\n",
    "larger(a,b,c)"
   ]
  },
  {
   "cell_type": "markdown",
   "metadata": {},
   "source": [
    "# 9. Create a program that checks if a given string is a palindrome."
   ]
  },
  {
   "cell_type": "code",
   "execution_count": 48,
   "metadata": {},
   "outputs": [
    {
     "name": "stdout",
     "output_type": "stream",
     "text": [
      "enter stringakka\n"
     ]
    },
    {
     "data": {
      "text/plain": [
       "'palindrome'"
      ]
     },
     "execution_count": 48,
     "metadata": {},
     "output_type": "execute_result"
    }
   ],
   "source": [
    "def palindrome(n):\n",
    "    s=\"\"\n",
    "    for i in n:\n",
    "        s=i+s\n",
    "    if n==s:\n",
    "        return \"palindrome\"\n",
    "    else:\n",
    "        return \"not palindrome\"\n",
    "        \n",
    "n=str(input(\"enter string\"))\n",
    "palindrome(n)       "
   ]
  },
  {
   "cell_type": "markdown",
   "metadata": {},
   "source": [
    "# 10. Write a Python program to calculate the grade based on a student's score."
   ]
  },
  {
   "cell_type": "code",
   "execution_count": 6,
   "metadata": {},
   "outputs": [
    {
     "name": "stdout",
     "output_type": "stream",
     "text": [
      "enter students marks98\n"
     ]
    },
    {
     "data": {
      "text/plain": [
       "'A+'"
      ]
     },
     "execution_count": 6,
     "metadata": {},
     "output_type": "execute_result"
    }
   ],
   "source": [
    "def check_grade(n):\n",
    "    if 100>=n>=90:\n",
    "        return \"A+\"\n",
    "    elif 89>=n>=80:\n",
    "        return \"A\"\n",
    "    elif 79>=n>=70:\n",
    "        return \"B+\"\n",
    "    elif 69>=n>=60:\n",
    "        return \"B\"\n",
    "    elif 59>=n>=50:\n",
    "        return \"C+\"\n",
    "    elif 49>=n>=40:\n",
    "        return \"C\"\n",
    "    elif 39>=n>=30:\n",
    "        return \"D\"\n",
    "    elif 29>=n>=0:\n",
    "        return \"E\"\n",
    "n=int(input(\"enter students marks\"))\n",
    "check_grade(n)"
   ]
  },
  {
   "cell_type": "markdown",
   "metadata": {},
   "source": [
    "# Nested If-Else Statements:"
   ]
  },
  {
   "cell_type": "markdown",
   "metadata": {},
   "source": [
    "# 11. Write a program to find the largest among three numbers using nested if-else statements."
   ]
  },
  {
   "cell_type": "code",
   "execution_count": 7,
   "metadata": {},
   "outputs": [
    {
     "name": "stdout",
     "output_type": "stream",
     "text": [
      "enter number23\n",
      "enter number94\n",
      "enter number1\n"
     ]
    },
    {
     "data": {
      "text/plain": [
       "94"
      ]
     },
     "execution_count": 7,
     "metadata": {},
     "output_type": "execute_result"
    }
   ],
   "source": [
    "def find_largest(a, b, c):\n",
    "    if a >= b:\n",
    "        if a >= c:\n",
    "            return a\n",
    "        else:\n",
    "            return c\n",
    "    else:\n",
    "        if b >= c:\n",
    "            return b\n",
    "        else:\n",
    "            return c\n",
    "\n",
    "num1,num2,num3=int(input(\"enter number\")),int(input(\"enter number\")),int(input(\"enter number\")),\n",
    "find_largest(num1,num2,num3)"
   ]
  },
  {
   "cell_type": "markdown",
   "metadata": {},
   "source": [
    "# 12. Implement a program to determine if a triangle is equilateral, isosceles, or scalene.\n",
    "\n"
   ]
  },
  {
   "cell_type": "code",
   "execution_count": 8,
   "metadata": {},
   "outputs": [
    {
     "name": "stdout",
     "output_type": "stream",
     "text": [
      "enter number2\n",
      "enter number3\n",
      "enter number2\n"
     ]
    },
    {
     "data": {
      "text/plain": [
       "'Isosceles'"
      ]
     },
     "execution_count": 8,
     "metadata": {},
     "output_type": "execute_result"
    }
   ],
   "source": [
    "def determine_triangle_type(a, b, c):\n",
    "    if a == b == c:\n",
    "        return \"Equilateral\"\n",
    "    elif a == b or b == c or a == c:\n",
    "        return \"Isosceles\"\n",
    "    else:\n",
    "        return \"Scalene\"\n",
    " \n",
    "num1,num2,num3=int(input(\"enter number\")),int(input(\"enter number\")),int(input(\"enter number\"))\n",
    "\n",
    "determine_triangle_type(num1,num2,num3)\n"
   ]
  },
  {
   "cell_type": "markdown",
   "metadata": {},
   "source": [
    "# 13. Develop a program that checks if a year is a leap year and also if it is a century year."
   ]
  },
  {
   "cell_type": "code",
   "execution_count": 28,
   "metadata": {},
   "outputs": [
    {
     "data": {
      "text/plain": [
       "{2000: 'leap year and century year',\n",
       " 2024: 'non leap year and century year',\n",
       " 2020: 'non leap year and century year',\n",
       " 1900: 'leap year and century year',\n",
       " 1990: 'non leap year and century year',\n",
       " 1998: 'non leap year and century year',\n",
       " 2012: 'non leap year and century year',\n",
       " 2030: 'non leap year and century year'}"
      ]
     },
     "execution_count": 28,
     "metadata": {},
     "output_type": "execute_result"
    }
   ],
   "source": [
    "def check_leap_century_year(n):\n",
    "    if (n%4==0 and n%100==0 or n%400==0):\n",
    "        return \"leap year and century year\"\n",
    "    elif n%100==0:\n",
    "        return \"century year\"\n",
    "    elif (n%4==0 and n%100==0 or n%400==0) and n%100==0:\n",
    "        return \"century year and leap year both\"\n",
    "    else:\n",
    "        return \"non leap year and century year\"\n",
    "\n",
    "list1=[2000,2024,2020,1900,1990,1998,2012,2030]\n",
    "result=[]\n",
    "\n",
    "for n in list1:\n",
    "    output=(check_leap_century_year(int(n)))\n",
    "    result.append(output)\n",
    "    \n",
    "dict1={key:value for key, value in zip(list1,result)}\n",
    "dict1"
   ]
  },
  {
   "cell_type": "markdown",
   "metadata": {},
   "source": [
    "# 14. Write a Python script to determine if a number is positive, negative, or zero."
   ]
  },
  {
   "cell_type": "code",
   "execution_count": 30,
   "metadata": {},
   "outputs": [
    {
     "name": "stdout",
     "output_type": "stream",
     "text": [
      "enter number0\n"
     ]
    },
    {
     "data": {
      "text/plain": [
       "'zero'"
      ]
     },
     "execution_count": 30,
     "metadata": {},
     "output_type": "execute_result"
    }
   ],
   "source": [
    "def check_positive_negative_zero(n):\n",
    "    if n>0:\n",
    "        return f\"{n} is positive\"\n",
    "    elif n<0:\n",
    "        return f\"{n} is negative\"\n",
    "    else:\n",
    "        return \"zero\"\n",
    "n=int(input(\"enter number\"))    \n",
    "check_positive_negative_zero(n)"
   ]
  },
  {
   "cell_type": "markdown",
   "metadata": {},
   "source": [
    "# 15. Create a program to check if a person is a teenager (between 13 and 19 years old)."
   ]
  },
  {
   "cell_type": "code",
   "execution_count": 35,
   "metadata": {},
   "outputs": [
    {
     "name": "stdout",
     "output_type": "stream",
     "text": [
      "enter age13\n"
     ]
    },
    {
     "data": {
      "text/plain": [
       "'13, TEENAGER'"
      ]
     },
     "execution_count": 35,
     "metadata": {},
     "output_type": "execute_result"
    }
   ],
   "source": [
    "def teenager(age):\n",
    "    if 19 >= age >= 13:\n",
    "        return f\"{age}, TEENAGER\"\n",
    "    else:\n",
    "        return f\"{age}, NOT A TEENAGER\"\n",
    "age=int(input(\"enter age\"))\n",
    "teenager(age)"
   ]
  },
  {
   "cell_type": "markdown",
   "metadata": {},
   "source": [
    "# 16. Develop a program that determines the type of angle based on its measure (acute, obtuse, or right)."
   ]
  },
  {
   "cell_type": "code",
   "execution_count": 38,
   "metadata": {},
   "outputs": [
    {
     "name": "stdout",
     "output_type": "stream",
     "text": [
      "enter angle90\n"
     ]
    },
    {
     "data": {
      "text/plain": [
       "'Right angle'"
      ]
     },
     "execution_count": 38,
     "metadata": {},
     "output_type": "execute_result"
    }
   ],
   "source": [
    "def determine_angle_type(angle):\n",
    "    if angle > 0 and angle < 90:\n",
    "        return \"Acute angle\"\n",
    "    elif angle == 90:\n",
    "        return \"Right angle\"\n",
    "    elif angle > 90 and angle < 180:\n",
    "        return \"Obtuse angle\"\n",
    "    elif angle == 180:\n",
    "        return \"Straight angle\"\n",
    "    else:\n",
    "        return \"Invalid angle\"\n",
    "\n",
    "angle=float(input(\"enter angle\"))\n",
    "determine_angle_type(angle)"
   ]
  },
  {
   "cell_type": "markdown",
   "metadata": {},
   "source": [
    "# 17. Write a Python program to calculate the roots of a quadratic equation."
   ]
  },
  {
   "cell_type": "code",
   "execution_count": 47,
   "metadata": {},
   "outputs": [],
   "source": [
    "#with the help of OOPS"
   ]
  },
  {
   "cell_type": "code",
   "execution_count": 46,
   "metadata": {},
   "outputs": [
    {
     "name": "stdout",
     "output_type": "stream",
     "text": [
      "Enter coefficient a: 1\n",
      "Enter coefficient b: -5\n",
      "Enter coefficient c: 6\n"
     ]
    },
    {
     "data": {
      "text/plain": [
       "(3.0, 2.0)"
      ]
     },
     "execution_count": 46,
     "metadata": {},
     "output_type": "execute_result"
    }
   ],
   "source": [
    "import math\n",
    "# we know that the quadratic eqn is : ax^2+bx+c=0\n",
    "class quadratic_equation:\n",
    "    def __init__(self,a,b,c):\n",
    "        self.a = a\n",
    "        self.b = b\n",
    "        self.c = c\n",
    "        \n",
    "# we know b^2-4ac:\n",
    "    # if b^2-4ac > 0 so two real roots\n",
    "    # if b^2-4ac < 0 so complex roots\n",
    "    # if b^2-4ac = 0 so one real root\n",
    "    \n",
    "    def calculate_roots(self):\n",
    "        discriminant = self.b**2 - 4*self.a*self.c\n",
    "        \n",
    "        if discriminant > 0:\n",
    "            root1 = (-self.b + math.sqrt(discriminant))/(2*self.a)\n",
    "            root2 = (-self.b - math.sqrt(discriminant))/(2*self.a)\n",
    "            return root1,root2\n",
    "        elif discriminant < 0:\n",
    "            real_part = -self.b / (2*self.a)\n",
    "            imaginary_part = math.sqrt(abs(discriminant)) / (2*self.a)\n",
    "            root1 = complex(real_part, imaginary_part)\n",
    "            root2 = complex(real_part, -imaginary_part)\n",
    "            return root1, root2\n",
    "        else:\n",
    "            root = -self.b / (2*self.a)\n",
    "            return root, root\n",
    "            \n",
    "a = int(input(\"Enter coefficient a: \"))\n",
    "b = int(input(\"Enter coefficient b: \"))\n",
    "c = int(input(\"Enter coefficient c: \"))\n",
    "\n",
    "#creaing instance of class with name of equation and passing variable a,b,c\n",
    "equation = quadratic_equation(a, b, c)\n",
    "# calling function through object of class\n",
    "roots = equation.calculate_roots()\n",
    "roots\n",
    "    "
   ]
  },
  {
   "cell_type": "markdown",
   "metadata": {},
   "source": [
    "# 18. Implement a program to determine the day of the week based on a user-provided number (1 for Monday, 2 for Tuesday, etc.)."
   ]
  },
  {
   "cell_type": "code",
   "execution_count": 51,
   "metadata": {},
   "outputs": [
    {
     "name": "stdout",
     "output_type": "stream",
     "text": [
      "enter days between 1 to 7.... to get days 3\n"
     ]
    },
    {
     "data": {
      "text/plain": [
       "'wednesday'"
      ]
     },
     "execution_count": 51,
     "metadata": {},
     "output_type": "execute_result"
    }
   ],
   "source": [
    "def day_of_week(day):\n",
    "    if day==1:\n",
    "        return \"monday\"\n",
    "    elif day==2:\n",
    "        return \"tuesday\"\n",
    "    elif day==3:\n",
    "        return \"wednesday\"\n",
    "    elif day==4:\n",
    "        return \"thursday\"\n",
    "    elif day==5:\n",
    "        return \"friday\"\n",
    "    elif day==6:\n",
    "        return \"saturday\"\n",
    "    elif day==7:\n",
    "        return \"sunday\"\n",
    "    \n",
    "day=int(input(\"enter days between 1 to 7.... to get days \"))    \n",
    "day_of_week(day)"
   ]
  },
  {
   "cell_type": "code",
   "execution_count": 50,
   "metadata": {},
   "outputs": [
    {
     "name": "stdout",
     "output_type": "stream",
     "text": [
      "Enter a number (1 for Monday, 2 for Tuesday, etc.): 3\n",
      "The day of the week is: Wednesday\n"
     ]
    }
   ],
   "source": [
    "def get_day_of_week(day_number):\n",
    "    days_of_week = {\n",
    "        1: \"Monday\",\n",
    "        2: \"Tuesday\",\n",
    "        3: \"Wednesday\",\n",
    "        4: \"Thursday\",\n",
    "        5: \"Friday\",\n",
    "        6: \"Saturday\",\n",
    "        7: \"Sunday\"\n",
    "    }\n",
    "    return days_of_week.get(day_number, \"Invalid day number\")\n",
    "try:\n",
    "    day_number = int(input(\"Enter a number (1 for Monday, 2 for Tuesday, etc.): \"))\n",
    "    day_of_week = get_day_of_week(day_number)\n",
    "    print(f\"The day of the week is: {day_of_week}\")\n",
    "except ValueError:\n",
    "    print(\"Invalid input. Please enter a number between 1 and 7.\")"
   ]
  },
  {
   "cell_type": "markdown",
   "metadata": {},
   "source": [
    "# 19. Create a program that determines if a year is a leap year and also if it is evenly divisible by 400."
   ]
  },
  {
   "cell_type": "code",
   "execution_count": 54,
   "metadata": {},
   "outputs": [
    {
     "name": "stdout",
     "output_type": "stream",
     "text": [
      "enter year2000\n"
     ]
    },
    {
     "data": {
      "text/plain": [
       "'leap year and evenly divible by 400'"
      ]
     },
     "execution_count": 54,
     "metadata": {},
     "output_type": "execute_result"
    }
   ],
   "source": [
    "def check_leap_century_year(n):\n",
    "    if (n%4==0 and n%100==0 and n%400==0):\n",
    "        return \"leap year and evenly divible by 400\"\n",
    "    else:\n",
    "        return \"not leap year and not divisible by 4000\"\n",
    "n=int(input(\"enter year\"))    \n",
    "check_leap_century_year(n)"
   ]
  },
  {
   "cell_type": "markdown",
   "metadata": {},
   "source": [
    "# 20. Develop a program that checks if a given number is prime or not using nested if-else statements."
   ]
  },
  {
   "cell_type": "code",
   "execution_count": 4,
   "metadata": {},
   "outputs": [
    {
     "name": "stdout",
     "output_type": "stream",
     "text": [
      "enter number to check prime9\n"
     ]
    },
    {
     "data": {
      "text/plain": [
       "False"
      ]
     },
     "execution_count": 4,
     "metadata": {},
     "output_type": "execute_result"
    }
   ],
   "source": [
    "def check_prime(n):\n",
    "    if n>1:\n",
    "        if n==2:\n",
    "            return True\n",
    "        else:\n",
    "            for i in range(2,int(n**0.5)+1):\n",
    "                if n%i==0:\n",
    "                    return False\n",
    "                \n",
    "            return True\n",
    "    else:\n",
    "        return False\n",
    "    \n",
    "n=int(input(\"enter number to check prime\"))\n",
    "check_prime(n)"
   ]
  },
  {
   "cell_type": "markdown",
   "metadata": {},
   "source": [
    "# Elif Statements:"
   ]
  },
  {
   "cell_type": "markdown",
   "metadata": {},
   "source": [
    "# 21. Write a Python program to assign grades based on different ranges of scores using elif statements."
   ]
  },
  {
   "cell_type": "code",
   "execution_count": 5,
   "metadata": {},
   "outputs": [
    {
     "name": "stdout",
     "output_type": "stream",
     "text": [
      "enter students marks35\n"
     ]
    },
    {
     "data": {
      "text/plain": [
       "'D'"
      ]
     },
     "execution_count": 5,
     "metadata": {},
     "output_type": "execute_result"
    }
   ],
   "source": [
    "def check_grade(n):\n",
    "    if 100>=n>=90:\n",
    "        return \"A+\"\n",
    "    elif 89>=n>=80:\n",
    "        return \"A\"\n",
    "    elif 79>=n>=70:\n",
    "        return \"B+\"\n",
    "    elif 69>=n>=60:\n",
    "        return \"B\"\n",
    "    elif 59>=n>=50:\n",
    "        return \"C+\"\n",
    "    elif 49>=n>=40:\n",
    "        return \"C\"\n",
    "    elif 39>=n>=30:\n",
    "        return \"D\"\n",
    "    elif 29>=n>=0:\n",
    "        return \"E\"\n",
    "n=int(input(\"enter students marks\"))\n",
    "check_grade(n)"
   ]
  },
  {
   "cell_type": "markdown",
   "metadata": {},
   "source": [
    "# 22. Implement a program to determine the type of a triangle based on its angles."
   ]
  },
  {
   "cell_type": "code",
   "execution_count": 6,
   "metadata": {},
   "outputs": [
    {
     "name": "stdout",
     "output_type": "stream",
     "text": [
      "enter angle20\n",
      "enter angle30\n",
      "enter angle130\n"
     ]
    },
    {
     "data": {
      "text/plain": [
       "'obtuse triangle'"
      ]
     },
     "execution_count": 6,
     "metadata": {},
     "output_type": "execute_result"
    }
   ],
   "source": [
    "def type_of_triangle(angle1,angle2,angle3):\n",
    "    if angle1+angle2+angle3==180:\n",
    "        if angle1==90 or angle3==90 or angle2==90  :\n",
    "            return \"right angle triangle\"\n",
    "        elif angle1>90 or angle2>90 or angle3>90:\n",
    "            return \"obtuse triangle\"\n",
    "        elif angle1<90 or angle2<90 or angle3<90:\n",
    "            return \"acute angle triangle\"\n",
    "    else:\n",
    "        return \"not a valid triangle\"\n",
    "    \n",
    "angle1,angle2,angle3=float(input(\"enter angle\")),float(input(\"enter angle\")),float(input(\"enter angle\"))\n",
    "type_of_triangle(angle1,angle2,angle3)\n",
    "\n",
    "        "
   ]
  },
  {
   "cell_type": "markdown",
   "metadata": {},
   "source": [
    "# 23. Develop a program to categorize a given person's BMI into underweight, normal, overweight, or obese using elif statements."
   ]
  },
  {
   "cell_type": "code",
   "execution_count": 9,
   "metadata": {},
   "outputs": [
    {
     "name": "stdout",
     "output_type": "stream",
     "text": [
      "Enter weight in kilograms: 65\n",
      "Enter height in meters: 1.74\n"
     ]
    },
    {
     "data": {
      "text/plain": [
       "'Normal weight'"
      ]
     },
     "execution_count": 9,
     "metadata": {},
     "output_type": "execute_result"
    }
   ],
   "source": [
    "def calculate_bmi(weight, height):\n",
    "    return weight / (height ** 2)\n",
    "\n",
    "def categorize_bmi(bmi):\n",
    "    if bmi < 18.5:\n",
    "        category = 'Underweight'\n",
    "    elif 18.5 <= bmi < 24.9:\n",
    "        category = 'Normal weight'\n",
    "    elif 25 <= bmi < 29.9:\n",
    "        category = 'Overweight'\n",
    "    else:\n",
    "        category = 'Obese'\n",
    "    return category\n",
    "\n",
    "weight = float(input(\"Enter weight in kilograms: \"))\n",
    "height = float(input(\"Enter height in meters: \"))\n",
    "\n",
    "bmi = calculate_bmi(weight, height)\n",
    "category = categorize_bmi(bmi)\n",
    "category"
   ]
  },
  {
   "cell_type": "markdown",
   "metadata": {},
   "source": [
    "# 24. Create a program that determines whether a given number is positive, negative, or zero using elif statements."
   ]
  },
  {
   "cell_type": "code",
   "execution_count": 11,
   "metadata": {},
   "outputs": [
    {
     "name": "stdout",
     "output_type": "stream",
     "text": [
      "enter number-223\n"
     ]
    },
    {
     "data": {
      "text/plain": [
       "'-223 is negative'"
      ]
     },
     "execution_count": 11,
     "metadata": {},
     "output_type": "execute_result"
    }
   ],
   "source": [
    "def check_positive_negative_zero(n):\n",
    "    if n>0:\n",
    "        return f\"{n} is positive\"\n",
    "    elif n<0:\n",
    "        return f\"{n} is negative\"\n",
    "    else:\n",
    "        return \"zero\"\n",
    "n=int(input(\"enter number\"))    \n",
    "check_positive_negative_zero(n)"
   ]
  },
  {
   "cell_type": "markdown",
   "metadata": {},
   "source": [
    "# 25. Write a Python script to determine the type of a character (uppercase, lowercase, or special) using elif statements."
   ]
  },
  {
   "cell_type": "code",
   "execution_count": 16,
   "metadata": {},
   "outputs": [
    {
     "name": "stdout",
     "output_type": "stream",
     "text": [
      "enter any character to check :a\n"
     ]
    },
    {
     "data": {
      "text/plain": [
       "'Lower Case'"
      ]
     },
     "execution_count": 16,
     "metadata": {},
     "output_type": "execute_result"
    }
   ],
   "source": [
    "def char_type(character):\n",
    "    if character.isupper():\n",
    "        return \"Upper Case\"\n",
    "    elif character.islower():\n",
    "        return \"Lower Case\"\n",
    "    elif character.isdigit():\n",
    "        return \"Digit\"\n",
    "    else:\n",
    "        return \"Special\"\n",
    "\n",
    "character=input(\"enter any character to check :\")\n",
    "if len(character) == 1:\n",
    "    result=char_type(character)\n",
    "result"
   ]
  },
  {
   "cell_type": "markdown",
   "metadata": {},
   "source": [
    "# 26. Implement a program to calculate the discounted price based on different purchase amounts using elif statements."
   ]
  },
  {
   "cell_type": "code",
   "execution_count": 8,
   "metadata": {},
   "outputs": [
    {
     "name": "stdout",
     "output_type": "stream",
     "text": [
      "enter price of product2500\n"
     ]
    },
    {
     "data": {
      "text/plain": [
       "2250.0"
      ]
     },
     "execution_count": 8,
     "metadata": {},
     "output_type": "execute_result"
    }
   ],
   "source": [
    "def discounted_price(price):\n",
    "    if price >= 1000:\n",
    "        discount=price*(1-(0.1))\n",
    "        return discount \n",
    "    elif price >= 2000:\n",
    "        discount = price*(1-(0.2))\n",
    "        return discount\n",
    "price = float(input(\"enter price of product\"))\n",
    "discounted_price(price)"
   ]
  },
  {
   "cell_type": "markdown",
   "metadata": {},
   "source": [
    "# 27. Develop a program to calculate the electricity bill based on different consumption slabs using elif statements."
   ]
  },
  {
   "cell_type": "code",
   "execution_count": 17,
   "metadata": {},
   "outputs": [
    {
     "name": "stdout",
     "output_type": "stream",
     "text": [
      "enter units 300\n"
     ]
    },
    {
     "data": {
      "text/plain": [
       "'2650 Rs for 300'"
      ]
     },
     "execution_count": 17,
     "metadata": {},
     "output_type": "execute_result"
    }
   ],
   "source": [
    "def bill_value(unit):\n",
    "    if unit==0:\n",
    "        return f\"{unit} Rs for {unit} units\"\n",
    "    elif unit>=1:\n",
    "        if unit<=50:\n",
    "            bill=unit*8\n",
    "            return f\"{bill} Rs for {unit} units\"\n",
    "        elif unit>=100:\n",
    "            bill=(50*8) + (unit-50)*9\n",
    "            return f\"{bill} Rs for {unit}\"\n",
    "        else:\n",
    "            bill=unit*10\n",
    "            return f\"{bill} Rs for {unit}\"\n",
    "    else:\n",
    "        return \"invalid unit\"\n",
    "\n",
    "unit=int(input(\"enter units \"))\n",
    "bill_value(unit)"
   ]
  },
  {
   "cell_type": "markdown",
   "metadata": {},
   "source": [
    "# 28. Create a program to determine the type of quadrilateral based on its angles and sides using elif statements.     "
   ]
  },
  {
   "cell_type": "code",
   "execution_count": 19,
   "metadata": {},
   "outputs": [
    {
     "name": "stdout",
     "output_type": "stream",
     "text": [
      "Enter the angle A: 90\n",
      "Enter the angle B: 90\n",
      "Enter the angle C: 90\n",
      "Enter the angle D: 90\n",
      "The quadrilateral is a Square or Rectangle\n"
     ]
    }
   ],
   "source": [
    "def determine_quadrilateral_type(a, b, c, d):\n",
    "    if a == 90 and b == 90 and c == 90 and d == 90:\n",
    "        return \"Square or Rectangle\"\n",
    "    elif a == c and b == d and a != b:\n",
    "        return \"Parallelogram\"\n",
    "    elif a == c and b == d and a == b:\n",
    "        return \"Rhombus\"\n",
    "    elif (a == c and b != d) or (a != c and b == d):\n",
    "        return \"Trapezium\"\n",
    "    else:\n",
    "        return \"Quadrilateral of other type\"\n",
    "angle_a = int(input(\"Enter the angle A: \"))\n",
    "angle_b = int(input(\"Enter the angle B: \"))\n",
    "angle_c = int(input(\"Enter the angle C: \"))\n",
    "angle_d = int(input(\"Enter the angle D: \"))\n",
    "quadrilateral_type = determine_quadrilateral_type(angle_a, angle_b, angle_c, angle_d)\n",
    "print(f\"The quadrilateral is a {quadrilateral_type}\")"
   ]
  },
  {
   "cell_type": "markdown",
   "metadata": {},
   "source": [
    "# 29. Write a Python script to determine the season based on a user-provided month using elif statements."
   ]
  },
  {
   "cell_type": "code",
   "execution_count": 21,
   "metadata": {},
   "outputs": [
    {
     "name": "stdout",
     "output_type": "stream",
     "text": [
      "Enter the month (e.g., January, February, etc.): January\n",
      "The season for January is Winter.\n"
     ]
    }
   ],
   "source": [
    "def determine_season(month):\n",
    "    \n",
    "    if month in [\"December\", \"January\", \"February\"]:\n",
    "        season = \"Winter\"\n",
    "    elif month in [\"March\", \"April\", \"May\"]:\n",
    "        season = \"Spring\"\n",
    "    elif month in [\"June\", \"July\", \"August\"]:\n",
    "        season = \"Summer\"\n",
    "    elif month in [\"September\", \"October\", \"November\"]:\n",
    "        season = \"Autumn\"\n",
    "    else:\n",
    "        season = \"Unknown\"\n",
    "        \n",
    "    return season\n",
    "\n",
    "month = input(\"Enter the month (e.g., January, February, etc.): \")\n",
    "season = determine_season(month)\n",
    "if season != \"Unknown\":\n",
    "    print(f\"The season for {month} is {season}.\")\n",
    "else:\n",
    "    print(\"Please enter a valid month name.\")\n"
   ]
  },
  {
   "cell_type": "markdown",
   "metadata": {},
   "source": [
    "# 30. Implement a program to determine the type of a year (leap or common) and month (30 or 31 days) using elif statements."
   ]
  },
  {
   "cell_type": "code",
   "execution_count": 22,
   "metadata": {},
   "outputs": [
    {
     "name": "stdout",
     "output_type": "stream",
     "text": [
      "Enter the year (e.g., 2024): 2000\n",
      "Enter the month (e.g., January, February, etc.): February\n",
      "2000 is a Leap year.\n",
      "February has 29 days.\n"
     ]
    }
   ],
   "source": [
    "def determine_year_type(year):\n",
    "    if (year % 4 == 0 and year % 100 != 0) or (year % 400 == 0):\n",
    "        year_type = \"Leap\"\n",
    "    else:\n",
    "        year_type = \"Common\"\n",
    "    return year_type\n",
    "\n",
    "def determine_month_days(month, year_type):\n",
    "    if month in [\"January\", \"March\", \"May\", \"July\", \"August\", \"October\", \"December\"]:\n",
    "        days = 31\n",
    "    elif month in [\"April\", \"June\", \"September\", \"November\"]:\n",
    "        days = 30\n",
    "    elif month == \"February\":\n",
    "        if year_type == \"Leap\":\n",
    "            days = 29\n",
    "        else:\n",
    "            days = 28\n",
    "    else:\n",
    "        days = None\n",
    "    return days\n",
    "\n",
    "year = int(input(\"Enter the year (e.g., 2024): \"))\n",
    "month = input(\"Enter the month (e.g., January, February, etc.): \")\n",
    "\n",
    "# Determine the type of year using the function\n",
    "year_type = determine_year_type(year)\n",
    "\n",
    "# Determine the number of days in the month using the function\n",
    "days_in_month = determine_month_days(month, year_type)\n",
    "\n",
    "# Display the results\n",
    "if year_type == \"Leap\":\n",
    "    print(f\"{year} is a Leap year.\")\n",
    "else:\n",
    "    print(f\"{year} is a Common year.\")\n",
    "\n",
    "if days_in_month:\n",
    "    print(f\"{month} has {days_in_month} days.\")\n",
    "else:\n",
    "    print(\"Please enter a valid month name.\")\n",
    "\n"
   ]
  },
  {
   "cell_type": "code",
   "execution_count": null,
   "metadata": {},
   "outputs": [],
   "source": []
  }
 ],
 "metadata": {
  "kernelspec": {
   "display_name": "Python 3",
   "language": "python",
   "name": "python3"
  },
  "language_info": {
   "codemirror_mode": {
    "name": "ipython",
    "version": 3
   },
   "file_extension": ".py",
   "mimetype": "text/x-python",
   "name": "python",
   "nbconvert_exporter": "python",
   "pygments_lexer": "ipython3",
   "version": "3.7.6"
  }
 },
 "nbformat": 4,
 "nbformat_minor": 4
}

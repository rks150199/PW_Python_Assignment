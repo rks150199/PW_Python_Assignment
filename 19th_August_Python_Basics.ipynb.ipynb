{
 "cells": [
  {
   "cell_type": "code",
   "execution_count": 14,
   "id": "b9520765-66b8-45e5-9fea-879820e7112d",
   "metadata": {},
   "outputs": [],
   "source": [
    "#TOPIC: Python Basics Variable"
   ]
  },
  {
   "cell_type": "code",
   "execution_count": 15,
   "id": "37d8238f-1173-48a4-822e-55b5c94ca931",
   "metadata": {},
   "outputs": [],
   "source": [
    "#1. Declare two variables, `x` and `y`, and assign them integer values. Swap the\n",
    "#   values of these variables without using any temporary variable."
   ]
  },
  {
   "cell_type": "code",
   "execution_count": 16,
   "id": "1f9945b6-4644-4da8-be6b-b6fe912c3a4e",
   "metadata": {},
   "outputs": [
    {
     "data": {
      "text/plain": [
       "(12, 10)"
      ]
     },
     "execution_count": 16,
     "metadata": {},
     "output_type": "execute_result"
    }
   ],
   "source": [
    "x,y=10,12\n",
    "x=x+y\n",
    "y=x-y\n",
    "x=x-y\n",
    "x,y"
   ]
  },
  {
   "cell_type": "code",
   "execution_count": 17,
   "id": "e28f04a3-8a43-4c60-a7ca-c86f6b9acb68",
   "metadata": {},
   "outputs": [],
   "source": [
    "#2. Create a program that calculates the area of a rectangle. Take the length and\n",
    "#   width as inputs from the user and store them in variables. Calculate and\n",
    "#   display the area."
   ]
  },
  {
   "cell_type": "code",
   "execution_count": 18,
   "id": "91535d3d-2ffd-4b9c-81ca-308ddff358e1",
   "metadata": {},
   "outputs": [
    {
     "name": "stdin",
     "output_type": "stream",
     "text": [
      "enter the length 5.9\n",
      "enter the width 9.1235\n"
     ]
    },
    {
     "name": "stdout",
     "output_type": "stream",
     "text": [
      "26.914325\n"
     ]
    }
   ],
   "source": [
    "length=float(input(\"enter the length\"))\n",
    "width=float(input(\"enter the width\"))\n",
    "area=(length*width)/2\n",
    "print(area)"
   ]
  },
  {
   "cell_type": "code",
   "execution_count": 19,
   "id": "1f2283a9-eced-43e8-9c22-37279f34403e",
   "metadata": {},
   "outputs": [],
   "source": [
    "#3. Write a Python program that converts temperatures from Celsius to\n",
    "#   Fahrenheit. Take the temperature in Celsius as input, store it in a variable,\n",
    "#   convert it to Fahrenheit, and display the result."
   ]
  },
  {
   "cell_type": "code",
   "execution_count": 25,
   "id": "7ea15f1f-a29d-4d01-9344-a2fc5fb90e67",
   "metadata": {},
   "outputs": [
    {
     "name": "stdin",
     "output_type": "stream",
     "text": [
      "enter temperature: 32.986564\n"
     ]
    },
    {
     "name": "stdout",
     "output_type": "stream",
     "text": [
      "89.3758152\n"
     ]
    }
   ],
   "source": [
    "# we knows that the formula to convert the temperature into is: F = C(9/5) + 32\n",
    "celsius=float(input(\"enter temperature:\"))\n",
    "fahrenheit=celsius*(9/5)+30\n",
    "print(fahrenheit)"
   ]
  },
  {
   "cell_type": "code",
   "execution_count": 22,
   "id": "745dd8c8-45a8-4fce-940c-723a4707ff03",
   "metadata": {},
   "outputs": [],
   "source": [
    "#TOPIC: String Based Questions"
   ]
  },
  {
   "cell_type": "code",
   "execution_count": 23,
   "id": "d05951b6-12df-48e2-8ab0-7d6de6e19c18",
   "metadata": {},
   "outputs": [],
   "source": [
    "#1. Write a Python program that takes a string as input and prints the length of\n",
    "#   the string."
   ]
  },
  {
   "cell_type": "code",
   "execution_count": 26,
   "id": "2054f93b-71bf-40e7-893a-e5455f8d4496",
   "metadata": {},
   "outputs": [
    {
     "name": "stdin",
     "output_type": "stream",
     "text": [
      "enter the string: I am PW student\n"
     ]
    },
    {
     "name": "stdout",
     "output_type": "stream",
     "text": [
      "15\n"
     ]
    }
   ],
   "source": [
    "string=str(input(\"enter the string:\"))\n",
    "print(len(string))"
   ]
  },
  {
   "cell_type": "code",
   "execution_count": 27,
   "id": "bfab8dfe-8b5b-41b0-9f68-cfd9122e355a",
   "metadata": {},
   "outputs": [],
   "source": [
    "#2. Create a program that takes a sentence from the user and counts the number\n",
    "#   of vowels (a, e, i, o, u) in the string."
   ]
  },
  {
   "cell_type": "code",
   "execution_count": 32,
   "id": "d030368a-e861-4369-9687-0a3f760f4198",
   "metadata": {},
   "outputs": [
    {
     "name": "stdin",
     "output_type": "stream",
     "text": [
      "enter sentence I am a good student\n"
     ]
    },
    {
     "name": "stdout",
     "output_type": "stream",
     "text": [
      "7\n"
     ]
    }
   ],
   "source": [
    "sentence=str(input(\"enter sentence\"))\n",
    "vowels=\"aeiouAEIOU\"\n",
    "count=0\n",
    "for i in sentence:\n",
    "    if i in vowels:\n",
    "        count=count+1\n",
    "print(count)"
   ]
  },
  {
   "cell_type": "code",
   "execution_count": 33,
   "id": "319997db-867f-435f-ab2a-10f4e95c28fa",
   "metadata": {},
   "outputs": [],
   "source": [
    "#3. Given a string, reverse the order of characters using string slicing and print\n",
    "#   the reversed string."
   ]
  },
  {
   "cell_type": "code",
   "execution_count": 42,
   "id": "512df3cb-2216-46df-aad1-a144a6c0427e",
   "metadata": {},
   "outputs": [
    {
     "name": "stdout",
     "output_type": "stream",
     "text": [
      "I am PW student\n"
     ]
    }
   ],
   "source": [
    "string=\"tneduts WP ma I\"\n",
    "print(string[::-1])"
   ]
  },
  {
   "cell_type": "code",
   "execution_count": 43,
   "id": "24b8b26e-6dbf-4495-8b4a-a1b1280631fa",
   "metadata": {},
   "outputs": [],
   "source": [
    "#4. Write a program that takes a string as input and checks if it is a palindrome\n",
    "#   (reads the same forwards and backwards)."
   ]
  },
  {
   "cell_type": "code",
   "execution_count": 46,
   "id": "7f2d656e-fd8d-4684-9669-7af1820708e3",
   "metadata": {},
   "outputs": [
    {
     "name": "stdin",
     "output_type": "stream",
     "text": [
      "enter string to check palindrome abccba\n"
     ]
    },
    {
     "name": "stdout",
     "output_type": "stream",
     "text": [
      "It is palindrome\n"
     ]
    }
   ],
   "source": [
    "string=str(input(\"enter string to check palindrome\"))\n",
    "rev_string=string[::-1]\n",
    "if string==rev_string:\n",
    "    print(\"It is palindrome\")\n",
    "else:\n",
    "    print(\"It is not palindrome\")"
   ]
  },
  {
   "cell_type": "code",
   "execution_count": 47,
   "id": "76757093-f2ef-488a-ba00-8fba9e8f3655",
   "metadata": {},
   "outputs": [
    {
     "name": "stdin",
     "output_type": "stream",
     "text": [
      " I am PW Student. I am learning Python.\n"
     ]
    },
    {
     "name": "stdout",
     "output_type": "stream",
     "text": [
      "IamPWStudent.IamlearningPython.\n"
     ]
    }
   ],
   "source": [
    "#5. Create a program that takes a string as input and removes all the spaces from\n",
    "#   it. Print the modified string without spaces.\n",
    "\n",
    "string=str(input())\n",
    "without_space_string=string.replace(\" \",\"\")\n",
    "print(without_space_string)"
   ]
  },
  {
   "cell_type": "code",
   "execution_count": null,
   "id": "adff97f2-8184-4fb4-b241-458e0f6f3b1f",
   "metadata": {},
   "outputs": [],
   "source": []
  }
 ],
 "metadata": {
  "kernelspec": {
   "display_name": "Python 3 (ipykernel)",
   "language": "python",
   "name": "python3"
  },
  "language_info": {
   "codemirror_mode": {
    "name": "ipython",
    "version": 3
   },
   "file_extension": ".py",
   "mimetype": "text/x-python",
   "name": "python",
   "nbconvert_exporter": "python",
   "pygments_lexer": "ipython3",
   "version": "3.10.8"
  }
 },
 "nbformat": 4,
 "nbformat_minor": 5
}

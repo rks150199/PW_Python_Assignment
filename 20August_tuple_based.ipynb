{
 "cells": [
  {
   "cell_type": "markdown",
   "id": "1f3b8749-8f05-40b7-855a-8c1fefdfc028",
   "metadata": {},
   "source": [
    "1. Create a tuple with integers from 1 to 5."
   ]
  },
  {
   "cell_type": "code",
   "execution_count": 2,
   "id": "3fe28363-d2fe-4954-9d2e-bcbfeafc5321",
   "metadata": {},
   "outputs": [],
   "source": [
    "my_tuple = (1, 2, 3, 4, 5)"
   ]
  },
  {
   "cell_type": "markdown",
   "id": "c1fe6cfa-c836-4189-85dc-8fee89a9b68e",
   "metadata": {},
   "source": [
    "\n",
    "2. Access the third element of a tuple."
   ]
  },
  {
   "cell_type": "code",
   "execution_count": 5,
   "id": "fb3027e8-4bd2-46dc-8d08-039a7e4dfa73",
   "metadata": {},
   "outputs": [
    {
     "data": {
      "text/plain": [
       "3"
      ]
     },
     "execution_count": 5,
     "metadata": {},
     "output_type": "execute_result"
    }
   ],
   "source": [
    "my_tuple = (1, 2, 3, 4, 5)\n",
    "n=3\n",
    "my_tuple[n-1]"
   ]
  },
  {
   "cell_type": "markdown",
   "id": "5a0c82f9-054a-4015-b904-8428f5968ba8",
   "metadata": {},
   "source": [
    "3. Find the length of a tuple without using the `len()` function."
   ]
  },
  {
   "cell_type": "code",
   "execution_count": 9,
   "id": "577cbcf2-1b5a-4431-b37a-c78fe7ba4751",
   "metadata": {},
   "outputs": [
    {
     "name": "stdout",
     "output_type": "stream",
     "text": [
      "6\n"
     ]
    }
   ],
   "source": [
    "my_tuple = (1, 2, 3, 4, 5, 6)\n",
    "count=0\n",
    "for i in my_tuple:\n",
    "    count=count+1\n",
    "print(count)"
   ]
  },
  {
   "cell_type": "markdown",
   "id": "3a49ccdd-b059-4fe3-82a1-35ec17651867",
   "metadata": {},
   "source": [
    "4. Count the occurrences of an element in a tuple."
   ]
  },
  {
   "cell_type": "code",
   "execution_count": 13,
   "id": "e15fc4da-1468-4f37-8a02-91935742e718",
   "metadata": {},
   "outputs": [
    {
     "data": {
      "text/plain": [
       "3"
      ]
     },
     "execution_count": 13,
     "metadata": {},
     "output_type": "execute_result"
    }
   ],
   "source": [
    "my_tuple = (1, 2, 3, 4, 5, 6, 3, 3, 6, 1)\n",
    "element=3\n",
    "my_tuple.count(element)"
   ]
  },
  {
   "cell_type": "markdown",
   "id": "5cd70f89-f103-4ba5-9fae-67f26fab3316",
   "metadata": {},
   "source": [
    "5. Find the index of the first occurrence of an element in a tuple."
   ]
  },
  {
   "cell_type": "code",
   "execution_count": 15,
   "id": "d0c05350-e44b-4ab6-9fc1-b17f5aead80a",
   "metadata": {},
   "outputs": [
    {
     "data": {
      "text/plain": [
       "3"
      ]
     },
     "execution_count": 15,
     "metadata": {},
     "output_type": "execute_result"
    }
   ],
   "source": [
    "my_tuple = (1, 2, 3, 4, 5, 6, 3, 3, 6, 1)\n",
    "my_tuple.index(4)"
   ]
  },
  {
   "cell_type": "markdown",
   "id": "26387345-bf0d-4156-be4b-ce23110cc725",
   "metadata": {},
   "source": [
    "6. Check if an element exists in a tuple."
   ]
  },
  {
   "cell_type": "code",
   "execution_count": 21,
   "id": "53eaa361-77e0-412b-805f-c3eaaa7a9dd1",
   "metadata": {},
   "outputs": [
    {
     "name": "stdin",
     "output_type": "stream",
     "text": [
      "enter element 5\n"
     ]
    },
    {
     "name": "stdout",
     "output_type": "stream",
     "text": [
      "yes element exists\n"
     ]
    }
   ],
   "source": [
    "my_tuple = (1, 2, 3, 4, 5, 6, 3, 3, 6, 1)\n",
    "i=int(input(\"enter element\"))\n",
    "if i in my_tuple:\n",
    "    print(\"yes element exists\")\n",
    "else: \n",
    "    print(\"No element does not exists\")"
   ]
  },
  {
   "cell_type": "markdown",
   "id": "deee1ad7-caa3-42f4-9b0a-12123cb9d682",
   "metadata": {},
   "source": [
    "7. Convert a tuple to a list."
   ]
  },
  {
   "cell_type": "code",
   "execution_count": 22,
   "id": "aef84594-8a27-41db-b8ee-6ebf9a582cfb",
   "metadata": {},
   "outputs": [
    {
     "data": {
      "text/plain": [
       "[1, 2, 3, 4, 5, 6, 3, 3, 6, 1]"
      ]
     },
     "execution_count": 22,
     "metadata": {},
     "output_type": "execute_result"
    }
   ],
   "source": [
    "my_tuple = (1, 2, 3, 4, 5, 6, 3, 3, 6, 1)\n",
    "list(my_tuple)"
   ]
  },
  {
   "cell_type": "markdown",
   "id": "25e69cd1-f4ec-4867-b3af-94278ea5db5d",
   "metadata": {},
   "source": [
    "8. Convert a list to a tuple."
   ]
  },
  {
   "cell_type": "code",
   "execution_count": 24,
   "id": "99b87873-3ed0-48b1-818f-64dea6d77b59",
   "metadata": {},
   "outputs": [
    {
     "data": {
      "text/plain": [
       "(1, 2, 3, 4, 5, 6, 3, 3, 6, 1)"
      ]
     },
     "execution_count": 24,
     "metadata": {},
     "output_type": "execute_result"
    }
   ],
   "source": [
    "my_list=[1, 2, 3, 4, 5, 6, 3, 3, 6, 1]\n",
    "tuple(my_list)     "
   ]
  },
  {
   "cell_type": "markdown",
   "id": "4eb44a27-78bd-4900-8935-703881eebb84",
   "metadata": {},
   "source": [
    "9. Unpack the elements of a tuple into variables."
   ]
  },
  {
   "cell_type": "code",
   "execution_count": 33,
   "id": "8fd34971-ea3c-4449-b6fb-174d8a8664b1",
   "metadata": {},
   "outputs": [
    {
     "name": "stdout",
     "output_type": "stream",
     "text": [
      "1 2 3 4 5\n"
     ]
    }
   ],
   "source": [
    "my_tuple = (1, 2, 3, 4, 5)\n",
    "a, b, c, d, e= my_tuple\n",
    "print(a,b,c,d,e)"
   ]
  },
  {
   "cell_type": "markdown",
   "id": "8f4e5f69-7dfa-49c7-8e16-4f69a3e19e11",
   "metadata": {},
   "source": [
    "10. Create a tuple of even numbers from 1 to 10."
   ]
  },
  {
   "cell_type": "code",
   "execution_count": 34,
   "id": "1b3fd181-bf5e-4869-8e03-63829ab73e75",
   "metadata": {},
   "outputs": [
    {
     "data": {
      "text/plain": [
       "(2, 4, 6, 8, 10)"
      ]
     },
     "execution_count": 34,
     "metadata": {},
     "output_type": "execute_result"
    }
   ],
   "source": [
    "l=[]\n",
    "for i in range(1,11):\n",
    "    if i%2==0:\n",
    "        l.append(i)\n",
    "tuple(l)"
   ]
  },
  {
   "cell_type": "markdown",
   "id": "96f3f8cf-9b4c-46ca-aedf-ee157f838246",
   "metadata": {},
   "source": [
    "11. Create a tuple of odd numbers from 1 to 10."
   ]
  },
  {
   "cell_type": "code",
   "execution_count": 35,
   "id": "121ef95a-7782-40e7-b88d-d9fcd2d083a0",
   "metadata": {},
   "outputs": [
    {
     "data": {
      "text/plain": [
       "(1, 3, 5, 7, 9)"
      ]
     },
     "execution_count": 35,
     "metadata": {},
     "output_type": "execute_result"
    }
   ],
   "source": [
    "l=[]\n",
    "for i in range(1,11):\n",
    "    if i%2!=0:\n",
    "        l.append(i)\n",
    "tuple(l)"
   ]
  },
  {
   "cell_type": "markdown",
   "id": "7e79e425-5fc0-4106-8317-d140935b7ed5",
   "metadata": {},
   "source": [
    "12. Concatenate two tuples."
   ]
  },
  {
   "cell_type": "code",
   "execution_count": 36,
   "id": "fd763214-d194-4567-8a17-a3ebfe81ca41",
   "metadata": {},
   "outputs": [
    {
     "data": {
      "text/plain": [
       "(1, 2, 3, 4, 5, 3, 4, 5, 6, 7)"
      ]
     },
     "execution_count": 36,
     "metadata": {},
     "output_type": "execute_result"
    }
   ],
   "source": [
    "tuple1=(1,2,3,4,5)\n",
    "tuple2=(3,4,5,6,7)\n",
    "tuple1+tuple2"
   ]
  },
  {
   "cell_type": "markdown",
   "id": "5b9460cb-eadb-44df-97d5-8018cffe18fc",
   "metadata": {},
   "source": [
    "13. Repeat a tuple three times."
   ]
  },
  {
   "cell_type": "code",
   "execution_count": 37,
   "id": "fbdbddfd-1d4b-4c5f-8802-98b17b4900da",
   "metadata": {},
   "outputs": [
    {
     "name": "stdout",
     "output_type": "stream",
     "text": [
      "(1, 2, 3, 4, 5, 1, 2, 3, 4, 5, 1, 2, 3, 4, 5)\n"
     ]
    }
   ],
   "source": [
    "tuple1=(1,2,3,4,5)\n",
    "print(3*tuple1)"
   ]
  },
  {
   "cell_type": "markdown",
   "id": "24273ec3-99bb-4a1a-bc17-9e2989c334f7",
   "metadata": {},
   "source": [
    "14. Check if a tuple is empty."
   ]
  },
  {
   "cell_type": "code",
   "execution_count": 46,
   "id": "f1b8a602-15f8-420a-81d6-5b9e006159cf",
   "metadata": {},
   "outputs": [
    {
     "name": "stdout",
     "output_type": "stream",
     "text": [
      "False\n",
      "True\n"
     ]
    }
   ],
   "source": [
    "my_tuple = (1, 2, 3, 4, 5, 6)\n",
    "tup1=()\n",
    "is_empty = not bool(my_tuple)\n",
    "print(is_empty)\n",
    "is_empty = not bool(tup1)\n",
    "print(is_empty)"
   ]
  },
  {
   "cell_type": "markdown",
   "id": "942f231f-2dc6-465e-929f-9a4e6d55a187",
   "metadata": {},
   "source": [
    "15. Create a nested tuple."
   ]
  },
  {
   "cell_type": "code",
   "execution_count": 48,
   "id": "0de7bbe7-4f72-40be-b06e-bcf8905f7453",
   "metadata": {},
   "outputs": [
    {
     "data": {
      "text/plain": [
       "((1, 2, 3, 4, 5), (3, 4, 5, 6, 7), (), (1, 2, 3, 4, 5, 6))"
      ]
     },
     "execution_count": 48,
     "metadata": {},
     "output_type": "execute_result"
    }
   ],
   "source": [
    "tuple1=(1,2,3,4,5)\n",
    "tuple2=(3,4,5,6,7)\n",
    "tup1=()\n",
    "my_tuple = (1, 2, 3, 4, 5, 6)\n",
    "nested_tuple = (tuple1,tuple2,tup1,my_tuple)\n",
    "nested_tuple"
   ]
  },
  {
   "cell_type": "markdown",
   "id": "dbe74754-4836-404e-9557-94626fdcd18f",
   "metadata": {},
   "source": [
    "16. Access the first element of a nested tuple."
   ]
  },
  {
   "cell_type": "code",
   "execution_count": 49,
   "id": "c9fe7bdb-0803-4c6e-a0d3-7425d37b3b0c",
   "metadata": {},
   "outputs": [
    {
     "data": {
      "text/plain": [
       "(1, 2, 3, 4, 5)"
      ]
     },
     "execution_count": 49,
     "metadata": {},
     "output_type": "execute_result"
    }
   ],
   "source": [
    "tuple1=(1,2,3,4,5)\n",
    "tuple2=(3,4,5,6,7)\n",
    "tup1=()\n",
    "my_tuple = (1, 2, 3, 4, 5, 6)\n",
    "nested_tuple = (tuple1,tuple2,tup1,my_tuple)\n",
    "nested_tuple[0]"
   ]
  },
  {
   "cell_type": "markdown",
   "id": "b9a7b212-b6bf-44c7-b19f-f56ac98744ce",
   "metadata": {},
   "source": [
    "\n",
    "17. Create a tuple with a single element."
   ]
  },
  {
   "cell_type": "code",
   "execution_count": 51,
   "id": "fd92219f-58f2-442a-9a68-9b5ce0595b63",
   "metadata": {},
   "outputs": [
    {
     "data": {
      "text/plain": [
       "('rahul',)"
      ]
     },
     "execution_count": 51,
     "metadata": {},
     "output_type": "execute_result"
    }
   ],
   "source": [
    "tup1=(\"rahul\",)\n",
    "tup1"
   ]
  },
  {
   "cell_type": "markdown",
   "id": "7abc9205-1a73-447c-9238-cba136dcb96c",
   "metadata": {},
   "source": [
    "\n",
    "18. Compare two tuples."
   ]
  },
  {
   "cell_type": "code",
   "execution_count": 56,
   "id": "022f5055-1024-4773-8f2c-0f74436d9eae",
   "metadata": {},
   "outputs": [
    {
     "data": {
      "text/plain": [
       "True"
      ]
     },
     "execution_count": 56,
     "metadata": {},
     "output_type": "execute_result"
    }
   ],
   "source": [
    "tuple1=(3,4,5)\n",
    "tuple2=(3,4,5)\n",
    "are_equal = tuple1 == tuple2\n",
    "are_equal"
   ]
  },
  {
   "cell_type": "markdown",
   "id": "f24fbbdc-7941-47ea-af97-a0618c807e4a",
   "metadata": {},
   "source": [
    "19. Delete a tuple."
   ]
  },
  {
   "cell_type": "code",
   "execution_count": 59,
   "id": "17311e7b-461f-4e32-a38d-f0263dacc953",
   "metadata": {},
   "outputs": [],
   "source": [
    "tup1=(\"rahul\",)\n",
    "del tup1"
   ]
  },
  {
   "cell_type": "markdown",
   "id": "fe5ac462-b384-4fd1-8533-3dada25523ea",
   "metadata": {},
   "source": [
    "\n",
    "\n",
    "20. Slice a tuple."
   ]
  },
  {
   "cell_type": "code",
   "execution_count": 60,
   "id": "37e3705e-c134-4b78-ae7f-5d0fd00b8116",
   "metadata": {},
   "outputs": [
    {
     "data": {
      "text/plain": [
       "(1, 2, 3)"
      ]
     },
     "execution_count": 60,
     "metadata": {},
     "output_type": "execute_result"
    }
   ],
   "source": [
    "my_tuple = (1, 2, 3, 4, 5, 6)\n",
    "my_tuple[:3]"
   ]
  },
  {
   "cell_type": "markdown",
   "id": "b5b957d0-cb7d-465c-8611-38c9de7a6829",
   "metadata": {},
   "source": [
    "21. Find the maximum value in a tuple."
   ]
  },
  {
   "cell_type": "code",
   "execution_count": 61,
   "id": "e6846499-038f-4a90-a9f8-8848fea68538",
   "metadata": {},
   "outputs": [
    {
     "data": {
      "text/plain": [
       "6"
      ]
     },
     "execution_count": 61,
     "metadata": {},
     "output_type": "execute_result"
    }
   ],
   "source": [
    "my_tuple = (1, 2, 3, 4, 5, 6)\n",
    "max(my_tuple)"
   ]
  },
  {
   "cell_type": "markdown",
   "id": "de04c3ba-34f6-40ca-8c5b-c54a907e1765",
   "metadata": {},
   "source": [
    "22. Find the minimum value in a tuple."
   ]
  },
  {
   "cell_type": "code",
   "execution_count": 62,
   "id": "427d766d-fc7a-4b50-b5b9-d1699231dd50",
   "metadata": {},
   "outputs": [
    {
     "data": {
      "text/plain": [
       "1"
      ]
     },
     "execution_count": 62,
     "metadata": {},
     "output_type": "execute_result"
    }
   ],
   "source": [
    "my_tuple = (1, 2, 3, 4, 5, 6)\n",
    "min(my_tuple)"
   ]
  },
  {
   "cell_type": "markdown",
   "id": "83ced204-cf5e-4267-9f56-69d655c0ff6d",
   "metadata": {},
   "source": [
    "23. Convert a string to a tuple of characters."
   ]
  },
  {
   "cell_type": "code",
   "execution_count": 64,
   "id": "b0ef28b7-8709-4111-b302-49e7876e9446",
   "metadata": {},
   "outputs": [
    {
     "data": {
      "text/plain": [
       "('r', 'a', 'h', 'u', 'l')"
      ]
     },
     "execution_count": 64,
     "metadata": {},
     "output_type": "execute_result"
    }
   ],
   "source": [
    "string=\"rahul\"\n",
    "tuple(list(string))"
   ]
  },
  {
   "cell_type": "markdown",
   "id": "6ae6e9ac-99e3-4f44-9d7c-fb362a4686df",
   "metadata": {},
   "source": [
    "24. Convert a tuple of characters to a string."
   ]
  },
  {
   "cell_type": "code",
   "execution_count": 70,
   "id": "941f4561-738a-4a21-9881-6d4cc00adce9",
   "metadata": {},
   "outputs": [
    {
     "name": "stdout",
     "output_type": "stream",
     "text": [
      "rahul\n"
     ]
    },
    {
     "data": {
      "text/plain": [
       "str"
      ]
     },
     "execution_count": 70,
     "metadata": {},
     "output_type": "execute_result"
    }
   ],
   "source": [
    "tup=('r', 'a', 'h', 'u', 'l')\n",
    "string=\"\"\n",
    "for i in tup:\n",
    "    string=string+i\n",
    "print(string)\n",
    "type(string)"
   ]
  },
  {
   "cell_type": "markdown",
   "id": "79051910-6576-4c9d-8195-f77d70e11ddb",
   "metadata": {},
   "source": [
    "25. Create a tuple from multiple data types."
   ]
  },
  {
   "cell_type": "code",
   "execution_count": 72,
   "id": "60c2583a-77a5-40c9-99dc-e7cd0aee466a",
   "metadata": {},
   "outputs": [
    {
     "data": {
      "text/plain": [
       "(1, 'hello', 3.14, [4, 5])"
      ]
     },
     "execution_count": 72,
     "metadata": {},
     "output_type": "execute_result"
    }
   ],
   "source": [
    "mixed_tuple = (1, 'hello', 3.14, [4, 5])\n",
    "mixed_tuple"
   ]
  },
  {
   "cell_type": "markdown",
   "id": "964fc5b7-da74-4b5c-b236-0553b3eea7da",
   "metadata": {},
   "source": [
    "26. Check if two tuples are identical."
   ]
  },
  {
   "cell_type": "code",
   "execution_count": 74,
   "id": "c275f54d-899b-41b1-9372-89920fa3aca7",
   "metadata": {},
   "outputs": [
    {
     "name": "stdout",
     "output_type": "stream",
     "text": [
      "True\n"
     ]
    }
   ],
   "source": [
    "tuple1=(3,4,5)\n",
    "tuple2=(3,4,5)\n",
    "are_identical = tuple1 == tuple2\n",
    "print(are_identical)"
   ]
  },
  {
   "cell_type": "markdown",
   "id": "4a36fb3d-660a-446b-baab-4dc650afb932",
   "metadata": {},
   "source": [
    "\n",
    "27. Sort the elements of a tuple."
   ]
  },
  {
   "cell_type": "code",
   "execution_count": 78,
   "id": "25156362-907a-4e4a-aeec-58609ba35e4e",
   "metadata": {},
   "outputs": [
    {
     "data": {
      "text/plain": [
       "[1, 1, 1, 2, 2, 2, 3, 3, 3, 4, 4, 4, 5, 5, 5]"
      ]
     },
     "execution_count": 78,
     "metadata": {},
     "output_type": "execute_result"
    }
   ],
   "source": [
    "tuple1=(1, 2, 3, 4, 5, 1, 2, 3, 4, 5, 1, 2, 3, 4, 5)\n",
    "sorted(tuple1)"
   ]
  },
  {
   "cell_type": "markdown",
   "id": "4b240d8a-7125-486f-9525-6a16d81e77d9",
   "metadata": {},
   "source": [
    "28. Convert a tuple of integers to a tuple of strings."
   ]
  },
  {
   "cell_type": "code",
   "execution_count": 88,
   "id": "442c6328-2d3b-4a50-9961-b39bd28a8f83",
   "metadata": {},
   "outputs": [
    {
     "data": {
      "text/plain": [
       "('1', '2', '3', '4', '5', '1', '2', '3', '4', '5', '1', '2', '3', '4', '5')"
      ]
     },
     "execution_count": 88,
     "metadata": {},
     "output_type": "execute_result"
    }
   ],
   "source": [
    "tuple1=(1, 2, 3, 4, 5, 1, 2, 3, 4, 5, 1, 2, 3, 4, 5)\n",
    "l=[]\n",
    "for i in tuple1:\n",
    "    l.append(str(i))\n",
    "tuple(l)\n",
    "    "
   ]
  },
  {
   "cell_type": "markdown",
   "id": "9bdf59e5-4f01-46cb-9cd0-3239eadc6442",
   "metadata": {},
   "source": [
    "\n",
    "29. Convert a tuple of strings to a tuple of integers."
   ]
  },
  {
   "cell_type": "code",
   "execution_count": 89,
   "id": "5d70732c-9ea4-4d33-a2de-357476126057",
   "metadata": {},
   "outputs": [
    {
     "name": "stdout",
     "output_type": "stream",
     "text": [
      "(1, 2, 3, 4, 5, 3, 4, 5)\n"
     ]
    }
   ],
   "source": [
    "string_tuple=('1', '2', '3', '4', '5', '3', '4', '5')\n",
    "l=[]\n",
    "for i in string_tuple:\n",
    "    l.append(int(i))\n",
    "print(tuple(l))"
   ]
  },
  {
   "cell_type": "markdown",
   "id": "ba91f46b-c708-4733-a789-cc0d4f68f9bc",
   "metadata": {},
   "source": [
    "\n",
    "30. Merge two tuples."
   ]
  },
  {
   "cell_type": "code",
   "execution_count": 90,
   "id": "f2ddcab7-a37d-4ecf-93c5-c3a289a52191",
   "metadata": {},
   "outputs": [
    {
     "name": "stdout",
     "output_type": "stream",
     "text": [
      "(3, 4, 5, 3, 4, 'rahul')\n"
     ]
    }
   ],
   "source": [
    "tuple1=(3,4,5)\n",
    "tuple2=(3,4,\"rahul\")\n",
    "merge=tuple1+tuple2\n",
    "print(merge)"
   ]
  },
  {
   "cell_type": "markdown",
   "id": "19e946d7-7dbc-41be-87d7-18e9b2530b51",
   "metadata": {},
   "source": [
    "31. Flatten a nested tuple."
   ]
  },
  {
   "cell_type": "code",
   "execution_count": 98,
   "id": "87f70a12-24e4-4ef9-adb3-4d488b23504e",
   "metadata": {},
   "outputs": [
    {
     "data": {
      "text/plain": [
       "(1, 2, 3, 4, 5, 3, 4, 5, 6, 7, 1, 2, 3, 4, 5, 6)"
      ]
     },
     "execution_count": 98,
     "metadata": {},
     "output_type": "execute_result"
    }
   ],
   "source": [
    "nested_tuple=((1, 2, 3, 4, 5), (3, 4, 5, 6, 7),(1, 2, 3, 4, 5, 6))\n",
    "l=[]\n",
    "for i in nested_tuple:\n",
    "    for j in i:\n",
    "        l.append(j)\n",
    "tuple(l)"
   ]
  },
  {
   "cell_type": "markdown",
   "id": "2901abf7-751e-4463-b077-84ce143da2a5",
   "metadata": {},
   "source": [
    "32. Create a tuple of the first 5 prime numbers."
   ]
  },
  {
   "cell_type": "code",
   "execution_count": 1,
   "id": "74fb7d88-012a-4f13-a9d9-fbf31fe6ae7c",
   "metadata": {},
   "outputs": [
    {
     "name": "stdout",
     "output_type": "stream",
     "text": [
      "(2, 3, 5, 7, 11)\n"
     ]
    }
   ],
   "source": [
    "l=[]\n",
    "for num in range(1,1000):\n",
    "    if num > 1:\n",
    "        for i in range(2, num):\n",
    "            if (num % i) == 0:\n",
    "                break\n",
    "        else:\n",
    "            l.append(num)\n",
    "print(tuple(l[:5]))"
   ]
  },
  {
   "cell_type": "markdown",
   "id": "62baf9ec-6f48-4234-b455-3a56b99f000c",
   "metadata": {},
   "source": [
    "33. Check if a tuple is a palindrome."
   ]
  },
  {
   "cell_type": "code",
   "execution_count": 2,
   "id": "4c85f4f4-3eda-449c-8145-1d60fb494ebb",
   "metadata": {},
   "outputs": [
    {
     "name": "stdout",
     "output_type": "stream",
     "text": [
      "tuple is a palindrome\n"
     ]
    }
   ],
   "source": [
    "my_tuple=(1,2,3,3,2,1)\n",
    "is_palindrome = my_tuple == my_tuple[::-1]\n",
    "if is_palindrome:\n",
    "    print(\"tuple is a palindrome\")\n",
    "else:\n",
    "    print(\"tuple is not palindrome\")"
   ]
  },
  {
   "cell_type": "markdown",
   "id": "1407f67a-5a3e-4e35-980e-30a88c2ea080",
   "metadata": {},
   "source": [
    "34. Create a tuple of squares of numbers from 1 to 5."
   ]
  },
  {
   "cell_type": "code",
   "execution_count": 3,
   "id": "0bfe7de0-3f5e-46c3-a5b9-a695155c3fee",
   "metadata": {},
   "outputs": [
    {
     "data": {
      "text/plain": [
       "(1, 4, 9, 16, 25)"
      ]
     },
     "execution_count": 3,
     "metadata": {},
     "output_type": "execute_result"
    }
   ],
   "source": [
    "l=[]\n",
    "for i in range(1,6):\n",
    "    l.append(i**2)\n",
    "tuple(l)"
   ]
  },
  {
   "cell_type": "markdown",
   "id": "5fac3f50-e18e-4b82-bd02-0062b2ac857e",
   "metadata": {},
   "source": [
    "\n",
    "35. Filter out all even numbers from a tuple."
   ]
  },
  {
   "cell_type": "code",
   "execution_count": 4,
   "id": "c956f140-0c4e-4b60-a55b-bdc27c57a033",
   "metadata": {},
   "outputs": [
    {
     "data": {
      "text/plain": [
       "(2, 4, 4)"
      ]
     },
     "execution_count": 4,
     "metadata": {},
     "output_type": "execute_result"
    }
   ],
   "source": [
    "this_tuple=(1, 2, 3, 4, 5, 3, 4, 5)\n",
    "l=[]\n",
    "for i in this_tuple:\n",
    "    if i%2==0:\n",
    "        l.append(i)\n",
    "tuple(l)"
   ]
  },
  {
   "cell_type": "markdown",
   "id": "c67e8bfd-01d9-4409-9419-1d949bbbc22c",
   "metadata": {},
   "source": [
    "\n",
    "36. Multiply all elements in a tuple by 2."
   ]
  },
  {
   "cell_type": "code",
   "execution_count": 5,
   "id": "b452b4d1-2bc4-44a8-8313-cf088362e057",
   "metadata": {},
   "outputs": [
    {
     "data": {
      "text/plain": [
       "(2, 4, 6, 8, 10, 6, 8, 10)"
      ]
     },
     "execution_count": 5,
     "metadata": {},
     "output_type": "execute_result"
    }
   ],
   "source": [
    "this_tuple=(1, 2, 3, 4, 5, 3, 4, 5)\n",
    "l=[]\n",
    "for i in this_tuple:\n",
    "    l.append(2*i)\n",
    "tuple(l)"
   ]
  },
  {
   "cell_type": "markdown",
   "id": "6dee79eb-a3bf-4630-8a71-b7418e55e26b",
   "metadata": {},
   "source": [
    "37. Create a tuple of random numbers."
   ]
  },
  {
   "cell_type": "code",
   "execution_count": 6,
   "id": "682b7d63-5cca-431d-9893-9268ba01ee29",
   "metadata": {},
   "outputs": [
    {
     "data": {
      "text/plain": [
       "(77, 39, 15, 99, 85)"
      ]
     },
     "execution_count": 6,
     "metadata": {},
     "output_type": "execute_result"
    }
   ],
   "source": [
    "import random\n",
    "l=[]\n",
    "for i in range(0,5):\n",
    "    val=random.randint(1,100)\n",
    "    l.append(val)\n",
    "tuple(l)"
   ]
  },
  {
   "cell_type": "markdown",
   "id": "8a41e1d8-247f-4287-bce0-9a3b0d92d4ac",
   "metadata": {},
   "source": [
    "\n",
    "38. Check if a tuple is sorted."
   ]
  },
  {
   "cell_type": "code",
   "execution_count": 7,
   "id": "16adc483-1ac5-4d23-a80a-b124e125b9be",
   "metadata": {},
   "outputs": [
    {
     "name": "stdout",
     "output_type": "stream",
     "text": [
      "sorted\n"
     ]
    }
   ],
   "source": [
    "#tuple1=(69, 58, 70, 82, 40)\n",
    "tuple1=(1,2,3,4,5,6,7)\n",
    "tuple2=tuple(sorted(tuple1))\n",
    "if tuple1==tuple2:\n",
    "    print(\"sorted\")\n",
    "else:\n",
    "    print(\"not sorted\")"
   ]
  },
  {
   "cell_type": "markdown",
   "id": "2692f7ae-f82e-4e7a-a5e1-37a5d8f86079",
   "metadata": {},
   "source": [
    "39. Rotate a tuple to the left by `n` positions."
   ]
  },
  {
   "cell_type": "code",
   "execution_count": 19,
   "id": "66b1de8e-58b1-49ed-b499-7a66f0d34b78",
   "metadata": {},
   "outputs": [
    {
     "name": "stdout",
     "output_type": "stream",
     "text": [
      "(4, 5, 6, 7, 1, 2, 3)\n"
     ]
    }
   ],
   "source": [
    "tuple1=(1,2,3,4,5,6,7)\n",
    "n=3\n",
    "l_tuple=tuple1[:n]\n",
    "r_tuple=tuple1[n:]\n",
    "new_tuple=r_tuple+l_tuple\n",
    "print(new_tuple)"
   ]
  },
  {
   "cell_type": "markdown",
   "id": "d7371d68-a960-4e99-a290-16429f0151dd",
   "metadata": {},
   "source": [
    "\n",
    "40. Rotate a tuple to the right by `n` positions."
   ]
  },
  {
   "cell_type": "code",
   "execution_count": 15,
   "id": "d8ace76f-43fc-45b3-8fbe-c5a0c2733ec7",
   "metadata": {},
   "outputs": [
    {
     "name": "stdout",
     "output_type": "stream",
     "text": [
      "(4, 5, 6, 7, 1, 2, 3)\n"
     ]
    }
   ],
   "source": [
    "tuple1=(1,2,3,4,5,6,7)\n",
    "n=3\n",
    "l_tuple=tuple1[:n]\n",
    "r_tuple=tuple1[n:]\n",
    "new_tuple=r_tuple+l_tuple\n",
    "print(new_tuple)"
   ]
  },
  {
   "cell_type": "markdown",
   "id": "022eea23-2238-413b-875e-45fa276df789",
   "metadata": {},
   "source": [
    "41. Create a tuple of the first 5 Fibonacci numbers."
   ]
  },
  {
   "cell_type": "code",
   "execution_count": 27,
   "id": "f724a9d8-29be-4ca7-9678-8d6b654de179",
   "metadata": {},
   "outputs": [
    {
     "data": {
      "text/plain": [
       "(0, 1, 1, 2, 3)"
      ]
     },
     "execution_count": 27,
     "metadata": {},
     "output_type": "execute_result"
    }
   ],
   "source": [
    "def fibo(n):\n",
    "    if n<0:\n",
    "        print(\"invalid input\")\n",
    "    elif n==0:\n",
    "        return 0\n",
    "    elif n==1 or n==2:\n",
    "        return 1\n",
    "    else:\n",
    "        return fibo(n-1)+fibo(n-2)\n",
    "l=[]\n",
    "for i in range(5):\n",
    "    l.append(fibo(i))\n",
    "tuple(l)        "
   ]
  },
  {
   "cell_type": "markdown",
   "id": "09ef095c-f295-4af3-9071-eea61f0cdddd",
   "metadata": {},
   "source": [
    "42. Create a tuple from user input."
   ]
  },
  {
   "cell_type": "code",
   "execution_count": 29,
   "id": "758723f6-89ad-4c1a-a7ae-eb6aba829c73",
   "metadata": {},
   "outputs": [
    {
     "name": "stdin",
     "output_type": "stream",
     "text": [
      "Enter number of elements :  5\n",
      " 6\n",
      " 1\n",
      " 3\n",
      " 2\n",
      " 6\n"
     ]
    },
    {
     "name": "stdout",
     "output_type": "stream",
     "text": [
      "(6, 1, 3, 2, 6)\n"
     ]
    }
   ],
   "source": [
    "l=[]\n",
    "n = int(input(\"Enter number of elements : \"))\n",
    "for i in range(0, n):\n",
    "    ele = int(input())\n",
    "    l.append(ele) \n",
    "print(tuple(l))"
   ]
  },
  {
   "cell_type": "markdown",
   "id": "a48ce3cc-df6b-4f3a-b9e9-28cc087a74c6",
   "metadata": {},
   "source": [
    "43. Swap two elements in a tuple."
   ]
  },
  {
   "cell_type": "code",
   "execution_count": 42,
   "id": "d00a75b1-8337-42e7-a791-935531031485",
   "metadata": {},
   "outputs": [
    {
     "name": "stdout",
     "output_type": "stream",
     "text": [
      "(19, 65, 23, 90)\n"
     ]
    }
   ],
   "source": [
    "def swapPositions(list,pos1,pos2): \n",
    "    list[pos1],list[pos2]=list[pos2],list[pos1]\n",
    "    return list\n",
    "tuple1=(23,65,19,90)\n",
    "List=list(tuple1)\n",
    "pos1,pos2=1,3\n",
    "print(tuple(swapPositions(List, pos1-1, pos2-1)))"
   ]
  },
  {
   "cell_type": "markdown",
   "id": "662ff95c-a365-4402-93c6-74f36b1f0a55",
   "metadata": {},
   "source": [
    "44. Reverse the elements of a tuple."
   ]
  },
  {
   "cell_type": "code",
   "execution_count": 43,
   "id": "97cdf6e3-97b9-438e-9250-e025b09c3a24",
   "metadata": {},
   "outputs": [
    {
     "data": {
      "text/plain": [
       "(6, 2, 3, 1, 6)"
      ]
     },
     "execution_count": 43,
     "metadata": {},
     "output_type": "execute_result"
    }
   ],
   "source": [
    "Tuple=(6, 1, 3, 2, 6)\n",
    "Tuple[::-1]"
   ]
  },
  {
   "cell_type": "markdown",
   "id": "5a9f2dd9-b5d3-4993-b587-f0670170db99",
   "metadata": {},
   "source": [
    "\n",
    "45. Create a tuple of the first `n` powers of 2."
   ]
  },
  {
   "cell_type": "code",
   "execution_count": 47,
   "id": "ce1889c5-4891-4f37-80b4-87fd61752d75",
   "metadata": {},
   "outputs": [
    {
     "data": {
      "text/plain": [
       "[1, 4, 9, 16, 25]"
      ]
     },
     "execution_count": 47,
     "metadata": {},
     "output_type": "execute_result"
    }
   ],
   "source": [
    "l=[]\n",
    "n=5\n",
    "for i in range(1,n+1):\n",
    "    l.append(i**2)\n",
    "l"
   ]
  },
  {
   "cell_type": "markdown",
   "id": "84269d13-17e0-4602-b84b-8de8e15301fe",
   "metadata": {},
   "source": [
    "46. Find the longest string in a tuple of strings."
   ]
  },
  {
   "cell_type": "code",
   "execution_count": 50,
   "id": "65079791-bafd-4a8d-8e72-24b30454a2f8",
   "metadata": {},
   "outputs": [
    {
     "name": "stdout",
     "output_type": "stream",
     "text": [
      "longest\n"
     ]
    }
   ],
   "source": [
    "Tuple=('find', 'the', 'longest', 'string', 'words', 'in', 'a', 'list')\n",
    "word=Tuple[0]\n",
    "for i in Tuple:\n",
    "    if len(i)>=len(word):\n",
    "        word=i\n",
    "print(word)"
   ]
  },
  {
   "cell_type": "markdown",
   "id": "1ba4bc86-0301-4583-9a08-dea6cabbe4c7",
   "metadata": {},
   "source": [
    "47. Find the shortest string in a tuple of strings."
   ]
  },
  {
   "cell_type": "code",
   "execution_count": 51,
   "id": "10297034-2e69-49f7-a550-c6c52c71efe3",
   "metadata": {},
   "outputs": [
    {
     "name": "stdout",
     "output_type": "stream",
     "text": [
      "a\n"
     ]
    }
   ],
   "source": [
    "Tuple=('find', 'the', 'longest', 'string', 'words', 'in', 'a', 'list')\n",
    "short=Tuple[0]\n",
    "for i in Tuple:\n",
    "    if len(i)<=len(short):\n",
    "        short=i\n",
    "print(short)"
   ]
  },
  {
   "cell_type": "markdown",
   "id": "af3c1cf4-5428-4a94-b6f3-b9ed9ef44faf",
   "metadata": {},
   "source": [
    "48. Create a tuple of the first `n` triangular numbers."
   ]
  },
  {
   "cell_type": "code",
   "execution_count": 1,
   "id": "62a9b796-3f9f-47cd-8274-28db18feca76",
   "metadata": {},
   "outputs": [
    {
     "data": {
      "text/plain": [
       "(1, 3, 6, 10, 15)"
      ]
     },
     "execution_count": 1,
     "metadata": {},
     "output_type": "execute_result"
    }
   ],
   "source": [
    "n=5\n",
    "l=[]\n",
    "for i in range(1,n+1):\n",
    "    i=i*(i+1)//2\n",
    "    l.append(i)\n",
    "tuple(l)"
   ]
  },
  {
   "cell_type": "markdown",
   "id": "4a33f6ec-c4f1-48e4-bc5e-b4f0bfc2518d",
   "metadata": {},
   "source": [
    "49. Check if a tuple contains another tuple as a subsequence."
   ]
  },
  {
   "cell_type": "code",
   "execution_count": 57,
   "id": "93d612a0-5a0d-4da8-8c50-eba98ca525fc",
   "metadata": {},
   "outputs": [
    {
     "name": "stdout",
     "output_type": "stream",
     "text": [
      "False\n"
     ]
    }
   ],
   "source": [
    "def is_subsequence(subseq, seq):\n",
    "    subseq_str = ''.join(map(str, subseq))\n",
    "    seq_str = ''.join(map(str, seq))\n",
    "    return subseq_str in seq_str\n",
    "Tuple1=(1, 2, 3, 4, 5, 6, 7)\n",
    "larger_list=list(Tuple1)\n",
    "Tuple2=(2, 4, 6)\n",
    "smaller_list=list(Tuple2)\n",
    "result = is_subsequence(smaller_list, larger_list)\n",
    "print(result)"
   ]
  },
  {
   "cell_type": "markdown",
   "id": "ace89417-5151-4da5-9bb6-045f271c48d5",
   "metadata": {},
   "source": [
    "50. Create a tuple of alternating 1s and 0s of length `n`."
   ]
  },
  {
   "cell_type": "code",
   "execution_count": 2,
   "id": "f0620283-3143-444a-91da-502d33f6a990",
   "metadata": {},
   "outputs": [
    {
     "data": {
      "text/plain": [
       "[1, 0, 1, 0, 1, 0, 1, 0, 1, 0]"
      ]
     },
     "execution_count": 2,
     "metadata": {},
     "output_type": "execute_result"
    }
   ],
   "source": [
    "n = 10\n",
    "l=[]\n",
    "for i in range(1,n+1):\n",
    "    if i%2==0:\n",
    "        l.append(0)\n",
    "    else:\n",
    "        l.append(1)\n",
    "l"
   ]
  }
 ],
 "metadata": {
  "kernelspec": {
   "display_name": "Python 3 (ipykernel)",
   "language": "python",
   "name": "python3"
  },
  "language_info": {
   "codemirror_mode": {
    "name": "ipython",
    "version": 3
   },
   "file_extension": ".py",
   "mimetype": "text/x-python",
   "name": "python",
   "nbconvert_exporter": "python",
   "pygments_lexer": "ipython3",
   "version": "3.10.11"
  }
 },
 "nbformat": 4,
 "nbformat_minor": 5
}

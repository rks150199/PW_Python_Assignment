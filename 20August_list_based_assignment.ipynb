{
 "cells": [
  {
   "cell_type": "markdown",
   "id": "61b8a0ad-9e79-42c3-9f4d-d403005c848f",
   "metadata": {},
   "source": [
    "1. Create a list with integers from 1 to 10."
   ]
  },
  {
   "cell_type": "code",
   "execution_count": 2,
   "id": "b489521c-7672-401a-8288-98fdb8b5452b",
   "metadata": {},
   "outputs": [
    {
     "data": {
      "text/plain": [
       "[0, 1, 2, 3, 4, 5, 6, 7, 8, 9, 10]"
      ]
     },
     "execution_count": 2,
     "metadata": {},
     "output_type": "execute_result"
    }
   ],
   "source": [
    "l=list(range(11))\n",
    "l"
   ]
  },
  {
   "cell_type": "markdown",
   "id": "2e36563a-60ab-4a9d-886d-9cc531c4f5dc",
   "metadata": {},
   "source": [
    "2. Find the length of a list without using the `len()` function"
   ]
  },
  {
   "cell_type": "code",
   "execution_count": 8,
   "id": "ce87d4fc-7588-4c92-9d6d-6e82f52d4ad2",
   "metadata": {},
   "outputs": [
    {
     "name": "stdout",
     "output_type": "stream",
     "text": [
      "the length of a list is : 11\n"
     ]
    }
   ],
   "source": [
    "l=[0, 1, 2, 3, 4, 5, 6, 7, 8, 9, 10]\n",
    "count=0\n",
    "for i in l:\n",
    "    if i in l:\n",
    "        count=count+1\n",
    "print(\"the length of a list is :\",count)"
   ]
  },
  {
   "cell_type": "markdown",
   "id": "89ee0ac7-f9e4-4538-99d1-4b170970bc24",
   "metadata": {},
   "source": [
    "3. Append an element to the end of a list."
   ]
  },
  {
   "cell_type": "code",
   "execution_count": 10,
   "id": "f6f028b7-b29e-40cb-9f48-b966069432ec",
   "metadata": {},
   "outputs": [
    {
     "data": {
      "text/plain": [
       "[0, 1, 2, 3, 4, 5, 6, 7, 8, 9, 10, 'PW Skills']"
      ]
     },
     "execution_count": 10,
     "metadata": {},
     "output_type": "execute_result"
    }
   ],
   "source": [
    "l=[0, 1, 2, 3, 4, 5, 6, 7, 8, 9, 10]\n",
    "l.append(\"PW Skills\")\n",
    "l"
   ]
  },
  {
   "cell_type": "markdown",
   "id": "d9892e9b-7cfd-497f-82da-38875a36386a",
   "metadata": {},
   "source": [
    "4. Insert an element at a specific index in a list.\n"
   ]
  },
  {
   "cell_type": "code",
   "execution_count": 40,
   "id": "b92085ad-0490-473f-85f7-b0ef6feb8162",
   "metadata": {},
   "outputs": [
    {
     "name": "stdout",
     "output_type": "stream",
     "text": [
      "[1, 2, 100, 3, 4, 5]\n"
     ]
    }
   ],
   "source": [
    "my_list = [1, 2, 3, 4, 5]\n",
    "my_list.insert(2,100)  # inserting 100 at 2 index\n",
    "print(my_list)"
   ]
  },
  {
   "cell_type": "markdown",
   "id": "7880c2dc-10fa-45a2-b0f3-2b8bddd1b4a6",
   "metadata": {},
   "source": [
    "5. Remove an element from a list by its value."
   ]
  },
  {
   "cell_type": "code",
   "execution_count": 42,
   "id": "dc234114-e48d-4e8e-8a52-f4de8a354ea5",
   "metadata": {},
   "outputs": [
    {
     "name": "stdout",
     "output_type": "stream",
     "text": [
      "[1, 3, 4, 5]\n"
     ]
    }
   ],
   "source": [
    "my_list = [1, 2, 3, 4, 5]\n",
    "my_list.remove(2)  # removing 2\n",
    "print(my_list)"
   ]
  },
  {
   "cell_type": "markdown",
   "id": "25756788-0b54-44d9-ae09-4d6d079d94bf",
   "metadata": {},
   "source": [
    "6. Remove an element from a list by its index."
   ]
  },
  {
   "cell_type": "code",
   "execution_count": 2,
   "id": "bf405eab-5fd0-4a29-a705-c2e59df78991",
   "metadata": {},
   "outputs": [
    {
     "name": "stdout",
     "output_type": "stream",
     "text": [
      " enter index 0 to 7 remove an element from a list\n"
     ]
    },
    {
     "name": "stdin",
     "output_type": "stream",
     "text": [
      " 6\n"
     ]
    },
    {
     "data": {
      "text/plain": [
       "['rahul', 'shyam', 1, 2, 3, 4, '#']"
      ]
     },
     "execution_count": 2,
     "metadata": {},
     "output_type": "execute_result"
    }
   ],
   "source": [
    "l=[\"rahul\",\"shyam\",1,2,3,4,\"@\",\"#\"]\n",
    "print(f\" enter index 0 to {len(l)-1} remove an element from a list\")\n",
    "index=int(input())\n",
    "l.pop(index)\n",
    "l"
   ]
  },
  {
   "cell_type": "markdown",
   "id": "a2af66c4-667f-4972-808d-d8940c75b796",
   "metadata": {},
   "source": [
    "7. Check if an element exists in a list."
   ]
  },
  {
   "cell_type": "code",
   "execution_count": 5,
   "id": "89e81f05-b475-4f1b-a55c-73fe5b575517",
   "metadata": {},
   "outputs": [
    {
     "name": "stdout",
     "output_type": "stream",
     "text": [
      "Element exists in the list\n"
     ]
    }
   ],
   "source": [
    "my_list = [1, 2, 3, 4, 5]\n",
    "element_to_check = 3\n",
    "\n",
    "if element_to_check in my_list:\n",
    "    print(\"Element exists in the list\")\n",
    "else:\n",
    "    print(\"Element does not exist in the list\")"
   ]
  },
  {
   "cell_type": "markdown",
   "id": "8dbcd3dd-8105-49e3-8142-be3ce3016b3c",
   "metadata": {},
   "source": [
    "8. Find the index of the first occurrence of an element in a list."
   ]
  },
  {
   "cell_type": "code",
   "execution_count": 6,
   "id": "b51ffc8d-17f3-4fa1-b877-450552610378",
   "metadata": {},
   "outputs": [
    {
     "name": "stdout",
     "output_type": "stream",
     "text": [
      "Element exists in the list at index 2\n"
     ]
    }
   ],
   "source": [
    "my_list = [1, 2, 3, 4, 5]\n",
    "element_to_check = 3\n",
    "\n",
    "try:\n",
    "    index = my_list.index(element_to_check)\n",
    "    print(f\"Element exists in the list at index {index}\")\n",
    "except ValueError:\n",
    "    print(\"Element does not exist in the list\")"
   ]
  },
  {
   "cell_type": "markdown",
   "id": "40a2a41b-250b-47c3-9517-ff1dc483a22f",
   "metadata": {},
   "source": [
    "9. Count the occurrences of an element in a list."
   ]
  },
  {
   "cell_type": "code",
   "execution_count": 9,
   "id": "b4233c83-e500-468a-9e54-e12996a0d181",
   "metadata": {},
   "outputs": [
    {
     "name": "stdout",
     "output_type": "stream",
     "text": [
      "the occurences 10 in the list is 3 times\n"
     ]
    }
   ],
   "source": [
    "my_list=[1,22,22,26,1,33,5,10,6,22,35,1,10,10]\n",
    "ele=10\n",
    "count=my_list.count(ele)\n",
    "print(f\"the occurences {ele} in the list is {count} times\")"
   ]
  },
  {
   "cell_type": "markdown",
   "id": "372903d2-1026-4373-b55c-1dfad88e1071",
   "metadata": {},
   "source": [
    "10. Reverse the order of elements in a list."
   ]
  },
  {
   "cell_type": "code",
   "execution_count": 12,
   "id": "22c80df1-8951-4aac-a2ba-0cad98b7f3ee",
   "metadata": {},
   "outputs": [
    {
     "data": {
      "text/plain": [
       "[10, 10, 1, 35, 22, 6, 10, 5, 33, 1, 26, 22, 22, 1]"
      ]
     },
     "execution_count": 12,
     "metadata": {},
     "output_type": "execute_result"
    }
   ],
   "source": [
    "my_list=[1,22,22,26,1,33,5,10,6,22,35,1,10,10]\n",
    "my_list.reverse()\n",
    "my_list"
   ]
  },
  {
   "cell_type": "code",
   "execution_count": 14,
   "id": "2d525c86-0d30-48b8-ae1b-3e4a8c14c863",
   "metadata": {},
   "outputs": [
    {
     "data": {
      "text/plain": [
       "[10, 10, 1, 35, 22, 6, 10, 5, 33, 1, 26, 22, 22, 1]"
      ]
     },
     "execution_count": 14,
     "metadata": {},
     "output_type": "execute_result"
    }
   ],
   "source": [
    "#there are another method\n",
    "my_list=[1,22,22,26,1,33,5,10,6,22,35,1,10,10]\n",
    "my_list[::-1]"
   ]
  },
  {
   "cell_type": "markdown",
   "id": "e2f103bb-6a61-434d-bfd0-05a7592b528f",
   "metadata": {},
   "source": [
    "11. Sort a list in ascending order.\n"
   ]
  },
  {
   "cell_type": "code",
   "execution_count": 16,
   "id": "35adfc32-cac0-4953-b586-dfcae98872c0",
   "metadata": {},
   "outputs": [
    {
     "data": {
      "text/plain": [
       "[1, 1, 1, 5, 6, 10, 10, 10, 22, 22, 22, 26, 33, 35]"
      ]
     },
     "execution_count": 16,
     "metadata": {},
     "output_type": "execute_result"
    }
   ],
   "source": [
    "my_list=[1,22,22,26,1,33,5,10,6,22,35,1,10,10]\n",
    "my_list.sort() # this function is used to short the list \n",
    "my_list"
   ]
  },
  {
   "cell_type": "markdown",
   "id": "c24947cf-4f75-4d7c-8741-0fa8cceeb4fa",
   "metadata": {},
   "source": [
    "12. Sort a list in descending order."
   ]
  },
  {
   "cell_type": "code",
   "execution_count": 17,
   "id": "1eecc350-dd88-4a9c-a373-8f6cad9007e4",
   "metadata": {},
   "outputs": [
    {
     "data": {
      "text/plain": [
       "[35, 33, 26, 22, 22, 22, 10, 10, 10, 6, 5, 1, 1, 1]"
      ]
     },
     "execution_count": 17,
     "metadata": {},
     "output_type": "execute_result"
    }
   ],
   "source": [
    "my_list=[1,22,22,26,1,33,5,10,6,22,35,1,10,10]\n",
    "my_list.sort() # this function is used to short the list \n",
    "my_list[::-1] # reverse the list in decending order"
   ]
  },
  {
   "cell_type": "markdown",
   "id": "29940356-3290-4b37-af49-f1a24f9f664b",
   "metadata": {},
   "source": [
    "\n",
    "13. Create a list of even numbers from 1 to 20."
   ]
  },
  {
   "cell_type": "code",
   "execution_count": 30,
   "id": "2f47adb9-87ae-4fad-b8a7-d345176360a0",
   "metadata": {},
   "outputs": [
    {
     "name": "stdout",
     "output_type": "stream",
     "text": [
      "[1, 3, 5, 7, 9, 11, 13, 15, 17, 19]\n"
     ]
    }
   ],
   "source": [
    "even_list=[]\n",
    "for i in range(1,21):\n",
    "    if i%2!=0:\n",
    "        even_list.append(i)\n",
    "print(even_list)"
   ]
  },
  {
   "cell_type": "markdown",
   "id": "41f4ddc9-e2aa-4356-91b5-623e4c299b3b",
   "metadata": {},
   "source": [
    "14. Create a list of odd numbers from 1 to 20."
   ]
  },
  {
   "cell_type": "code",
   "execution_count": 31,
   "id": "98663860-8f28-4f58-8a6c-81c08046272d",
   "metadata": {},
   "outputs": [
    {
     "name": "stdout",
     "output_type": "stream",
     "text": [
      "[2, 4, 6, 8, 10, 12, 14, 16, 18, 20]\n"
     ]
    }
   ],
   "source": [
    "odd_list=[]\n",
    "for i in range(1,21):\n",
    "    if i%2==0:\n",
    "        odd_list.append(i)\n",
    "print(odd_list)"
   ]
  },
  {
   "cell_type": "markdown",
   "id": "09f7b8f8-1dce-4410-b2c4-59c3a170585c",
   "metadata": {},
   "source": [
    "15. Find the sum of all elements in a list."
   ]
  },
  {
   "cell_type": "code",
   "execution_count": 39,
   "id": "39a6e592-061a-428b-bd93-908bce764aa1",
   "metadata": {},
   "outputs": [
    {
     "name": "stdout",
     "output_type": "stream",
     "text": [
      "sum of the list is 110\n"
     ]
    }
   ],
   "source": [
    "my_list=[2, 4, 6, 8, 10, 12, 14, 16, 18, 20]\n",
    "sum=0\n",
    "for i in range(len(my_list)):\n",
    "    sum=my_list[i]+sum\n",
    "print(f\"sum of the list is {sum}\")"
   ]
  },
  {
   "cell_type": "markdown",
   "id": "d8de4269-7cc2-4b6f-b372-171a4e092da2",
   "metadata": {},
   "source": [
    "16. Find the maximum value in a list."
   ]
  },
  {
   "cell_type": "code",
   "execution_count": 42,
   "id": "7f889015-06a0-4a05-9ec6-0fe006b9d0aa",
   "metadata": {},
   "outputs": [
    {
     "name": "stdout",
     "output_type": "stream",
     "text": [
      "35\n"
     ]
    }
   ],
   "source": [
    "my_list=[1,22,22,26,1,33,5,10,6,22,35,1,10,10]\n",
    "print(max(my_list))"
   ]
  },
  {
   "cell_type": "code",
   "execution_count": 47,
   "id": "cb56218c-b79f-4a8c-899a-916f94eb727c",
   "metadata": {},
   "outputs": [
    {
     "name": "stdout",
     "output_type": "stream",
     "text": [
      "35\n"
     ]
    }
   ],
   "source": [
    "# another method\n",
    "my_list=[1,22,22,26,1,33,5,10,6,22,35,1,10,10]\n",
    "max=my_list[0]\n",
    "for i in my_list:\n",
    "    if i>max:\n",
    "        max=i\n",
    "print(max)"
   ]
  },
  {
   "cell_type": "markdown",
   "id": "fa728225-50d4-44bd-9547-0b4792463267",
   "metadata": {},
   "source": [
    "17. Find the minimum value in a list."
   ]
  },
  {
   "cell_type": "code",
   "execution_count": 48,
   "id": "c3115c87-171b-46f6-b8f7-2bf6878f344f",
   "metadata": {},
   "outputs": [
    {
     "name": "stdout",
     "output_type": "stream",
     "text": [
      "1\n"
     ]
    }
   ],
   "source": [
    "my_list=[1,22,22,26,1,33,5,10,6,22,35,1,10,10]\n",
    "print(min(my_list))"
   ]
  },
  {
   "cell_type": "code",
   "execution_count": 49,
   "id": "fc00483f-c72f-4849-b12b-2bd45a5873e1",
   "metadata": {},
   "outputs": [
    {
     "name": "stdout",
     "output_type": "stream",
     "text": [
      "1\n"
     ]
    }
   ],
   "source": [
    "#another method without min()\n",
    "my_list=[1,22,22,26,1,33,5,10,6,22,35,1,10,10]\n",
    "min=my_list[0]\n",
    "for i in my_list:\n",
    "    if i<min:\n",
    "        min=i\n",
    "print(min)"
   ]
  },
  {
   "cell_type": "markdown",
   "id": "f7695c0b-a247-4cd1-902c-08c0a85b418d",
   "metadata": {},
   "source": [
    "\n",
    "18. Create a list of squares of numbers from 1 to 10."
   ]
  },
  {
   "cell_type": "code",
   "execution_count": 52,
   "id": "50de1858-29a5-46d1-aca2-c2e05ba1cc0b",
   "metadata": {},
   "outputs": [
    {
     "name": "stdout",
     "output_type": "stream",
     "text": [
      "[1, 4, 9, 16, 25, 36, 49, 64, 81, 100]\n"
     ]
    }
   ],
   "source": [
    "sq_list=[]\n",
    "for i in range(1,11):\n",
    "    sq_list.append(i**2)\n",
    "print(sq_list)"
   ]
  },
  {
   "cell_type": "markdown",
   "id": "b2e20696-b319-48fa-8dd9-9712676eda8e",
   "metadata": {},
   "source": [
    "19. Create a list of random numbers."
   ]
  },
  {
   "cell_type": "code",
   "execution_count": 64,
   "id": "2b872b71-2264-4742-963f-effa69096a9d",
   "metadata": {},
   "outputs": [
    {
     "name": "stdout",
     "output_type": "stream",
     "text": [
      "[33, 59, 93, 5, 44, 82, 81, 73, 21, 35]\n"
     ]
    }
   ],
   "source": [
    "import random\n",
    "n=10 #total list random number \n",
    "l=[]\n",
    "for i in range(n):\n",
    "    num=random.randint(1,100)\n",
    "    l.append(num)\n",
    "print(l)"
   ]
  },
  {
   "cell_type": "markdown",
   "id": "8226cb99-4a1c-468e-b05d-6450d30768d1",
   "metadata": {},
   "source": [
    "20. Remove duplicates from a list."
   ]
  },
  {
   "cell_type": "code",
   "execution_count": 73,
   "id": "5f88bade-770b-41cb-9eec-408ed759d5b8",
   "metadata": {},
   "outputs": [
    {
     "data": {
      "text/plain": [
       "[1, 33, 35, 5, 6, 10, 22, 26]"
      ]
     },
     "execution_count": 73,
     "metadata": {},
     "output_type": "execute_result"
    }
   ],
   "source": [
    "my_list=[1,22,22,26,1,33,5,10,6,22,35,1,10,10]\n",
    "s=set(my_list)\n",
    "new_list=list(s)\n",
    "new_list"
   ]
  },
  {
   "cell_type": "markdown",
   "id": "0e784ee0-c75c-42e9-844d-9795bb3339c0",
   "metadata": {},
   "source": [
    "21. Find the common elements between two lists."
   ]
  },
  {
   "cell_type": "code",
   "execution_count": 5,
   "id": "1af1c5e7-773c-45a4-8949-fd73357c9460",
   "metadata": {},
   "outputs": [
    {
     "data": {
      "text/plain": [
       "[3, 4, 5]"
      ]
     },
     "execution_count": 5,
     "metadata": {},
     "output_type": "execute_result"
    }
   ],
   "source": [
    "list1 = [1, 2, 3, 4, 5]\n",
    "list2 = [3, 4, 5, 6, 7]\n",
    "comm_list=list(set(list1).intersection(set(list2)))\n",
    "comm_list"
   ]
  },
  {
   "cell_type": "markdown",
   "id": "719d1082-6a8b-4e8a-be9e-576a94056afd",
   "metadata": {},
   "source": [
    "\n",
    "22. Find the difference between two lists."
   ]
  },
  {
   "cell_type": "code",
   "execution_count": 6,
   "id": "f4a880c2-aea8-4785-887e-74a4fd8d7faf",
   "metadata": {},
   "outputs": [
    {
     "data": {
      "text/plain": [
       "[1, 2, 3, 4, 5, 6, 7]"
      ]
     },
     "execution_count": 6,
     "metadata": {},
     "output_type": "execute_result"
    }
   ],
   "source": [
    "list1 = [1, 2, 3, 4, 5]\n",
    "list2 = [3, 4, 5, 6, 7]\n",
    "comm_list=list(set(list1).union(set(list2)))\n",
    "comm_list"
   ]
  },
  {
   "cell_type": "markdown",
   "id": "9c3aae2d-7408-487a-9009-cc14a02389df",
   "metadata": {},
   "source": [
    "\n",
    "23. Merge two lists."
   ]
  },
  {
   "cell_type": "code",
   "execution_count": 17,
   "id": "a77fd6dd-24a6-46cf-b1d3-0300dd76a382",
   "metadata": {},
   "outputs": [
    {
     "data": {
      "text/plain": [
       "[1, 2, 3, 4, 5, 3, 4, 5, 6, 7]"
      ]
     },
     "execution_count": 17,
     "metadata": {},
     "output_type": "execute_result"
    }
   ],
   "source": [
    "list1 = [1, 2, 3, 4, 5]\n",
    "list2 = [3, 4, 5, 6, 7]\n",
    "list1.extend(list2) #merging in list1\n",
    "list1"
   ]
  },
  {
   "cell_type": "code",
   "execution_count": 18,
   "id": "45086aad-0ccf-4ff6-920b-caaedab2d01a",
   "metadata": {},
   "outputs": [
    {
     "data": {
      "text/plain": [
       "[3, 4, 5, 6, 7, 1, 2, 3, 4, 5]"
      ]
     },
     "execution_count": 18,
     "metadata": {},
     "output_type": "execute_result"
    }
   ],
   "source": [
    "list1 = [1, 2, 3, 4, 5]\n",
    "list2 = [3, 4, 5, 6, 7]\n",
    "list2.extend(list1) #merging in list2\n",
    "list2"
   ]
  },
  {
   "cell_type": "markdown",
   "id": "8dfbe996-f3e8-4158-9e8b-468e340af5d9",
   "metadata": {},
   "source": [
    "24. Multiply all elements in a list by 2."
   ]
  },
  {
   "cell_type": "code",
   "execution_count": 24,
   "id": "b0a135a5-11f7-4217-8163-d8670e572c86",
   "metadata": {},
   "outputs": [
    {
     "data": {
      "text/plain": [
       "[2, 4, 6, 8, 10]"
      ]
     },
     "execution_count": 24,
     "metadata": {},
     "output_type": "execute_result"
    }
   ],
   "source": [
    "list1 = [1, 2, 3, 4, 5]\n",
    "new_list=[]\n",
    "for i in list1:\n",
    "    new_list.append(i*2)\n",
    "new_list"
   ]
  },
  {
   "cell_type": "markdown",
   "id": "703c68aa-970f-4c36-8cbf-40d3dbdbdc21",
   "metadata": {},
   "source": [
    "25. Filter out all even numbers from a list."
   ]
  },
  {
   "cell_type": "code",
   "execution_count": 26,
   "id": "a14875ea-7dad-4beb-b2d5-e97277e230ba",
   "metadata": {},
   "outputs": [
    {
     "data": {
      "text/plain": [
       "[1, 3, 5]"
      ]
     },
     "execution_count": 26,
     "metadata": {},
     "output_type": "execute_result"
    }
   ],
   "source": [
    "list1 = [1, 2, 3, 4, 5]\n",
    "new_list=[]\n",
    "for i in list1:\n",
    "    if i%2!=0:\n",
    "        new_list.append(i)\n",
    "new_list"
   ]
  },
  {
   "cell_type": "markdown",
   "id": "b7f3ff80-ba9b-431c-b9f4-9b8c8fc35bf8",
   "metadata": {},
   "source": [
    "26. Convert a list of strings to a list of integers."
   ]
  },
  {
   "cell_type": "code",
   "execution_count": 28,
   "id": "a816bc50-b9eb-441e-aa6e-d2ad1a616f99",
   "metadata": {},
   "outputs": [
    {
     "data": {
      "text/plain": [
       "[1, 2, 3, 4, 5]"
      ]
     },
     "execution_count": 28,
     "metadata": {},
     "output_type": "execute_result"
    }
   ],
   "source": [
    "string_list = [\"1\", \"2\", \"3\", \"4\", \"5\"]\n",
    "integer_list = []\n",
    "for i in string_list:\n",
    "    integer_list.append(int(i))\n",
    "integer_list"
   ]
  },
  {
   "cell_type": "markdown",
   "id": "3e57220c-e90e-4d0f-93f5-ff7784ad6878",
   "metadata": {},
   "source": [
    "27. Convert a list of integers to a list of strings."
   ]
  },
  {
   "cell_type": "code",
   "execution_count": 29,
   "id": "80bfb478-c148-4240-8cb4-e7da054a5bfe",
   "metadata": {},
   "outputs": [
    {
     "data": {
      "text/plain": [
       "['1', '2', '3', '4', '5']"
      ]
     },
     "execution_count": 29,
     "metadata": {},
     "output_type": "execute_result"
    }
   ],
   "source": [
    "integer_list = [1, 2, 3, 4, 5]\n",
    "string_list=[]\n",
    "for i in integer_list:\n",
    "    string_list.append(str(i))\n",
    "string_list"
   ]
  },
  {
   "cell_type": "markdown",
   "id": "1cfe6ab8-97b4-469c-a771-0e5a19d67635",
   "metadata": {},
   "source": [
    "28. Flatten a nested list."
   ]
  },
  {
   "cell_type": "code",
   "execution_count": 33,
   "id": "ba47218c-fc35-4100-b3ce-02bab410a46d",
   "metadata": {},
   "outputs": [
    {
     "data": {
      "text/plain": [
       "[1, 2, 3, 4, 5, 6, 7, 8]"
      ]
     },
     "execution_count": 33,
     "metadata": {},
     "output_type": "execute_result"
    }
   ],
   "source": [
    "nested_list = [[1, 2, 3], [4, 5], [6, 7, 8]]\n",
    "flatten_list=[]\n",
    "for i in nested_list:\n",
    "    for j in i:\n",
    "        flatten_list.append(j)\n",
    "flatten_list        "
   ]
  },
  {
   "cell_type": "markdown",
   "id": "95323f78-a989-4eff-a5ef-0481948428d4",
   "metadata": {},
   "source": [
    "29. Create a list of the first 10 Fibonacci numbers."
   ]
  },
  {
   "cell_type": "code",
   "execution_count": 52,
   "id": "5fe870ab-e7fd-4eb8-9b8a-fd40f4e6380f",
   "metadata": {},
   "outputs": [
    {
     "data": {
      "text/plain": [
       "[0, 1, 1, 2, 3, 5, 8, 13, 21, 34]"
      ]
     },
     "execution_count": 52,
     "metadata": {},
     "output_type": "execute_result"
    }
   ],
   "source": [
    "def Fibonacci(n):\n",
    "    if n == 0:\n",
    "        return 0\n",
    "    elif n == 1 or n == 2:\n",
    "        return 1\n",
    "    else:\n",
    "        return Fibonacci(n-1) + Fibonacci(n-2)\n",
    "fibo_list=[]\n",
    "for i in range(0,10):\n",
    "    fibo_list.append(Fibonacci(i))\n",
    "fibo_list"
   ]
  },
  {
   "cell_type": "markdown",
   "id": "0534f275-2473-46aa-bcbf-8426021a164d",
   "metadata": {},
   "source": [
    "\n",
    "30. Check if a list is sorted."
   ]
  },
  {
   "cell_type": "code",
   "execution_count": 92,
   "id": "3c59d244-beef-44a5-8b1b-b11f308cf960",
   "metadata": {},
   "outputs": [
    {
     "name": "stdout",
     "output_type": "stream",
     "text": [
      "[1, 22, 22, 26, 1, 33, 5, 10, 6, 22, 35, 1, 10, 10]\n",
      "[1, 1, 1, 5, 6, 10, 10, 10, 22, 22, 22, 26, 33, 35]\n",
      "No list is not sorted\n"
     ]
    }
   ],
   "source": [
    "my_list=[1,22,22,26,1,33,5,10,6,22,35,1,10,10]\n",
    "#my_list=[0, 1, 1, 2, 3, 5, 8, 13, 21, 34]\n",
    "new_list=[]\n",
    "for i in my_list:\n",
    "    new_list.append(i)\n",
    "print(new_list)\n",
    "my_list.sort()\n",
    "print(my_list)\n",
    "if new_list==my_list:\n",
    "    print(\"yes list is sorted\")\n",
    "else:\n",
    "    print(\"No list is not sorted\")"
   ]
  },
  {
   "cell_type": "markdown",
   "id": "bb32e790-45ee-4434-9d0c-346a6163d0dd",
   "metadata": {},
   "source": [
    "\n",
    "\n",
    "\n",
    "\n",
    "\n",
    "\n",
    "\n",
    "\n"
   ]
  },
  {
   "cell_type": "markdown",
   "id": "39260c06-278f-43c8-99a7-90c020c53010",
   "metadata": {},
   "source": [
    "31. Rotate a list to the left by `n` positions."
   ]
  },
  {
   "cell_type": "code",
   "execution_count": 17,
   "id": "6810c3b2-001f-44e1-92c3-d1b04da1c6f0",
   "metadata": {},
   "outputs": [
    {
     "name": "stdout",
     "output_type": "stream",
     "text": [
      "[4, 5, 6, 7, 8, 1, 2, 3]\n"
     ]
    }
   ],
   "source": [
    "n=3\n",
    "list1=[1, 2, 3, 4, 5, 6, 7, 8]\n",
    "left_list=list1[:n]\n",
    "right_list=list1[n: ]\n",
    "right_list.extend(left_list)\n",
    "print(right_list)"
   ]
  },
  {
   "cell_type": "markdown",
   "id": "bc1b2837-a84c-45c4-b7b5-23f656e18f95",
   "metadata": {},
   "source": [
    "32. Rotate a list to the right by `n` positions."
   ]
  },
  {
   "cell_type": "code",
   "execution_count": 22,
   "id": "dda2e39e-02c7-482a-9fb8-1a595afa5506",
   "metadata": {},
   "outputs": [
    {
     "name": "stdout",
     "output_type": "stream",
     "text": [
      "[4, 5, 6, 7, 8, 9, 10, 11]\n"
     ]
    }
   ],
   "source": [
    "n=3\n",
    "list1=[9,10,11, 4, 5, 6, 7, 8]\n",
    "left_list=list1[:n]\n",
    "right_list=list1[n: ]\n",
    "right_list.extend(left_list)\n",
    "print(right_list)"
   ]
  },
  {
   "cell_type": "markdown",
   "id": "972e5523-07a7-4850-a956-40e7692a4b1f",
   "metadata": {},
   "source": [
    "33. Create a list of prime numbers up to 50."
   ]
  },
  {
   "cell_type": "code",
   "execution_count": 1,
   "id": "4c89da72-cf4f-414d-80ae-4007a4ac5463",
   "metadata": {},
   "outputs": [
    {
     "name": "stdout",
     "output_type": "stream",
     "text": [
      "[2, 3, 5, 7, 11, 13, 17, 19, 23, 29, 31, 37, 41, 43, 47]\n"
     ]
    }
   ],
   "source": [
    "l=[]\n",
    "for num in range(1,50):\n",
    "    if num>1:\n",
    "        for i in range(2, num):\n",
    "           if (num % i) == 0:\n",
    "               break\n",
    "        else:\n",
    "            l.append(num)\n",
    "print(l)"
   ]
  },
  {
   "cell_type": "markdown",
   "id": "120ef1bf-ef2e-4058-a6ef-1a938fa9ab57",
   "metadata": {},
   "source": [
    "34. Split a list into chunks of size `n`."
   ]
  },
  {
   "cell_type": "code",
   "execution_count": 4,
   "id": "f01b35aa-33db-4a8f-98dd-b618833e86bc",
   "metadata": {},
   "outputs": [
    {
     "name": "stdout",
     "output_type": "stream",
     "text": [
      "[[1, 2, 3], [4, 5, 6], [7, 8, 9]]\n"
     ]
    }
   ],
   "source": [
    "def chunk_list(input_list, n):\n",
    "    for i in range(0, len(input_list), n):\n",
    "        yield input_list[i:i + n]\n",
    "\n",
    "# Example usage:\n",
    "my_list = [1, 2, 3, 4, 5, 6, 7, 8, 9]\n",
    "chunk_size = 3\n",
    "chunks = list(chunk_list(my_list, chunk_size))\n",
    "print(chunks)"
   ]
  },
  {
   "cell_type": "markdown",
   "id": "27d80ede-d787-4d90-8397-4ad386f76075",
   "metadata": {},
   "source": [
    "\n",
    "\n",
    "35. Find the second largest number in a list."
   ]
  },
  {
   "cell_type": "code",
   "execution_count": 18,
   "id": "15db0d74-6045-4e28-acc8-54727c3ff5ad",
   "metadata": {},
   "outputs": [
    {
     "name": "stdout",
     "output_type": "stream",
     "text": [
      "second highest is : 43\n",
      "[2, 3, 5, 7, 11, 13, 17, 19, 23, 29, 31, 37, 41, 43, 47]\n"
     ]
    }
   ],
   "source": [
    "l=[2,3, 5, 7, 11, 13, 17, 19, 23, 29, 31, 37, 41, 43, 47]\n",
    "new_list=[]\n",
    "maximum=max(l)\n",
    "l.remove(maximum)\n",
    "second_highest=max(l)\n",
    "print(\"second highest is :\",second_highest)\n",
    "l.append(maximum)\n",
    "print(l)"
   ]
  },
  {
   "cell_type": "markdown",
   "id": "4a44889f-8510-4611-ab3c-94c6063adcdd",
   "metadata": {},
   "source": [
    "\n",
    "36. Replace every element in a list with its square."
   ]
  },
  {
   "cell_type": "code",
   "execution_count": 22,
   "id": "079b2d3f-aed0-4e78-b0f4-eeea1f0dd8b7",
   "metadata": {},
   "outputs": [
    {
     "name": "stdout",
     "output_type": "stream",
     "text": [
      "[4, 9, 25, 49, 121, 169]\n"
     ]
    }
   ],
   "source": [
    "l=[2, 3, 5, 7, 11, 13]\n",
    "new_l=[]\n",
    "for i in l:\n",
    "    new_l.append(i**2)\n",
    "print(new_l)"
   ]
  },
  {
   "cell_type": "markdown",
   "id": "c37940c1-3b91-4444-8bc3-f83b0601cf43",
   "metadata": {},
   "source": [
    "37. Convert a list to a dictionary where list elements become keys and their indices become values."
   ]
  },
  {
   "cell_type": "code",
   "execution_count": 50,
   "id": "83625a95-d997-4c3e-a8e2-390f13893f03",
   "metadata": {},
   "outputs": [
    {
     "data": {
      "text/plain": [
       "{2: 0, 3: 1, 5: 2, 7: 3, 11: 4, 13: 5}"
      ]
     },
     "execution_count": 50,
     "metadata": {},
     "output_type": "execute_result"
    }
   ],
   "source": [
    "my_list=[2, 3, 5, 7, 11, 13]\n",
    "my_dict = {element: index for index, element in enumerate(my_list)}\n",
    "my_dict"
   ]
  },
  {
   "cell_type": "markdown",
   "id": "328039af-42c6-438c-ba07-05ec57fb4275",
   "metadata": {},
   "source": [
    "38. Shuffle the elements of a list randomly."
   ]
  },
  {
   "cell_type": "code",
   "execution_count": 54,
   "id": "cba23e96-3f03-4e40-9593-ae90f8e00d6a",
   "metadata": {},
   "outputs": [
    {
     "data": {
      "text/plain": [
       "[4, 1, 3, 5, 2]"
      ]
     },
     "execution_count": 54,
     "metadata": {},
     "output_type": "execute_result"
    }
   ],
   "source": [
    "import random\n",
    "my_list = [1, 2, 3, 4, 5]\n",
    "random.shuffle(my_list)\n",
    "my_list"
   ]
  },
  {
   "cell_type": "markdown",
   "id": "915f737d-439b-4039-9e6a-0a64a6a19cfd",
   "metadata": {},
   "source": [
    "\n",
    "39. Create a list of the first 10 factorial numbers."
   ]
  },
  {
   "cell_type": "code",
   "execution_count": 78,
   "id": "ed7dfa02-ab29-4575-aff6-24f13aec4ff6",
   "metadata": {},
   "outputs": [
    {
     "name": "stdout",
     "output_type": "stream",
     "text": [
      "[1, 1, 2, 6, 24, 120, 720, 5040, 40320, 362880]\n"
     ]
    }
   ],
   "source": [
    "def factorial(n):\n",
    "    if n < 0:\n",
    "        return \"Factorial is not defined for negative numbers\"\n",
    "    elif n == 0 or n == 1:\n",
    "        return 1\n",
    "    else:\n",
    "        return n * factorial(n - 1)\n",
    "f_list=[]\n",
    "for i in range(0,10):\n",
    "    factorial(i)\n",
    "    f_list.append(factorial(i))\n",
    "print(f_list)"
   ]
  },
  {
   "cell_type": "markdown",
   "id": "78a1f643-9c33-4d8c-ba6a-86a7e3bac6f5",
   "metadata": {},
   "source": [
    "\n",
    "\n",
    "\n",
    "\n",
    "\n",
    "40. Check if two lists have at least one element in common."
   ]
  },
  {
   "cell_type": "code",
   "execution_count": 110,
   "id": "ba946d60-4a9a-4a20-bb46-8b9a71395314",
   "metadata": {},
   "outputs": [
    {
     "name": "stdout",
     "output_type": "stream",
     "text": [
      "there is common element 5\n"
     ]
    }
   ],
   "source": [
    "list1 = [1, 2, 3, 4, 5]\n",
    "list2 = [5, 6, 7, 8, 9]\n",
    "def check(list1,list2):\n",
    "    for i in list1:\n",
    "        if i in list2:\n",
    "            return True\n",
    "    return False\n",
    "if check(list1,list2)== False:\n",
    "    print(\"there is not common element\")\n",
    "else:\n",
    "    print(\"there is common element\",i)"
   ]
  },
  {
   "cell_type": "markdown",
   "id": "09426df7-4500-462b-b423-2582afa458a3",
   "metadata": {},
   "source": [
    "41. Remove all elements from a list."
   ]
  },
  {
   "cell_type": "code",
   "execution_count": 4,
   "id": "fe680a48-b66f-4906-aa6a-4f9164dc1672",
   "metadata": {},
   "outputs": [
    {
     "name": "stdout",
     "output_type": "stream",
     "text": [
      "[]\n"
     ]
    }
   ],
   "source": [
    "list1 = [1, 2, 3, 4, 5]\n",
    "list1.clear()\n",
    "print(list1)"
   ]
  },
  {
   "cell_type": "markdown",
   "id": "bf7d5cc2-2675-4dd9-97a5-d63d6ccb1ce8",
   "metadata": {},
   "source": [
    "\n",
    "42. Replace negative numbers in a list with 0."
   ]
  },
  {
   "cell_type": "code",
   "execution_count": 5,
   "id": "ef976167-bc44-4972-b63b-265625f32709",
   "metadata": {},
   "outputs": [
    {
     "name": "stdout",
     "output_type": "stream",
     "text": [
      "[1, 2, 0, 0, 5]\n"
     ]
    }
   ],
   "source": [
    "list1 = [1, 2, -3, -4, 5]\n",
    "new_list=[]\n",
    "for i in list1:\n",
    "    if i>=0:\n",
    "        new_list.append(i)\n",
    "    else:\n",
    "        new_list.append(0)\n",
    "print(new_list)\n",
    "        "
   ]
  },
  {
   "cell_type": "markdown",
   "id": "97c1803f-ed6b-49e3-b077-1573aff34398",
   "metadata": {},
   "source": [
    "43. Convert a string into a list of words."
   ]
  },
  {
   "cell_type": "code",
   "execution_count": 7,
   "id": "0abfdd67-42aa-48f2-be19-1eb02831dd6d",
   "metadata": {},
   "outputs": [
    {
     "data": {
      "text/plain": [
       "['Convert', 'a', 'string', 'into', 'a', 'list', 'of', 'words']"
      ]
     },
     "execution_count": 7,
     "metadata": {},
     "output_type": "execute_result"
    }
   ],
   "source": [
    "string=\"Convert a string into a list of words\"\n",
    "list(string.split())"
   ]
  },
  {
   "cell_type": "markdown",
   "id": "0a9946f6-9363-46fd-ac4e-9048440f0efb",
   "metadata": {},
   "source": [
    "44. Convert a list of words into a string."
   ]
  },
  {
   "cell_type": "code",
   "execution_count": 18,
   "id": "3140a814-7846-400c-9062-cd3958e4d57a",
   "metadata": {},
   "outputs": [
    {
     "data": {
      "text/plain": [
       "'Convert a list of words into a string.'"
      ]
     },
     "execution_count": 18,
     "metadata": {},
     "output_type": "execute_result"
    }
   ],
   "source": [
    "my_list=['Convert', 'a', 'list', 'of', 'words', 'into', 'a', 'string.']\n",
    "string=\" \".join(my_list)\n",
    "string"
   ]
  },
  {
   "cell_type": "markdown",
   "id": "9509835d-f5e4-49b3-8f4a-bda563b83901",
   "metadata": {},
   "source": [
    "45. Create a list of the first `n` powers of 2."
   ]
  },
  {
   "cell_type": "code",
   "execution_count": 25,
   "id": "970aee82-08f0-4570-89cf-d05c83870e91",
   "metadata": {},
   "outputs": [
    {
     "data": {
      "text/plain": [
       "[0, 1, 4, 9, 16]"
      ]
     },
     "execution_count": 25,
     "metadata": {},
     "output_type": "execute_result"
    }
   ],
   "source": [
    "l=[]\n",
    "n=5\n",
    "for i in range(n):\n",
    "    l.append(i**2)\n",
    "l"
   ]
  },
  {
   "cell_type": "markdown",
   "id": "85fbf7a4-1129-470d-9149-7d30cfcbf637",
   "metadata": {},
   "source": [
    "46. Find the longest string in a list of strings."
   ]
  },
  {
   "cell_type": "code",
   "execution_count": 29,
   "id": "86316e42-cbd8-4aad-bbce-082b3b31621b",
   "metadata": {},
   "outputs": [
    {
     "name": "stdout",
     "output_type": "stream",
     "text": [
      "longest\n"
     ]
    }
   ],
   "source": [
    "my_list=['find', 'the', 'longest', 'string', 'words', 'in', 'a', 'list']\n",
    "word=my_list[0]\n",
    "for i in my_list:\n",
    "    if len(i)>=len(word):\n",
    "        word=i\n",
    "print(word)"
   ]
  },
  {
   "cell_type": "markdown",
   "id": "3d8e3214-9720-4ac0-a0f8-68555d63188b",
   "metadata": {},
   "source": [
    "47. Find the shortest string in a list of strings."
   ]
  },
  {
   "cell_type": "code",
   "execution_count": 30,
   "id": "f4f0c6b7-1c66-4ac3-ba60-bccc3c2966c5",
   "metadata": {},
   "outputs": [
    {
     "name": "stdout",
     "output_type": "stream",
     "text": [
      "a\n"
     ]
    }
   ],
   "source": [
    "my_list=['find', 'the', 'longest', 'string', 'words', 'in', 'a', 'list']\n",
    "word=my_list[0]\n",
    "for i in my_list:\n",
    "    if len(i)<=len(word):\n",
    "        word=i\n",
    "print(word)"
   ]
  },
  {
   "cell_type": "markdown",
   "id": "bdb96ca7-299e-4f8a-b7b1-47d84fdc9620",
   "metadata": {},
   "source": [
    "\n",
    "48. Create a list of the first `n` triangular numbers."
   ]
  },
  {
   "cell_type": "code",
   "execution_count": 37,
   "id": "d9072e40-a2a1-44ba-ba68-133f0fb3c978",
   "metadata": {},
   "outputs": [
    {
     "data": {
      "text/plain": [
       "[1, 2, 3, 4, 5]"
      ]
     },
     "execution_count": 37,
     "metadata": {},
     "output_type": "execute_result"
    }
   ],
   "source": [
    "n=5\n",
    "l=[]\n",
    "for i in range(1,n+1):\n",
    "    i*(i+1)//2\n",
    "    l.append(i)\n",
    "l\n",
    "    "
   ]
  },
  {
   "cell_type": "markdown",
   "id": "9d0d5c4f-1635-4f47-905e-bd51861c6981",
   "metadata": {},
   "source": [
    "49. Check if a list contains another list as a subsequence."
   ]
  },
  {
   "cell_type": "code",
   "execution_count": 38,
   "id": "a42c7274-e1ca-4ad9-9187-5ee65f062397",
   "metadata": {},
   "outputs": [
    {
     "name": "stdout",
     "output_type": "stream",
     "text": [
      "False\n"
     ]
    }
   ],
   "source": [
    "def is_subsequence(subseq, seq):\n",
    "    subseq_str = ''.join(map(str, subseq))\n",
    "    seq_str = ''.join(map(str, seq))\n",
    "    return subseq_str in seq_str\n",
    "larger_list = [1, 2, 3, 4, 5, 6, 7]\n",
    "smaller_list = [2, 4, 6]\n",
    "result = is_subsequence(smaller_list, larger_list)\n",
    "print(result)"
   ]
  },
  {
   "cell_type": "markdown",
   "id": "b3e863bc-851c-4572-a732-02cb7ac8f92e",
   "metadata": {},
   "source": [
    "50. Swap two elements in a list by their indices."
   ]
  },
  {
   "cell_type": "code",
   "execution_count": 39,
   "id": "89336a7b-8749-4188-963d-0db78990a793",
   "metadata": {},
   "outputs": [
    {
     "name": "stdout",
     "output_type": "stream",
     "text": [
      "[1, 4, 3, 2, 5]\n"
     ]
    }
   ],
   "source": [
    "def swap_elements_by_indices(lst, index1, index2):\n",
    "    if 0 <= index1 < len(lst) and 0 <= index2 < len(lst):\n",
    "        lst[index1], lst[index2] = lst[index2], lst[index1]\n",
    "my_list = [1, 2, 3, 4, 5]\n",
    "swap_elements_by_indices(my_list, 1, 3)\n",
    "print(my_list)"
   ]
  },
  {
   "cell_type": "markdown",
   "id": "c543e982-b825-4a64-b157-d369cf5536bd",
   "metadata": {},
   "source": [
    "\n",
    "\n"
   ]
  },
  {
   "cell_type": "code",
   "execution_count": null,
   "id": "4ea4156b-6b77-4e87-8398-5f330cd71e02",
   "metadata": {},
   "outputs": [],
   "source": []
  }
 ],
 "metadata": {
  "kernelspec": {
   "display_name": "Python 3 (ipykernel)",
   "language": "python",
   "name": "python3"
  },
  "language_info": {
   "codemirror_mode": {
    "name": "ipython",
    "version": 3
   },
   "file_extension": ".py",
   "mimetype": "text/x-python",
   "name": "python",
   "nbconvert_exporter": "python",
   "pygments_lexer": "ipython3",
   "version": "3.10.11"
  }
 },
 "nbformat": 4,
 "nbformat_minor": 5
}

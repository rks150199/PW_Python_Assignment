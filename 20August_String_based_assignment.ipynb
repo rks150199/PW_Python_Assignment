{
 "cells": [
  {
   "cell_type": "markdown",
   "id": "d4a12779-49e0-41ea-adba-55762f1c60f7",
   "metadata": {},
   "source": [
    "TOPIC: String Based Assignment Problem\n"
   ]
  },
  {
   "cell_type": "markdown",
   "id": "91bd3407-8c0a-4fcc-bc0d-097c06caf846",
   "metadata": {},
   "source": [
    "1. Write a program to reverse a string."
   ]
  },
  {
   "cell_type": "code",
   "execution_count": 1,
   "id": "a143c51f-b306-4cdc-98a6-2172f3adc886",
   "metadata": {},
   "outputs": [
    {
     "name": "stdin",
     "output_type": "stream",
     "text": [
      " rahul\n"
     ]
    },
    {
     "data": {
      "text/plain": [
       "'luhar'"
      ]
     },
     "execution_count": 1,
     "metadata": {},
     "output_type": "execute_result"
    }
   ],
   "source": [
    "string=str(input())\n",
    "string[::-1]"
   ]
  },
  {
   "cell_type": "code",
   "execution_count": 2,
   "id": "803b0e17-9e7a-4457-9de2-f9ee52836ec9",
   "metadata": {},
   "outputs": [
    {
     "name": "stdin",
     "output_type": "stream",
     "text": [
      " rahul\n"
     ]
    },
    {
     "name": "stdout",
     "output_type": "stream",
     "text": [
      "luhar\n"
     ]
    }
   ],
   "source": [
    "string2=str(input())\n",
    "new_string=\"\" \n",
    "for i in string2:\n",
    "    new_string=i+new_string\n",
    "print(new_string)\n"
   ]
  },
  {
   "cell_type": "markdown",
   "id": "c277bc8d-b9ea-48c7-a6ce-a9e3f117afa6",
   "metadata": {},
   "source": [
    "2. Check if a string is a palindrome."
   ]
  },
  {
   "cell_type": "code",
   "execution_count": 3,
   "id": "978ee927-1016-41fb-a698-2374328e79d7",
   "metadata": {},
   "outputs": [
    {
     "name": "stdin",
     "output_type": "stream",
     "text": [
      " 1221\n"
     ]
    },
    {
     "name": "stdout",
     "output_type": "stream",
     "text": [
      "string is a palindrome\n"
     ]
    }
   ],
   "source": [
    "str_=str(input())\n",
    "rev_str=str_[::-1]\n",
    "if str_==rev_str:\n",
    "    print(\"string is a palindrome\")\n",
    "else:\n",
    "    print(\"string is not a palindrome\")"
   ]
  },
  {
   "cell_type": "markdown",
   "id": "083e03a4-64f6-4303-98a1-70b6076e8f67",
   "metadata": {},
   "source": [
    "3. Convert a string to uppercase.\n"
   ]
  },
  {
   "cell_type": "code",
   "execution_count": 4,
   "id": "ba542cf7-0b09-49c2-b6df-2304078f632b",
   "metadata": {},
   "outputs": [
    {
     "data": {
      "text/plain": [
       "'RAHUL'"
      ]
     },
     "execution_count": 4,
     "metadata": {},
     "output_type": "execute_result"
    }
   ],
   "source": [
    "string='rahul'\n",
    "string.upper()"
   ]
  },
  {
   "cell_type": "markdown",
   "id": "68a58b49-1428-47a6-b160-138fbd86d66c",
   "metadata": {},
   "source": [
    "4. Convert a string to lowercase."
   ]
  },
  {
   "cell_type": "code",
   "execution_count": 5,
   "id": "fec7a9d2-39b4-4bb4-b45a-91615beee93b",
   "metadata": {},
   "outputs": [
    {
     "data": {
      "text/plain": [
       "'rahul'"
      ]
     },
     "execution_count": 5,
     "metadata": {},
     "output_type": "execute_result"
    }
   ],
   "source": [
    "string='Rahul'\n",
    "string.lower()"
   ]
  },
  {
   "cell_type": "markdown",
   "id": "a49f5105-e544-435b-b424-afe9ea8c0a32",
   "metadata": {},
   "source": [
    "5. Count the number of vowels in a string."
   ]
  },
  {
   "cell_type": "code",
   "execution_count": 6,
   "id": "fcc4a964-7d93-45e7-aee6-538d6544340c",
   "metadata": {},
   "outputs": [
    {
     "name": "stdout",
     "output_type": "stream",
     "text": [
      "5\n"
     ]
    }
   ],
   "source": [
    "string='multiple vowels '\n",
    "vowels='aeiouAEIOU'\n",
    "count=0\n",
    "for i in string:\n",
    "    if i in vowels:\n",
    "        count=count+1\n",
    "print(count)"
   ]
  },
  {
   "cell_type": "markdown",
   "id": "89b955be-c19d-4215-bf62-d40a65bfc9fa",
   "metadata": {},
   "source": [
    "6. Count the number of consonants in a string."
   ]
  },
  {
   "cell_type": "code",
   "execution_count": 7,
   "id": "76445310-9358-4078-932c-4e6fcb854f6d",
   "metadata": {},
   "outputs": [
    {
     "name": "stdout",
     "output_type": "stream",
     "text": [
      "9\n"
     ]
    }
   ],
   "source": [
    "string='multiple vowels'\n",
    "vowels='aeiouAEIOU'\n",
    "count=0\n",
    "for i in string:\n",
    "    if i not in vowels and i!=\" \":\n",
    "        count=count+1\n",
    "print(count)"
   ]
  },
  {
   "cell_type": "markdown",
   "id": "f31d5cb3-9921-4457-8de9-6081ff9fb2a1",
   "metadata": {},
   "source": [
    "7. Remove all whitespaces from a string"
   ]
  },
  {
   "cell_type": "code",
   "execution_count": 8,
   "id": "c6c55ab8-61ba-4b0e-a2c9-0f5f3cb94677",
   "metadata": {},
   "outputs": [
    {
     "name": "stdout",
     "output_type": "stream",
     "text": [
      "Thisisastringwithwhitespaces.\n"
     ]
    }
   ],
   "source": [
    "string=\"  This is a string with white spaces.  \"\n",
    "replaced_string=string.replace(\" \", \"\")\n",
    "print(replaced_string)"
   ]
  },
  {
   "cell_type": "markdown",
   "id": "4b37c764-b722-4092-8d9a-237127a5afc2",
   "metadata": {},
   "source": [
    "8. Find the length of a string without using the `len()` function."
   ]
  },
  {
   "cell_type": "code",
   "execution_count": 9,
   "id": "a6e83635-a918-4982-bf31-6e308302e31f",
   "metadata": {},
   "outputs": [
    {
     "name": "stdout",
     "output_type": "stream",
     "text": [
      "The lenght of a string is: 6\n"
     ]
    }
   ],
   "source": [
    "string=\"string\"\n",
    "count=0\n",
    "for i in string:\n",
    "    if i in string:\n",
    "        count=count+1\n",
    "print(\"The lenght of a string is:\",count)"
   ]
  },
  {
   "cell_type": "markdown",
   "id": "debf0699-47c1-48f1-9323-d8cdb4c34dcb",
   "metadata": {},
   "source": [
    "9. Check if a string contains a specific word."
   ]
  },
  {
   "cell_type": "code",
   "execution_count": 10,
   "id": "6c5b505e-668a-4917-b63b-36fef7f441dc",
   "metadata": {},
   "outputs": [
    {
     "name": "stdout",
     "output_type": "stream",
     "text": [
      "yes specific word present in this string that is: str\n"
     ]
    }
   ],
   "source": [
    "my_string=\"This is a str. We are cheking that there is specific world str.\"\n",
    "specific_word=\"str\"\n",
    "if specific_word in my_string:\n",
    "    print(\"yes specific word present in this string that is:\",specific_word)"
   ]
  },
  {
   "cell_type": "markdown",
   "id": "53ffec8c-b882-44d7-a533-9e1f385dcde9",
   "metadata": {},
   "source": [
    "10. Replace a word in a string with another word."
   ]
  },
  {
   "cell_type": "code",
   "execution_count": 11,
   "id": "98ea713a-1aed-4054-8fd4-5eb6ebccca52",
   "metadata": {},
   "outputs": [
    {
     "data": {
      "text/plain": [
       "'This is a string. We are cheking that there is specific world string.'"
      ]
     },
     "execution_count": 11,
     "metadata": {},
     "output_type": "execute_result"
    }
   ],
   "source": [
    "my_string=\"This is a str. We are cheking that there is specific world str.\"\n",
    "my_string.replace(\"str\",\"string\")"
   ]
  },
  {
   "cell_type": "markdown",
   "id": "318b86cc-e554-4f63-825c-0809d9055b1c",
   "metadata": {},
   "source": [
    "11. Count the occurrences of a word in a string."
   ]
  },
  {
   "cell_type": "code",
   "execution_count": 12,
   "id": "392f8238-4ff0-4525-b0ac-bbe3781f7123",
   "metadata": {},
   "outputs": [
    {
     "name": "stdout",
     "output_type": "stream",
     "text": [
      "The word occurrences 3 times\n"
     ]
    }
   ],
   "source": [
    "string=\"This is a sample string. Sample strings are often used for samples.\"\n",
    "word=\"sample\"\n",
    "count=string.lower().count(word.lower())\n",
    "print(f\"The word occurrences {count} times\")"
   ]
  },
  {
   "cell_type": "markdown",
   "id": "f6f1e343-99bb-4761-a225-6ef429a4d4c9",
   "metadata": {},
   "source": [
    "12. Find the first occurrence of a word in a string."
   ]
  },
  {
   "cell_type": "code",
   "execution_count": 13,
   "id": "ca55e6d3-3e46-4d66-ab49-d47fa722fbba",
   "metadata": {},
   "outputs": [
    {
     "name": "stdout",
     "output_type": "stream",
     "text": [
      "The word first occurrences at index 10\n"
     ]
    }
   ],
   "source": [
    "string=\"This is a sample string. Sample strings are often used for samples.\"\n",
    "word=\"sample\"\n",
    "find=string.lower().find(word.lower())\n",
    "print(f\"The word first occurrences at index {find}\")"
   ]
  },
  {
   "cell_type": "markdown",
   "id": "ef78a512-ccbb-4ba8-a9f1-00ca93230730",
   "metadata": {},
   "source": [
    "13. Find the last occurrence of a word in a string."
   ]
  },
  {
   "cell_type": "code",
   "execution_count": 14,
   "id": "f6bc829d-7871-4d95-9c05-95035910ac10",
   "metadata": {},
   "outputs": [
    {
     "name": "stdout",
     "output_type": "stream",
     "text": [
      "45\n"
     ]
    }
   ],
   "source": [
    "s=\"I am Rahul Kumar. I am student of PW Skills. PW skills is edtech company\"\n",
    "word=\"PW\"\n",
    "find=s.lower().rfind(word.lower())\n",
    "print(find)"
   ]
  },
  {
   "cell_type": "markdown",
   "id": "539a8c60-7ebf-439a-bc94-14f5ddb0045d",
   "metadata": {},
   "source": [
    "14. Split a string into a list of words."
   ]
  },
  {
   "cell_type": "code",
   "execution_count": 15,
   "id": "4255ff27-8bd3-4f2a-ab9f-bbfa92b29b88",
   "metadata": {},
   "outputs": [
    {
     "data": {
      "text/plain": [
       "['14.', 'Split', 'a', 'string', 'into', 'a', 'list', 'of', 'words.']"
      ]
     },
     "execution_count": 15,
     "metadata": {},
     "output_type": "execute_result"
    }
   ],
   "source": [
    "string=\"14. Split a string into a list of words.\"\n",
    "l=string.split()\n",
    "l"
   ]
  },
  {
   "cell_type": "markdown",
   "id": "41087acb-4501-4c73-8b20-6ba31bc170ed",
   "metadata": {},
   "source": [
    "15. Join a list of words into a string."
   ]
  },
  {
   "cell_type": "code",
   "execution_count": 16,
   "id": "5ba6d7dd-f738-461c-88e9-f4945a6079ab",
   "metadata": {},
   "outputs": [
    {
     "data": {
      "text/plain": [
       "'14. Split a string into a list of words.'"
      ]
     },
     "execution_count": 16,
     "metadata": {},
     "output_type": "execute_result"
    }
   ],
   "source": [
    "l=['14.', 'Split', 'a', 'string', 'into', 'a', 'list', 'of', 'words.']\n",
    "string=\" \".join(l)\n",
    "string"
   ]
  },
  {
   "cell_type": "markdown",
   "id": "681b7aa9-4bc6-4993-9d00-a7bcbe686134",
   "metadata": {},
   "source": [
    "16. Convert a string where words are separated by spaces to one where words\n",
    "are separated by underscores."
   ]
  },
  {
   "cell_type": "code",
   "execution_count": 17,
   "id": "3501d453-acb6-42fc-b302-445583a3632c",
   "metadata": {},
   "outputs": [
    {
     "data": {
      "text/plain": [
       "'Convert_a_string_where_words_are_separated_by_spaces_to_one_where_words_are_separated_by_underscores.'"
      ]
     },
     "execution_count": 17,
     "metadata": {},
     "output_type": "execute_result"
    }
   ],
   "source": [
    "string=\"Convert a string where words are separated by spaces to one where words are separated by underscores.\"\n",
    "string.replace(\" \",\"_\")"
   ]
  },
  {
   "cell_type": "markdown",
   "id": "d6a33cfb-8455-4c65-8bfe-b6e9d77aecde",
   "metadata": {},
   "source": [
    "17. Check if a string starts with a specific word or phrase."
   ]
  },
  {
   "cell_type": "code",
   "execution_count": 23,
   "id": "86268001-6de5-4427-b5c5-04361c69b2f2",
   "metadata": {},
   "outputs": [
    {
     "name": "stdout",
     "output_type": "stream",
     "text": [
      "yes! string start with Check\n"
     ]
    }
   ],
   "source": [
    "string=\"Check if a string starts with a specific word or phrase\"\n",
    "specific_word=\"Check\"\n",
    "list1=string.split()\n",
    "if list1[0]==specific_word:\n",
    "    print(f\"yes! string start with {specific_word}\")\n",
    "else:\n",
    "    print(f\"No! string start with {specific_word}\")"
   ]
  },
  {
   "cell_type": "markdown",
   "id": "15ed109d-1b2e-4c3a-992c-2e52e281970d",
   "metadata": {},
   "source": [
    "18. Check if a string ends with a specific word or phrase.\n"
   ]
  },
  {
   "cell_type": "code",
   "execution_count": 27,
   "id": "a2f9a6ad-66cc-449c-b103-7201cffe0d2c",
   "metadata": {},
   "outputs": [
    {
     "name": "stdout",
     "output_type": "stream",
     "text": [
      "yes! string end with phrase\n"
     ]
    }
   ],
   "source": [
    "string=\"Check if a string end with a specific word or phrase\"\n",
    "specific_word=\"phrase\"\n",
    "list1=string.split()\n",
    "if list1[len(list1)-1]==specific_word:\n",
    "    print(f\"yes! string end with {specific_word}\")\n",
    "else:\n",
    "    print(f\"No! string start with {specific_word}\")"
   ]
  },
  {
   "cell_type": "markdown",
   "id": "ca8581f6-7f63-4384-87a9-86b05282a821",
   "metadata": {},
   "source": [
    "19. Convert a string to title case (e.g., \"hello world\" to \"Hello World\")."
   ]
  },
  {
   "cell_type": "code",
   "execution_count": 30,
   "id": "4c4d77ea-886c-44a3-b360-f107ac34a78d",
   "metadata": {},
   "outputs": [
    {
     "data": {
      "text/plain": [
       "'Hello World'"
      ]
     },
     "execution_count": 30,
     "metadata": {},
     "output_type": "execute_result"
    }
   ],
   "source": [
    "string=\"hello world\"\n",
    "string.title()"
   ]
  },
  {
   "cell_type": "markdown",
   "id": "5d653445-e1e8-4513-9704-24c4548f6204",
   "metadata": {},
   "source": [
    "20. Find the longest word in a string."
   ]
  },
  {
   "cell_type": "code",
   "execution_count": 10,
   "id": "41cd4655-ef76-462d-bc0f-5f7259a43a83",
   "metadata": {},
   "outputs": [
    {
     "name": "stdout",
     "output_type": "stream",
     "text": [
      "longest\n"
     ]
    }
   ],
   "source": [
    "string=\"Find the longest word in a string\"\n",
    "list1=string.split()\n",
    "longest_word=\"\"\n",
    "for i in list1:\n",
    "    if len(i)>=len(word):\n",
    "        word=i\n",
    "print(word)"
   ]
  },
  {
   "cell_type": "markdown",
   "id": "003fa5a1-2677-4066-89ad-b60ddb07d2bc",
   "metadata": {},
   "source": [
    "21. Find the shortest word in a string."
   ]
  },
  {
   "cell_type": "code",
   "execution_count": 12,
   "id": "2cf5f293-d8c9-4f9f-b724-f433ce41dd49",
   "metadata": {},
   "outputs": [
    {
     "name": "stdout",
     "output_type": "stream",
     "text": [
      "a\n"
     ]
    }
   ],
   "source": [
    "string=\"Find the shortest word in a string\"\n",
    "list1=string.split()\n",
    "longest_word=\"\"\n",
    "for i in list1:\n",
    "    if len(i)<=len(word):\n",
    "        word=i\n",
    "print(word)"
   ]
  },
  {
   "cell_type": "markdown",
   "id": "4abbfed8-a150-44f7-ad9b-fb51b979a87b",
   "metadata": {},
   "source": [
    "22. Reverse the order of words in a string."
   ]
  },
  {
   "cell_type": "code",
   "execution_count": 20,
   "id": "a7efb7b0-a01c-4284-84a5-0bfa101f8caf",
   "metadata": {},
   "outputs": [
    {
     "data": {
      "text/plain": [
       "'string a in words of order the Reverse'"
      ]
     },
     "execution_count": 20,
     "metadata": {},
     "output_type": "execute_result"
    }
   ],
   "source": [
    "string=\"Reverse the order of words in a string\"\n",
    "list1=string.split()\n",
    "list1=list1[::-1]\n",
    "reverse_word=\" \".join(list1)\n",
    "reverse_word"
   ]
  },
  {
   "cell_type": "markdown",
   "id": "2ac97f88-c40e-456e-b468-991dfddf10fd",
   "metadata": {},
   "source": [
    "23. Check if a string is alphanumeric.\n"
   ]
  },
  {
   "cell_type": "code",
   "execution_count": 22,
   "id": "4b2d3acb-d69f-43c8-b6ec-d374d9b97d99",
   "metadata": {},
   "outputs": [
    {
     "name": "stdout",
     "output_type": "stream",
     "text": [
      "alphanumeric\n"
     ]
    }
   ],
   "source": [
    "string=\"Rahul123\"\n",
    "if string.isalnum():\n",
    "    print(\"alphanumeric\")\n",
    "else:\n",
    "    print(\"Not alphanumeric\")"
   ]
  },
  {
   "cell_type": "markdown",
   "id": "87a68f59-0a31-4cc9-ac67-98f8267b48ad",
   "metadata": {},
   "source": [
    "24. Extract all digits from a string."
   ]
  },
  {
   "cell_type": "code",
   "execution_count": 41,
   "id": "d3c3ce69-2d06-419e-9eed-2ef4db6292d2",
   "metadata": {},
   "outputs": [
    {
     "name": "stdout",
     "output_type": "stream",
     "text": [
      "123\n"
     ]
    }
   ],
   "source": [
    "string=\"rahul123\"\n",
    "digit=\"\"\n",
    "for i in string:\n",
    "    if i.isdigit():\n",
    "        digit=digit+i\n",
    "print(digit)"
   ]
  },
  {
   "cell_type": "markdown",
   "id": "ae0b4b5e-f3c6-4285-8b92-1234dee2589f",
   "metadata": {},
   "source": [
    "25. Extract all alphabets from a string."
   ]
  },
  {
   "cell_type": "code",
   "execution_count": 45,
   "id": "67179a8f-92a5-488e-9a57-91cf10b2f217",
   "metadata": {},
   "outputs": [
    {
     "name": "stdout",
     "output_type": "stream",
     "text": [
      "rahul\n"
     ]
    }
   ],
   "source": [
    "string=\"rahul123\"\n",
    "alphabet=\"\"\n",
    "for i in string:\n",
    "    if i.isalpha():\n",
    "        alphabet=alphabet+i\n",
    "print(alphabet)"
   ]
  },
  {
   "cell_type": "markdown",
   "id": "de026d92-ff95-44fc-9ff3-501e9dca7d18",
   "metadata": {},
   "source": [
    "26. Count the number of uppercase letters in a string."
   ]
  },
  {
   "cell_type": "code",
   "execution_count": 54,
   "id": "292a7171-afbb-418f-ba44-9caa02bb6682",
   "metadata": {},
   "outputs": [
    {
     "name": "stdout",
     "output_type": "stream",
     "text": [
      "number of upper case letters : 2\n"
     ]
    }
   ],
   "source": [
    "string=\"Count the number of uppercase letters in a String\"\n",
    "count=0\n",
    "for i in string:\n",
    "    if i.isupper():\n",
    "        count +=1\n",
    "print(\"number of upper case letters :\",count)"
   ]
  },
  {
   "cell_type": "markdown",
   "id": "52a71f01-0cb8-408b-b97e-d4199d5533ea",
   "metadata": {},
   "source": [
    "27. Count the number of lowercase letters in a string."
   ]
  },
  {
   "cell_type": "code",
   "execution_count": 57,
   "id": "9e9ca9ab-b2dd-43fa-8eb5-3c71b1a3cf55",
   "metadata": {},
   "outputs": [
    {
     "name": "stdout",
     "output_type": "stream",
     "text": [
      "5\n"
     ]
    }
   ],
   "source": [
    "string=\"String\"\n",
    "count=0\n",
    "for i in string:\n",
    "    if i.islower():\n",
    "        count +=1\n",
    "print(count)"
   ]
  },
  {
   "cell_type": "markdown",
   "id": "42e43db4-2db8-41e5-be0e-c511342082b1",
   "metadata": {},
   "source": [
    "28. Swap the case of each character in a string."
   ]
  },
  {
   "cell_type": "code",
   "execution_count": 58,
   "id": "9d4d37c6-9d69-4b23-8301-7aaf19a3031b",
   "metadata": {},
   "outputs": [
    {
     "data": {
      "text/plain": [
       "'sWAP THE CASE OF EACH CHARACTER IN A STRING'"
      ]
     },
     "execution_count": 58,
     "metadata": {},
     "output_type": "execute_result"
    }
   ],
   "source": [
    "string=\"Swap the case of each character in a string\"\n",
    "string.swapcase()"
   ]
  },
  {
   "cell_type": "markdown",
   "id": "53c3e265-e616-4c80-9fd3-24fab65d9f92",
   "metadata": {},
   "source": [
    "29. Remove a specific word from a string."
   ]
  },
  {
   "cell_type": "code",
   "execution_count": 78,
   "id": "6adbd243-d06c-4ff8-a8ff-0dd4f9ab1c01",
   "metadata": {},
   "outputs": [
    {
     "data": {
      "text/plain": [
       "'Remove a specific  from a string'"
      ]
     },
     "execution_count": 78,
     "metadata": {},
     "output_type": "execute_result"
    }
   ],
   "source": [
    "string=\"Remove a specific word from a string\"\n",
    "string.replace(\"word\", \"\")\n",
    "# but here  I am getting extra spcae in output"
   ]
  },
  {
   "cell_type": "code",
   "execution_count": 79,
   "id": "3fc1a7d4-52b0-47c8-afe4-75142f70fbb2",
   "metadata": {},
   "outputs": [
    {
     "data": {
      "text/plain": [
       "'Remove a specific from a string'"
      ]
     },
     "execution_count": 79,
     "metadata": {},
     "output_type": "execute_result"
    }
   ],
   "source": [
    "# here I am trying to coonvert string into list\n",
    "# then remove a word from list \n",
    "# then again convert list to string\n",
    "string=\"Remove a specific word from a string\"\n",
    "list1=string.split()\n",
    "list1.remove(\"word\")\n",
    "new_string=\" \".join(list1)\n",
    "new_string"
   ]
  },
  {
   "cell_type": "markdown",
   "id": "1cb32e06-3b32-4fd2-b16c-77214c861e92",
   "metadata": {},
   "source": [
    "30. Check if a string is a valid email address."
   ]
  },
  {
   "cell_type": "code",
   "execution_count": 6,
   "id": "09356075-e11a-4630-8141-ba5481e22c81",
   "metadata": {},
   "outputs": [
    {
     "name": "stdout",
     "output_type": "stream",
     "text": [
      "True\n",
      "False\n"
     ]
    }
   ],
   "source": [
    "import re  # Import the regular expression module\n",
    "\n",
    "def check_email(email):\n",
    "    pattern = r'^[\\w\\.-]+@[\\w\\.-]+\\.\\w+$'  # Regular expression pattern for a basic email validation\n",
    "    if re.match(pattern, email):\n",
    "        return True\n",
    "    else:\n",
    "        return False\n",
    "\n",
    "# Example email addresses\n",
    "email1 = \"rahulkumar@email.com\"\n",
    "email2 = \"email-com\"\n",
    "result1 = check_email(email1)\n",
    "result2 = check_email(email2)\n",
    "print(result1)\n",
    "print(result2)"
   ]
  },
  {
   "cell_type": "markdown",
   "id": "bd595acc-c548-4bb9-a014-574690e84dad",
   "metadata": {},
   "source": [
    "31. Extract the username from an email address string."
   ]
  },
  {
   "cell_type": "code",
   "execution_count": 10,
   "id": "91d58391-68ac-43f3-8092-246086916050",
   "metadata": {},
   "outputs": [
    {
     "name": "stdout",
     "output_type": "stream",
     "text": [
      "rahulkumar\n"
     ]
    }
   ],
   "source": [
    "email=\"rahulkumar@gmail.com\"\n",
    "split_email=email.split(\"@\")\n",
    "print(split_email[0])"
   ]
  },
  {
   "cell_type": "markdown",
   "id": "8c1e0eb8-d709-47f8-9c86-979f76fe68ed",
   "metadata": {},
   "source": [
    "32. Extract the domain name from an email address string"
   ]
  },
  {
   "cell_type": "code",
   "execution_count": 11,
   "id": "ac1b36ab-4ee0-461e-90ab-aedd74418598",
   "metadata": {},
   "outputs": [
    {
     "name": "stdout",
     "output_type": "stream",
     "text": [
      "gmail.com\n"
     ]
    }
   ],
   "source": [
    "email=\"rahulkumar@gmail.com\"\n",
    "split_email=email.split(\"@\")\n",
    "print(split_email[1])"
   ]
  },
  {
   "cell_type": "markdown",
   "id": "83786fdd-26b7-4f22-84ec-a86d725bac26",
   "metadata": {},
   "source": [
    "33. Replace multiple spaces in a string with a single space."
   ]
  },
  {
   "cell_type": "code",
   "execution_count": 16,
   "id": "c9c95eed-3a6d-4407-9072-fad1435d3320",
   "metadata": {},
   "outputs": [
    {
     "data": {
      "text/plain": [
       "'Replace multiple spaces in a string with a single space.'"
      ]
     },
     "execution_count": 16,
     "metadata": {},
     "output_type": "execute_result"
    }
   ],
   "source": [
    "string=\"Replace multiple          spaces      in a string  with a single space.\"\n",
    "new_string=\" \".join(string.split())\n",
    "new_string"
   ]
  },
  {
   "cell_type": "markdown",
   "id": "1d4c9792-bbeb-4602-8c32-7b08dc93bf74",
   "metadata": {},
   "source": [
    "34. Check if a string is a valid URL."
   ]
  },
  {
   "cell_type": "code",
   "execution_count": 21,
   "id": "fd695c72-69ba-4eb0-b5d5-ffbc0504c18a",
   "metadata": {},
   "outputs": [
    {
     "name": "stdout",
     "output_type": "stream",
     "text": [
      "True\n",
      "False\n"
     ]
    }
   ],
   "source": [
    "from urllib.parse import urlparse\n",
    "\n",
    "def is_valid_url(url):\n",
    "    try:\n",
    "        result = urlparse(url)\n",
    "        return all([result.scheme, result.netloc])  # Check if both scheme and netloc are present\n",
    "    except ValueError:\n",
    "        return False\n",
    "\n",
    "url1 = \"https://www.example.com\"\n",
    "url2 = \"https:-url\"\n",
    "result1 = is_valid_url(url1)\n",
    "result2 = is_valid_url(url2)\n",
    "print(result1)  \n",
    "print(result2)  "
   ]
  },
  {
   "cell_type": "markdown",
   "id": "4bd917b5-4d7b-4831-9e64-ba5bd9b195b5",
   "metadata": {},
   "source": [
    "35. Extract the protocol (http or https) from a URL string."
   ]
  },
  {
   "cell_type": "code",
   "execution_count": 24,
   "id": "0d9a0f3c-9925-4bf1-ad11-f86c7cc35a87",
   "metadata": {},
   "outputs": [
    {
     "data": {
      "text/plain": [
       "'https'"
      ]
     },
     "execution_count": 24,
     "metadata": {},
     "output_type": "execute_result"
    }
   ],
   "source": [
    "url = \"https://www.example.com\"\n",
    "string=url.split(\"://\")\n",
    "string[0]"
   ]
  },
  {
   "cell_type": "markdown",
   "id": "fb20be98-3692-4afe-9200-fbec23872a28",
   "metadata": {},
   "source": [
    "36. Find the frequency of each character in a string."
   ]
  },
  {
   "cell_type": "code",
   "execution_count": 43,
   "id": "c471aca3-d0c0-4d9d-a8dd-f08ef6832066",
   "metadata": {},
   "outputs": [
    {
     "name": "stdout",
     "output_type": "stream",
     "text": [
      "frequency of 3 is : 1\n",
      "frequency of 6 is : 1\n",
      "frequency of . is : 1\n",
      "frequency of   is : 9\n",
      "frequency of f is : 3\n",
      "frequency of i is : 3\n",
      "frequency of n is : 4\n",
      "frequency of d is : 1\n",
      "frequency of t is : 3\n",
      "frequency of h is : 3\n",
      "frequency of e is : 5\n",
      "frequency of r is : 4\n",
      "frequency of q is : 1\n",
      "frequency of u is : 1\n",
      "frequency of c is : 4\n",
      "frequency of y is : 1\n",
      "frequency of o is : 1\n",
      "frequency of a is : 4\n",
      "frequency of s is : 1\n",
      "frequency of g is : 1\n"
     ]
    }
   ],
   "source": [
    "string=\"36. Find the frequency of each character in a string\"\n",
    "string=string.lower()\n",
    "frequency={}\n",
    "for i in string:\n",
    "    if i in frequency:\n",
    "        frequency[i] += 1\n",
    "    else:\n",
    "        frequency[i] = 1  \n",
    "for i,f in frequency.items():\n",
    "    print(f\"frequency of {i} is : {f}\")"
   ]
  },
  {
   "cell_type": "markdown",
   "id": "ae75fe75-466e-4df6-b67b-180f199d3dbf",
   "metadata": {},
   "source": [
    "37. Remove all punctuation from a string."
   ]
  },
  {
   "cell_type": "code",
   "execution_count": 46,
   "id": "40c907f9-7c40-4e9b-9db0-7952838e874d",
   "metadata": {},
   "outputs": [
    {
     "name": "stdout",
     "output_type": "stream",
     "text": [
      "Hello World This is an example string with punctuation\n"
     ]
    }
   ],
   "source": [
    "import string\n",
    "\n",
    "input_string = \"Hello, World! This is an example string with punctuation.\"\n",
    "\n",
    "# Create a set of punctuation characters\n",
    "punctuation_set = set(string.punctuation)\n",
    "\n",
    "# Initialize an empty string to store the result\n",
    "cleaned_string = \"\"\n",
    "\n",
    "# Iterate through the characters in the input string\n",
    "for char in input_string:\n",
    "    # Check if the character is not in the punctuation set\n",
    "    if char not in punctuation_set:\n",
    "        # If not, add it to the cleaned string\n",
    "        cleaned_string += char\n",
    "print(cleaned_string)"
   ]
  },
  {
   "cell_type": "markdown",
   "id": "496f863c-6734-4936-a8f3-4da41b3160e0",
   "metadata": {},
   "source": [
    "38. Check if a string contains only digits"
   ]
  },
  {
   "cell_type": "code",
   "execution_count": 72,
   "id": "e4f8e777-b0b6-44af-8ad6-e9198e6c0cb0",
   "metadata": {},
   "outputs": [
    {
     "name": "stdin",
     "output_type": "stream",
     "text": [
      "enter string rahul\n"
     ]
    },
    {
     "name": "stdout",
     "output_type": "stream",
     "text": [
      "string not contains only digits\n"
     ]
    }
   ],
   "source": [
    "string=str(input(\"enter string\"))\n",
    "if string.isdigit():\n",
    "    print(\"string contains only digits\")\n",
    "else:\n",
    "    print(\"string not contains only digits\")"
   ]
  },
  {
   "cell_type": "markdown",
   "id": "3e699fea-3867-47b6-bd49-d8d4074815e0",
   "metadata": {},
   "source": [
    "39. Check if a string contains only alphabets."
   ]
  },
  {
   "cell_type": "code",
   "execution_count": 78,
   "id": "51180fb2-d072-4bd6-baee-d6602ef17ba3",
   "metadata": {},
   "outputs": [
    {
     "name": "stdin",
     "output_type": "stream",
     "text": [
      "enter string rahul\n"
     ]
    },
    {
     "name": "stdout",
     "output_type": "stream",
     "text": [
      "string contains only alphabets\n"
     ]
    }
   ],
   "source": [
    "string=str(input(\"enter string\"))\n",
    "if string.isalpha():\n",
    "    print(\"string contains only alphabets\")\n",
    "else:\n",
    "    print(\"string not contains only alphabets\")"
   ]
  },
  {
   "cell_type": "markdown",
   "id": "b0d0797d-f539-49ca-bb76-77ed05a60003",
   "metadata": {},
   "source": [
    "40. Convert a string to a list of characters"
   ]
  },
  {
   "cell_type": "code",
   "execution_count": 82,
   "id": "87b7917f-e008-40d4-a1ab-b108107bdd81",
   "metadata": {},
   "outputs": [
    {
     "name": "stdout",
     "output_type": "stream",
     "text": [
      "['4', '0', '.', ' ', 'C', 'o', 'n', 'v', 'e', 'r', 't', ' ', 'a', ' ', 's', 't', 'r', 'i', 'n', 'g', ' ', 't', 'o', ' ', 'a', ' ', 'l', 'i', 's', 't', ' ', 'o', 'f', ' ', 'c', 'h', 'a', 'r', 'a', 'c', 't', 'e', 'r', 's']\n"
     ]
    }
   ],
   "source": [
    "string=\"40. Convert a string to a list of characters\"\n",
    "l=[]\n",
    "for i in string:\n",
    "    l.append(i)\n",
    "print(l)    "
   ]
  },
  {
   "cell_type": "markdown",
   "id": "341ba7ad-1f70-4fcf-b69a-52c9082701ee",
   "metadata": {},
   "source": [
    "41. Check if two strings are anagrams"
   ]
  },
  {
   "cell_type": "code",
   "execution_count": 87,
   "id": "704257a6-d0cd-4767-8554-86a7a32989bd",
   "metadata": {},
   "outputs": [
    {
     "name": "stdout",
     "output_type": "stream",
     "text": [
      "Strings are anagrams\n"
     ]
    }
   ],
   "source": [
    "string1=\"silent\"\n",
    "string2=\"listen\"\n",
    "if sorted(string1.lower())==sorted(string2.lower()):\n",
    "    print(\"Strings are anagrams\")\n",
    "else:\n",
    "    print(\"String are not anagrams\")"
   ]
  },
  {
   "cell_type": "markdown",
   "id": "47045cde-0ee4-4c04-95b2-59657a365beb",
   "metadata": {},
   "source": [
    "42. Encode a string using a Caesar cipher."
   ]
  },
  {
   "cell_type": "code",
   "execution_count": 88,
   "id": "ee45c23e-aa17-4f50-a633-b4af611c381b",
   "metadata": {},
   "outputs": [
    {
     "name": "stdout",
     "output_type": "stream",
     "text": [
      "Original Text: Hello, World!\n",
      "Encrypted Text: Khoor, Zruog!\n"
     ]
    }
   ],
   "source": [
    "def caesar_cipher_encrypt(text, shift):\n",
    "    encrypted_text = \"\"\n",
    "\n",
    "    for char in text:\n",
    "        if char.isalpha():\n",
    "            is_upper = char.isupper()\n",
    "            shifted_char = chr(((ord(char) - ord('A' if is_upper else 'a') + shift) % 26) + ord('A' if is_upper else 'a'))\n",
    "            encrypted_text += shifted_char\n",
    "        else:\n",
    "            encrypted_text += char\n",
    "\n",
    "    return encrypted_text\n",
    "\n",
    "original_text = \"Hello, World!\"\n",
    "shift_amount = 3\n",
    "\n",
    "encrypted_text = \"\"\n",
    "\n",
    "for char in original_text:\n",
    "    if char.isalpha():\n",
    "        is_upper = char.isupper()\n",
    "        shifted_char = chr(((ord(char) - ord('A' if is_upper else 'a') + shift_amount) % 26) + ord('A' if is_upper else 'a'))\n",
    "        encrypted_text += shifted_char\n",
    "    else:\n",
    "        encrypted_text += char\n",
    "\n",
    "print(\"Original Text:\", original_text)\n",
    "print(\"Encrypted Text:\", encrypted_text)"
   ]
  },
  {
   "cell_type": "markdown",
   "id": "ee9c205b-5ebb-453e-bb90-bb96b75cf51b",
   "metadata": {},
   "source": [
    "43. Decode a Caesar cipher encoded string"
   ]
  },
  {
   "cell_type": "code",
   "execution_count": 89,
   "id": "befe2f68-ce33-4400-8c9b-254370c78bba",
   "metadata": {},
   "outputs": [
    {
     "name": "stdout",
     "output_type": "stream",
     "text": [
      "Encrypted Text: Khoor, Zruog!\n",
      "Decrypted Text: Hello, World!\n"
     ]
    }
   ],
   "source": [
    "def caesar_cipher_decrypt(encrypted_text, shift):\n",
    "    decrypted_text = \"\"\n",
    "\n",
    "    for char in encrypted_text:\n",
    "        if char.isalpha():\n",
    "            is_upper = char.isupper()\n",
    "            shifted_char = chr(((ord(char) - ord('A' if is_upper else 'a') - shift) % 26) + ord('A' if is_upper else 'a'))\n",
    "            decrypted_text += shifted_char\n",
    "        else:\n",
    "            decrypted_text += char\n",
    "\n",
    "    return decrypted_text\n",
    "\n",
    "# Example usage:\n",
    "encrypted_text = \"Khoor, Zruog!\"\n",
    "shift_amount = 3\n",
    "decrypted_text = caesar_cipher_decrypt(encrypted_text, shift_amount)\n",
    "print(\"Encrypted Text:\", encrypted_text)\n",
    "print(\"Decrypted Text:\", decrypted_text)\n"
   ]
  },
  {
   "cell_type": "markdown",
   "id": "f75a49c7-f7ff-478f-a92d-6f2b2b8f9ad3",
   "metadata": {},
   "source": [
    "44. Find the most frequent word in a string."
   ]
  },
  {
   "cell_type": "code",
   "execution_count": 137,
   "id": "2e857f87-0bcc-48bf-a550-2b7db5d46b52",
   "metadata": {},
   "outputs": [
    {
     "name": "stdout",
     "output_type": "stream",
     "text": [
      "'a' is occurance '2' times\n",
      "'string' is occurance '2' times\n"
     ]
    }
   ],
   "source": [
    "string=\"44. Find the most frequent word in a string . this is a string\"\n",
    "string=string.lower().split()\n",
    "frequency={}\n",
    "for i in string:\n",
    "    if i in frequency:\n",
    "        frequency[i] += 1\n",
    "    else:\n",
    "        frequency[i] = 1  \n",
    "for i,f in frequency.items():\n",
    "    if f==max(frequency.values()):\n",
    "        print(f\"'{i}' is occurance '{f}' times\")"
   ]
  },
  {
   "cell_type": "markdown",
   "id": "cc6fabc7-070f-4ef8-a4cc-e4454e6ae5dc",
   "metadata": {},
   "source": [
    "45. Find all unique words in a string"
   ]
  },
  {
   "cell_type": "code",
   "execution_count": 139,
   "id": "0be76825-bf15-4d44-8cd2-9dbd26d4e9d9",
   "metadata": {},
   "outputs": [
    {
     "name": "stdout",
     "output_type": "stream",
     "text": [
      "'44.' is unique word\n",
      "'find' is unique word\n",
      "'the' is unique word\n",
      "'most' is unique word\n",
      "'frequent' is unique word\n",
      "'word' is unique word\n",
      "'in' is unique word\n",
      "'.' is unique word\n",
      "'this' is unique word\n",
      "'is' is unique word\n"
     ]
    }
   ],
   "source": [
    "string=\"44. Find the most frequent word in a string . this is a string\"\n",
    "string=string.lower().split()\n",
    "frequency={}\n",
    "for i in string:\n",
    "    if i in frequency:\n",
    "        frequency[i] += 1\n",
    "    else:\n",
    "        frequency[i] = 1  \n",
    "for i,f in frequency.items():\n",
    "    if f==min(frequency.values()):\n",
    "        print(f\"'{i}' is unique word\")"
   ]
  },
  {
   "cell_type": "markdown",
   "id": "fec4e5d2-2f88-4075-8e36-2052e3d32458",
   "metadata": {},
   "source": [
    "46. Count the number of syllables in a string."
   ]
  },
  {
   "cell_type": "code",
   "execution_count": 27,
   "id": "4ec11747-f4ed-40f2-83aa-b05cd2c1d5d2",
   "metadata": {},
   "outputs": [
    {
     "name": "stdout",
     "output_type": "stream",
     "text": [
      "the word banana has 3 syllables\n"
     ]
    }
   ],
   "source": [
    "import re\n",
    "string='banana'\n",
    "string=string.lower()\n",
    "pattern = re.compile(r'[aeiouy]+')\n",
    "syllables = re.findall(pattern,string)\n",
    "print(f\"the word {string} has {len(syllables)} syllables\")"
   ]
  },
  {
   "cell_type": "markdown",
   "id": "e4741565-dd93-4a57-969e-025e2490fc7b",
   "metadata": {},
   "source": [
    "47. Check if a string contains any special characters."
   ]
  },
  {
   "cell_type": "code",
   "execution_count": 35,
   "id": "283d9bea-dc72-43fe-844c-d9659524d36c",
   "metadata": {},
   "outputs": [
    {
     "name": "stdout",
     "output_type": "stream",
     "text": [
      "The string 'Hello123!' contains special characters.\n"
     ]
    }
   ],
   "source": [
    "import re\n",
    "\n",
    "def contains_special_characters(input_string):\n",
    "    pattern = re.compile(r'[^a-zA-Z0-9]')\n",
    "    match = re.search(pattern, input_string)\n",
    "    return match is not None\n",
    "\n",
    "text = \"Hello123!\"\n",
    "if contains_special_characters(text):\n",
    "    print(f\"The string '{text}' contains special characters.\")\n",
    "else:\n",
    "    print(f\"The string '{text}' does not contain special characters.\")"
   ]
  },
  {
   "cell_type": "markdown",
   "id": "cdfd397a-13dd-4c0d-ad77-59c091225d4d",
   "metadata": {},
   "source": [
    "48. Remove the nth word from a string."
   ]
  },
  {
   "cell_type": "code",
   "execution_count": 29,
   "id": "83efe7a2-38e8-4340-b862-defd2db46d2a",
   "metadata": {},
   "outputs": [
    {
     "name": "stdout",
     "output_type": "stream",
     "text": [
      "enter the word in between range of 0 to 7\n"
     ]
    },
    {
     "name": "stdin",
     "output_type": "stream",
     "text": [
      " 7\n"
     ]
    },
    {
     "name": "stdout",
     "output_type": "stream",
     "text": [
      "remove the nth word from a\n"
     ]
    }
   ],
   "source": [
    "string=\"remove the nth word from a string\"\n",
    "l=string.split()\n",
    "print(f\"enter the word in between range of 0 to {len(l)}\")\n",
    "n=int(input())\n",
    "l.pop(n-1)\n",
    "new_string=\" \".join(l)\n",
    "print(new_string)"
   ]
  },
  {
   "cell_type": "markdown",
   "id": "fcea8b68-9110-40bf-847c-8ca01bfb76d4",
   "metadata": {},
   "source": [
    "49. Insert a word at the nth position in a string."
   ]
  },
  {
   "cell_type": "code",
   "execution_count": 30,
   "id": "32845f43-f89c-4c55-9615-19d450a84750",
   "metadata": {},
   "outputs": [
    {
     "name": "stdout",
     "output_type": "stream",
     "text": [
      "enter place between range of 0 to 10\n"
     ]
    },
    {
     "name": "stdin",
     "output_type": "stream",
     "text": [
      " 5\n",
      "enter word rahul\n"
     ]
    },
    {
     "name": "stdout",
     "output_type": "stream",
     "text": [
      "Insert a word at rahul the nth position in a string\n"
     ]
    }
   ],
   "source": [
    "string=\"Insert a word at the nth position in a string\"\n",
    "l=string.split()\n",
    "print(f\"enter place between range of 0 to {len(l)}\")\n",
    "n=int(input())\n",
    "word=input(\"enter word\")\n",
    "l.insert(n-1,word)\n",
    "new_string=\" \".join(l)\n",
    "print(new_string)"
   ]
  },
  {
   "cell_type": "markdown",
   "id": "d84f72e6-4e3c-43a1-8f2c-121bf9ca5c93",
   "metadata": {},
   "source": [
    "50. Convert a CSV string to a list of lists."
   ]
  },
  {
   "cell_type": "code",
   "execution_count": 2,
   "id": "df4e4fb6-a6fd-45f1-895e-a1d70cf31787",
   "metadata": {},
   "outputs": [
    {
     "name": "stdout",
     "output_type": "stream",
     "text": [
      "[['Name', 'Age', 'Location'], ['John', '30', 'New York'], ['Alice', '25', 'Los Angeles'], ['Bob', '35', 'Chicago']]\n"
     ]
    }
   ],
   "source": [
    "import csv\n",
    "import io\n",
    "\n",
    "csv_string = \"\"\"Name,Age,Location\n",
    "John,30,New York\n",
    "Alice,25,Los Angeles\n",
    "Bob,35,Chicago\n",
    "\"\"\"\n",
    "csv_data = []\n",
    "csv_reader = csv.reader(io.StringIO(csv_string))\n",
    "for row in csv_reader:\n",
    "    csv_data.append(row)\n",
    "print(csv_data)\n"
   ]
  }
 ],
 "metadata": {
  "kernelspec": {
   "display_name": "Python 3 (ipykernel)",
   "language": "python",
   "name": "python3"
  },
  "language_info": {
   "codemirror_mode": {
    "name": "ipython",
    "version": 3
   },
   "file_extension": ".py",
   "mimetype": "text/x-python",
   "name": "python",
   "nbconvert_exporter": "python",
   "pygments_lexer": "ipython3",
   "version": "3.10.11"
  }
 },
 "nbformat": 4,
 "nbformat_minor": 5
}

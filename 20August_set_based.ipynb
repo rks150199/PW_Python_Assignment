{
 "cells": [
  {
   "cell_type": "markdown",
   "id": "81909fd5-658b-497c-a76a-27dd4d3fbf19",
   "metadata": {},
   "source": [
    "1. Create a set with integers from 1 to 5."
   ]
  },
  {
   "cell_type": "code",
   "execution_count": 3,
   "id": "940a29fe-c11f-461a-9aa5-23c5189ffd40",
   "metadata": {},
   "outputs": [
    {
     "name": "stdout",
     "output_type": "stream",
     "text": [
      "{1, 2, 3, 4, 5}\n"
     ]
    }
   ],
   "source": [
    "s=set()\n",
    "for i in range(1,6):\n",
    "    s.add(i)\n",
    "print(s)"
   ]
  },
  {
   "cell_type": "markdown",
   "id": "c10075d2-6c04-458e-ad9c-c2a27a45a558",
   "metadata": {},
   "source": [
    "2. Add an element to a set."
   ]
  },
  {
   "cell_type": "code",
   "execution_count": 5,
   "id": "b85d6472-015a-4965-962d-35ae3ad50363",
   "metadata": {},
   "outputs": [
    {
     "data": {
      "text/plain": [
       "{1, 2, 3, 4, 5, 'rahul'}"
      ]
     },
     "execution_count": 5,
     "metadata": {},
     "output_type": "execute_result"
    }
   ],
   "source": [
    "s={1, 2, 3, 4, 5}\n",
    "s.add(\"rahul\")\n",
    "s"
   ]
  },
  {
   "cell_type": "markdown",
   "id": "e90bcee3-e59c-4020-afc5-8ba95b157812",
   "metadata": {},
   "source": [
    "3. Remove an element from a set."
   ]
  },
  {
   "cell_type": "code",
   "execution_count": 8,
   "id": "91ff3c42-a5df-42a8-8d2a-7e9d53c66bb9",
   "metadata": {},
   "outputs": [
    {
     "data": {
      "text/plain": [
       "{1, 2, 3, 4, 5}"
      ]
     },
     "execution_count": 8,
     "metadata": {},
     "output_type": "execute_result"
    }
   ],
   "source": [
    "s.discard(\"rahul\")\n",
    "s"
   ]
  },
  {
   "cell_type": "markdown",
   "id": "cfdfe4a2-0095-4a89-aa01-2e2fcc2b329b",
   "metadata": {},
   "source": [
    "4. Check if an element exists in a set."
   ]
  },
  {
   "cell_type": "code",
   "execution_count": 10,
   "id": "267c0ffc-08b3-47d3-97c5-feb65045f2ef",
   "metadata": {},
   "outputs": [
    {
     "name": "stdout",
     "output_type": "stream",
     "text": [
      "yes\n"
     ]
    }
   ],
   "source": [
    "s={1, 2, 3, 4, 5}\n",
    "n=2\n",
    "if n in s:\n",
    "    print(\"yes\")\n",
    "else:\n",
    "    print(\"no\")"
   ]
  },
  {
   "cell_type": "markdown",
   "id": "0e95acbe-fda8-4e3f-9e72-79048762250e",
   "metadata": {},
   "source": [
    "5. Find the length of a set without using the `len()` function."
   ]
  },
  {
   "cell_type": "code",
   "execution_count": 12,
   "id": "b01760cb-1d81-43b7-99ed-ccc21300791a",
   "metadata": {},
   "outputs": [
    {
     "name": "stdout",
     "output_type": "stream",
     "text": [
      "6\n"
     ]
    }
   ],
   "source": [
    "s={1, 2, 3, 4, 5, 6}\n",
    "count=0\n",
    "for i in s:\n",
    "    count=count+1\n",
    "print(count)\n",
    "    "
   ]
  },
  {
   "cell_type": "markdown",
   "id": "dba98372-269e-4dee-81e1-0b2e4095a4ad",
   "metadata": {},
   "source": [
    "6. Clear all elements from a set."
   ]
  },
  {
   "cell_type": "code",
   "execution_count": 14,
   "id": "0c2c0dca-38cc-4e33-a07e-8d49687cf60b",
   "metadata": {},
   "outputs": [
    {
     "data": {
      "text/plain": [
       "set()"
      ]
     },
     "execution_count": 14,
     "metadata": {},
     "output_type": "execute_result"
    }
   ],
   "source": [
    "s={1, 2, 3, 4, 5, 6}\n",
    "s.clear()\n",
    "s"
   ]
  },
  {
   "cell_type": "markdown",
   "id": "7a14b059-cfbd-435a-aa04-76d37e7ef710",
   "metadata": {},
   "source": [
    "7. Create a set of even numbers from 1 to 10."
   ]
  },
  {
   "cell_type": "code",
   "execution_count": 15,
   "id": "7a1ecfc2-2f2c-4b48-b57b-85e9084a2377",
   "metadata": {},
   "outputs": [
    {
     "data": {
      "text/plain": [
       "{2, 4, 6, 8, 10}"
      ]
     },
     "execution_count": 15,
     "metadata": {},
     "output_type": "execute_result"
    }
   ],
   "source": [
    "even_set=set()\n",
    "for i in range(1,11):\n",
    "    if i%2==0:\n",
    "        even_set.add(i)\n",
    "even_set"
   ]
  },
  {
   "cell_type": "markdown",
   "id": "bdf3adf6-e811-4704-a628-9c1ad059e567",
   "metadata": {},
   "source": [
    "8. Create a set of odd numbers from 1 to 10."
   ]
  },
  {
   "cell_type": "code",
   "execution_count": 16,
   "id": "ddfaefc1-e3db-40ea-b452-68ea71288e72",
   "metadata": {},
   "outputs": [
    {
     "data": {
      "text/plain": [
       "{1, 3, 5, 7, 9}"
      ]
     },
     "execution_count": 16,
     "metadata": {},
     "output_type": "execute_result"
    }
   ],
   "source": [
    "even_set=set()\n",
    "for i in range(1,11):\n",
    "    if i%2!=0:\n",
    "        even_set.add(i)\n",
    "even_set"
   ]
  },
  {
   "cell_type": "markdown",
   "id": "7721b287-80a8-402b-969d-189cd561dd24",
   "metadata": {},
   "source": [
    "9. Find the union of two sets."
   ]
  },
  {
   "cell_type": "code",
   "execution_count": 18,
   "id": "fdd2cff8-5d18-41c5-87d4-1f7d50fad9ba",
   "metadata": {},
   "outputs": [
    {
     "data": {
      "text/plain": [
       "{1, 2, 3, 4, 5, 6, 7, 8, 10, 11, 12, 13, 14}"
      ]
     },
     "execution_count": 18,
     "metadata": {},
     "output_type": "execute_result"
    }
   ],
   "source": [
    "set1={1,2,3,4,5,6,7,8}\n",
    "set2={10,11,12,13,14}\n",
    "set1.union(set2)"
   ]
  },
  {
   "cell_type": "markdown",
   "id": "bf29bc49-7611-4dc0-af46-a68979bdb27a",
   "metadata": {},
   "source": [
    "10. Find the intersection of two sets."
   ]
  },
  {
   "cell_type": "code",
   "execution_count": 20,
   "id": "626ca65c-6584-4188-8711-0232c13d1673",
   "metadata": {},
   "outputs": [
    {
     "data": {
      "text/plain": [
       "{5, 6, 7, 8}"
      ]
     },
     "execution_count": 20,
     "metadata": {},
     "output_type": "execute_result"
    }
   ],
   "source": [
    "set1={1,2,3,4,5,6,7,8}\n",
    "set2={5,6,7,8,13,14}\n",
    "set1.intersection(set2)"
   ]
  },
  {
   "cell_type": "markdown",
   "id": "2f3f5499-9d13-4b89-ae30-7a26f0fafc4c",
   "metadata": {},
   "source": [
    "11. Find the difference between two sets."
   ]
  },
  {
   "cell_type": "code",
   "execution_count": 28,
   "id": "982963bc-b301-4b3e-bc43-fad49fd7e043",
   "metadata": {},
   "outputs": [
    {
     "data": {
      "text/plain": [
       "{1, 2, 3, 4}"
      ]
     },
     "execution_count": 28,
     "metadata": {},
     "output_type": "execute_result"
    }
   ],
   "source": [
    "set1={1,2,3,4,5,6,7,8}\n",
    "set2={5,6,7,8,13,14}\n",
    "set1.difference(set2) "
   ]
  },
  {
   "cell_type": "markdown",
   "id": "5f111629-a404-4b5a-88a8-b651c406e653",
   "metadata": {},
   "source": [
    "12. Check if a set is a subset of another set."
   ]
  },
  {
   "cell_type": "code",
   "execution_count": 4,
   "id": "9b1bc2c3-1ff1-4801-a66e-21ed95692218",
   "metadata": {},
   "outputs": [
    {
     "data": {
      "text/plain": [
       "True"
      ]
     },
     "execution_count": 4,
     "metadata": {},
     "output_type": "execute_result"
    }
   ],
   "source": [
    "set1={1,2,3,4,5,6,7,8}\n",
    "set2={5,6}\n",
    "set2.issubset(set1) "
   ]
  },
  {
   "cell_type": "markdown",
   "id": "0de89ad1-b7f8-4f80-92a7-cc41d4a65fc2",
   "metadata": {},
   "source": [
    "13. Check if a set is a superset of another set."
   ]
  },
  {
   "cell_type": "code",
   "execution_count": 8,
   "id": "568096fe-ce6c-4ddb-9089-c8555cc3f2f4",
   "metadata": {},
   "outputs": [
    {
     "data": {
      "text/plain": [
       "True"
      ]
     },
     "execution_count": 8,
     "metadata": {},
     "output_type": "execute_result"
    }
   ],
   "source": [
    "set1={1,2,3,4,5,6,7,8}\n",
    "set2={5,6}\n",
    "set1.issuperset(set2)"
   ]
  },
  {
   "cell_type": "markdown",
   "id": "30479d7d-f355-4ff4-8daf-952f59b7fdd3",
   "metadata": {},
   "source": [
    "14. Create a set from a list."
   ]
  },
  {
   "cell_type": "code",
   "execution_count": 7,
   "id": "04b92711-cff5-4fb9-9b58-1f62eb7659d6",
   "metadata": {},
   "outputs": [
    {
     "data": {
      "text/plain": [
       "{1, 2, 3, 4, 5, 6, 8, 9}"
      ]
     },
     "execution_count": 7,
     "metadata": {},
     "output_type": "execute_result"
    }
   ],
   "source": [
    "List=[1,2,3,4,5,6,1,2,8,9,4,5,6,2,3]\n",
    "set(List)"
   ]
  },
  {
   "cell_type": "markdown",
   "id": "8e7e8b3b-d177-4ace-bc14-92578289188e",
   "metadata": {},
   "source": [
    "15. Convert a set to a list."
   ]
  },
  {
   "cell_type": "code",
   "execution_count": 9,
   "id": "96f31619-853c-4fa6-a45d-1df6757023cf",
   "metadata": {},
   "outputs": [
    {
     "data": {
      "text/plain": [
       "[1, 2, 3, 4, 5, 6, 8, 9]"
      ]
     },
     "execution_count": 9,
     "metadata": {},
     "output_type": "execute_result"
    }
   ],
   "source": [
    "Set={1, 2, 3, 4, 5, 6, 8, 9}\n",
    "list(Set)"
   ]
  },
  {
   "cell_type": "markdown",
   "id": "021afae5-e746-4ba5-b850-9a83376e97f1",
   "metadata": {},
   "source": [
    "16. Remove a random element from a set."
   ]
  },
  {
   "cell_type": "code",
   "execution_count": 22,
   "id": "0100ad03-a1dc-4665-b06c-363e15415fc4",
   "metadata": {},
   "outputs": [
    {
     "data": {
      "text/plain": [
       "{1, 2, 4, 5, 6, 8, 9}"
      ]
     },
     "execution_count": 22,
     "metadata": {},
     "output_type": "execute_result"
    }
   ],
   "source": [
    "import random\n",
    "Set={1, 2, 3, 4, 5, 6, 8, 9}\n",
    "ele=random.randint(1,len(Set))\n",
    "ele\n",
    "Set.remove(ele)\n",
    "Set"
   ]
  },
  {
   "cell_type": "markdown",
   "id": "ba8df838-f4d6-45aa-bae3-1c086cb72c1a",
   "metadata": {},
   "source": [
    "17. Pop an element from a set."
   ]
  },
  {
   "cell_type": "code",
   "execution_count": 27,
   "id": "61ce2abf-94cc-4801-863c-66c877388953",
   "metadata": {},
   "outputs": [
    {
     "data": {
      "text/plain": [
       "{2, 4, 5, 6, 8, 9}"
      ]
     },
     "execution_count": 27,
     "metadata": {},
     "output_type": "execute_result"
    }
   ],
   "source": [
    "Set={1, 2, 4, 5, 6, 8, 9}\n",
    "Set.pop()\n",
    "Set"
   ]
  },
  {
   "cell_type": "markdown",
   "id": "91925a8f-eab3-4384-a3ee-26ab5de7714a",
   "metadata": {},
   "source": [
    "18. Check if two sets have no elements in common."
   ]
  },
  {
   "cell_type": "code",
   "execution_count": 48,
   "id": "f990d832-2847-4441-8f70-5eee0550b06c",
   "metadata": {},
   "outputs": [
    {
     "name": "stdout",
     "output_type": "stream",
     "text": [
      "The sets have no elements in common.\n"
     ]
    }
   ],
   "source": [
    "set1 = {1, 2, 3, 4}\n",
    "set2 = {5, 6, 7,}\n",
    "if set1.isdisjoint(set2):\n",
    "    print(\"The sets have no elements in common.\")\n",
    "else:\n",
    "    print(\"The sets have at least one element in common.\")"
   ]
  },
  {
   "cell_type": "markdown",
   "id": "6a2082b3-dae7-4142-9c1e-d113aeb1e9d3",
   "metadata": {},
   "source": [
    "19. Find the symmetric difference between two sets."
   ]
  },
  {
   "cell_type": "code",
   "execution_count": 49,
   "id": "611f62d5-eff3-406d-9773-4634f9e6bc70",
   "metadata": {},
   "outputs": [
    {
     "name": "stdout",
     "output_type": "stream",
     "text": [
      "{1, 2, 5, 6}\n"
     ]
    }
   ],
   "source": [
    "set1 = {1, 2, 3, 4}\n",
    "set2 = {3, 4, 5, 6}\n",
    "symmetric_diff = set1.symmetric_difference(set2)\n",
    "print(symmetric_diff)"
   ]
  },
  {
   "cell_type": "markdown",
   "id": "bd9c849e-3a93-4140-91f2-1570ca61ed87",
   "metadata": {},
   "source": [
    "20. Update a set with elements from another set."
   ]
  },
  {
   "cell_type": "code",
   "execution_count": 52,
   "id": "0b8d9aef-5d97-4930-b63c-62d59441807f",
   "metadata": {},
   "outputs": [
    {
     "data": {
      "text/plain": [
       "{1, 2, 3, 4}"
      ]
     },
     "execution_count": 52,
     "metadata": {},
     "output_type": "execute_result"
    }
   ],
   "source": [
    "set1 = {1, 2, 3, 4}\n",
    "set2=set()\n",
    "set2.update(set1)\n",
    "set2"
   ]
  },
  {
   "cell_type": "markdown",
   "id": "2787b2ba-c5fc-4c2a-91d7-c668fba01e05",
   "metadata": {},
   "source": [
    "21. Create a set of the first 5 prime numbers."
   ]
  },
  {
   "cell_type": "code",
   "execution_count": 16,
   "id": "0138c54f-1eb3-4def-83be-655acf88e600",
   "metadata": {},
   "outputs": [
    {
     "data": {
      "text/plain": [
       "{1, 2, 3, 5, 7}"
      ]
     },
     "execution_count": 16,
     "metadata": {},
     "output_type": "execute_result"
    }
   ],
   "source": [
    "l=[]\n",
    "n=5\n",
    "for num in range(1,100):\n",
    "    if num>0:\n",
    "        for i in range(2,num):\n",
    "            if num%i==0:\n",
    "                break\n",
    "        else:\n",
    "            l.append(num) \n",
    "List=l[0:n]\n",
    "set(List)"
   ]
  },
  {
   "cell_type": "markdown",
   "id": "ca6b5da6-6a72-4860-a665-bdefafafab82",
   "metadata": {},
   "source": [
    "22. Check if two sets are identical."
   ]
  },
  {
   "cell_type": "code",
   "execution_count": 17,
   "id": "1809eb29-a760-40c5-9720-8c5fb4574c1d",
   "metadata": {},
   "outputs": [
    {
     "name": "stdout",
     "output_type": "stream",
     "text": [
      "The sets are identical.\n"
     ]
    }
   ],
   "source": [
    "set1 = {1, 2, 3, 4, 5}\n",
    "set2 = {5, 4, 3, 2, 1}\n",
    "if set1 == set2:\n",
    "    print(\"The sets are identical.\")\n",
    "else:\n",
    "    print(\"The sets are not identical.\")"
   ]
  },
  {
   "cell_type": "markdown",
   "id": "2deabdd7-6280-4558-9a70-6387108ee4b7",
   "metadata": {},
   "source": [
    "23. Create a frozen set."
   ]
  },
  {
   "cell_type": "code",
   "execution_count": 24,
   "id": "86746ac9-bd7f-492a-836e-417314a40e78",
   "metadata": {},
   "outputs": [
    {
     "data": {
      "text/plain": [
       "frozenset({1, 2, 3, 4, 5})"
      ]
     },
     "execution_count": 24,
     "metadata": {},
     "output_type": "execute_result"
    }
   ],
   "source": [
    "set1 = {1, 2, 3, 4, 5}\n",
    "frozen=frozenset(set1)\n",
    "frozen"
   ]
  },
  {
   "cell_type": "markdown",
   "id": "04c71407-c9e2-4f22-aef9-292c5d774f6c",
   "metadata": {},
   "source": [
    "24. Check if a set is disjoint with another set."
   ]
  },
  {
   "cell_type": "code",
   "execution_count": 26,
   "id": "b4abdd16-f496-4d3c-bf9d-df19f733e12e",
   "metadata": {},
   "outputs": [
    {
     "name": "stdout",
     "output_type": "stream",
     "text": [
      "The sets are disjoint; they have no common elements.\n"
     ]
    }
   ],
   "source": [
    "set1 = {1, 2, 3, 4, 5}\n",
    "set2 = {6, 7, 8}\n",
    "\n",
    "if set1.isdisjoint(set2):\n",
    "    print(\"The sets are disjoint; they have no common elements.\")\n",
    "else:\n",
    "    print(\"The sets have at least one common element.\")"
   ]
  },
  {
   "cell_type": "markdown",
   "id": "60599bab-91e0-4012-a8f7-1f5adc84af1a",
   "metadata": {},
   "source": [
    "25. Create a set of squares of numbers from 1 to 5."
   ]
  },
  {
   "cell_type": "code",
   "execution_count": 29,
   "id": "e6fd4e6b-1080-49c6-9c39-fe52eb91d78e",
   "metadata": {},
   "outputs": [
    {
     "data": {
      "text/plain": [
       "{1, 4, 9, 16, 25}"
      ]
     },
     "execution_count": 29,
     "metadata": {},
     "output_type": "execute_result"
    }
   ],
   "source": [
    "s=set()\n",
    "for i in range(1,6):\n",
    "    s.add(i**2)\n",
    "s"
   ]
  },
  {
   "cell_type": "markdown",
   "id": "86116b60-62bd-45f1-b078-aa60b6929279",
   "metadata": {},
   "source": [
    "26. Filter out all even numbers from a set."
   ]
  },
  {
   "cell_type": "code",
   "execution_count": 33,
   "id": "bc9dc039-4fec-4dca-8368-e375d5fdbec7",
   "metadata": {},
   "outputs": [
    {
     "name": "stdout",
     "output_type": "stream",
     "text": [
      "2\n",
      "4\n"
     ]
    }
   ],
   "source": [
    "set1 = {1, 2, 3, 4, 5}\n",
    "for i in set1:\n",
    "    if i%2==0:\n",
    "        print(i)"
   ]
  },
  {
   "cell_type": "markdown",
   "id": "00612f29-dd11-427f-a366-d7bfd1a74d1d",
   "metadata": {},
   "source": [
    "27. Multiply all elements in a set by 2."
   ]
  },
  {
   "cell_type": "code",
   "execution_count": 34,
   "id": "8ba09b0e-8e22-487f-b87f-112cb36811c6",
   "metadata": {},
   "outputs": [
    {
     "name": "stdout",
     "output_type": "stream",
     "text": [
      "{2, 4, 6, 8, 10}\n"
     ]
    }
   ],
   "source": [
    "s=set()\n",
    "set1 = {1, 2, 3, 4, 5}\n",
    "for i in set1:\n",
    "    s.add(i*2)\n",
    "print(s)"
   ]
  },
  {
   "cell_type": "markdown",
   "id": "9649c26a-8807-4821-9834-5971d670208f",
   "metadata": {},
   "source": [
    "28. Create a set of random numbers."
   ]
  },
  {
   "cell_type": "code",
   "execution_count": 39,
   "id": "4327abf1-e9e8-4197-9e67-ce0c63b376bb",
   "metadata": {},
   "outputs": [
    {
     "data": {
      "text/plain": [
       "{19, 43, 51, 62, 84}"
      ]
     },
     "execution_count": 39,
     "metadata": {},
     "output_type": "execute_result"
    }
   ],
   "source": [
    "import random\n",
    "Set=set()\n",
    "for i in range(0,5):\n",
    "    s=random.randint(1,100)\n",
    "    Set.add(s)\n",
    "Set"
   ]
  },
  {
   "cell_type": "markdown",
   "id": "7603c427-bdca-4600-b2f4-aedef77a5959",
   "metadata": {},
   "source": [
    "29. Check if a set is empty."
   ]
  },
  {
   "cell_type": "code",
   "execution_count": 46,
   "id": "c8179b76-4096-4859-8320-17f6b22a49f1",
   "metadata": {},
   "outputs": [
    {
     "name": "stdout",
     "output_type": "stream",
     "text": [
      "empty set\n"
     ]
    }
   ],
   "source": [
    "Set=set()\n",
    "#Set={19, 43, 51, 62, 84}\n",
    "if len(Set)==0:\n",
    "    print(\"empty set\")\n",
    "else:\n",
    "    print(\"not empty\")"
   ]
  },
  {
   "cell_type": "markdown",
   "id": "cb9764a4-e524-4b24-8fa1-112d57ee24ba",
   "metadata": {},
   "source": [
    "30. Create a nested set (hint: use frozenset)."
   ]
  },
  {
   "cell_type": "code",
   "execution_count": 56,
   "id": "9f1436c0-8103-4600-b08b-8c2470e6e66e",
   "metadata": {},
   "outputs": [
    {
     "data": {
      "text/plain": [
       "(frozenset({1, 2, 3, 4, 5}), frozenset({6, 7, 8}))"
      ]
     },
     "execution_count": 56,
     "metadata": {},
     "output_type": "execute_result"
    }
   ],
   "source": [
    "set1 = {1, 2, 3, 4, 5}\n",
    "set2 = {6, 7, 8}\n",
    "nested=frozenset(set1),frozenset(set2)\n",
    "nested"
   ]
  },
  {
   "cell_type": "markdown",
   "id": "b6a3df10-e549-404b-8289-86284752bcd0",
   "metadata": {},
   "source": [
    "31. Remove an element from a set using the discard method."
   ]
  },
  {
   "cell_type": "code",
   "execution_count": 57,
   "id": "13697f41-8db0-4dfb-bd34-d94d50d97908",
   "metadata": {},
   "outputs": [
    {
     "data": {
      "text/plain": [
       "{1, 3, 4, 5}"
      ]
     },
     "execution_count": 57,
     "metadata": {},
     "output_type": "execute_result"
    }
   ],
   "source": [
    "set1 = {1, 2, 3, 4, 5}\n",
    "set1.discard(2)\n",
    "set1"
   ]
  },
  {
   "cell_type": "markdown",
   "id": "f4b08d16-f334-4158-9899-bfea93817d54",
   "metadata": {},
   "source": [
    "32. Compare two sets."
   ]
  },
  {
   "cell_type": "code",
   "execution_count": 58,
   "id": "533add86-12fc-466d-8295-7632e1c0bb20",
   "metadata": {},
   "outputs": [
    {
     "name": "stdout",
     "output_type": "stream",
     "text": [
      "The sets are equal.\n"
     ]
    }
   ],
   "source": [
    "set1 = {1, 2, 3}\n",
    "set2 = {3, 2, 1}\n",
    "if set1 == set2:\n",
    "    print(\"The sets are equal.\")\n",
    "else:\n",
    "    print(\"The sets are not equal.\")"
   ]
  },
  {
   "cell_type": "markdown",
   "id": "6abd7407-eb44-4b63-a4eb-940f7f5b39c1",
   "metadata": {},
   "source": [
    "33. Create a set from a string."
   ]
  },
  {
   "cell_type": "code",
   "execution_count": 59,
   "id": "bf2edff0-05dc-43d5-9ae5-b49812dc0d28",
   "metadata": {},
   "outputs": [
    {
     "data": {
      "text/plain": [
       "{'P', 'W', 'i', 'k', 'l', 's'}"
      ]
     },
     "execution_count": 59,
     "metadata": {},
     "output_type": "execute_result"
    }
   ],
   "source": [
    "string=\"PWskills\"\n",
    "s=set()\n",
    "for i in string:\n",
    "    s.add(i)\n",
    "s"
   ]
  },
  {
   "cell_type": "markdown",
   "id": "3f92c9d0-44d7-41b3-8cbf-6c10b887c6d8",
   "metadata": {},
   "source": [
    "34. Convert a set of strings to a set of integers."
   ]
  },
  {
   "cell_type": "code",
   "execution_count": 64,
   "id": "95353d8d-88e4-41cd-a578-e4d3813e5ed9",
   "metadata": {},
   "outputs": [
    {
     "data": {
      "text/plain": [
       "{1, 2, 3, 4, 5, 6, 7, 8, 9}"
      ]
     },
     "execution_count": 64,
     "metadata": {},
     "output_type": "execute_result"
    }
   ],
   "source": [
    "s={'1', '2', '3', '4', '5', '6', '7', '8', '9'}\n",
    "Set=set()\n",
    "for i in s:\n",
    "    Set.add(int(i))\n",
    "Set"
   ]
  },
  {
   "cell_type": "markdown",
   "id": "c2fc9399-8b81-41bb-a1fb-fd0730993499",
   "metadata": {},
   "source": [
    "35. Convert a set of integers to a set of strings."
   ]
  },
  {
   "cell_type": "code",
   "execution_count": 65,
   "id": "29341ae9-62a5-4b43-8d4c-a905f386836d",
   "metadata": {},
   "outputs": [
    {
     "data": {
      "text/plain": [
       "{'1', '2', '3', '4', '5', '6', '7', '8', '9'}"
      ]
     },
     "execution_count": 65,
     "metadata": {},
     "output_type": "execute_result"
    }
   ],
   "source": [
    "s={1, 2, 3, 4, 5, 6, 7, 8, 9}\n",
    "Set=set()\n",
    "for i in s:\n",
    "    Set.add(str(i))\n",
    "Set"
   ]
  },
  {
   "cell_type": "markdown",
   "id": "c43ca53b-3623-4639-a8d3-ea85585ebe56",
   "metadata": {},
   "source": [
    "36. Create a set from a tuple."
   ]
  },
  {
   "cell_type": "code",
   "execution_count": 66,
   "id": "402921cd-4add-4c2a-a3f4-730b97696ff4",
   "metadata": {},
   "outputs": [
    {
     "data": {
      "text/plain": [
       "{1, 2, 3, 4, 5, 6}"
      ]
     },
     "execution_count": 66,
     "metadata": {},
     "output_type": "execute_result"
    }
   ],
   "source": [
    "tuple=(1,2,3,4,5,6)\n",
    "set(tuple)"
   ]
  },
  {
   "cell_type": "markdown",
   "id": "974a4d2d-4608-4566-8b29-f89ce8b20c4a",
   "metadata": {},
   "source": [
    "37. Convert a set to a tuple."
   ]
  },
  {
   "cell_type": "code",
   "execution_count": 2,
   "id": "3141c191-9f2a-4882-9d9e-dc5b6e7cf658",
   "metadata": {},
   "outputs": [
    {
     "data": {
      "text/plain": [
       "(1, 2, 3, 4, 5, 6)"
      ]
     },
     "execution_count": 2,
     "metadata": {},
     "output_type": "execute_result"
    }
   ],
   "source": [
    "s={1, 2, 3, 4, 5, 6}\n",
    "tuple(s)"
   ]
  },
  {
   "cell_type": "markdown",
   "id": "5148e886-4137-4d35-a972-802ade150661",
   "metadata": {},
   "source": [
    "38. Find the maximum value in a set."
   ]
  },
  {
   "cell_type": "code",
   "execution_count": 3,
   "id": "636b6e30-d3a2-4cbe-b349-5733d1af21d0",
   "metadata": {},
   "outputs": [
    {
     "data": {
      "text/plain": [
       "6"
      ]
     },
     "execution_count": 3,
     "metadata": {},
     "output_type": "execute_result"
    }
   ],
   "source": [
    "s={1, 2, 3, 4, 5, 6}\n",
    "max(s)"
   ]
  },
  {
   "cell_type": "markdown",
   "id": "802baea5-76ea-4528-ae2e-461cdf63b27e",
   "metadata": {},
   "source": [
    "39. Find the minimum value in a set."
   ]
  },
  {
   "cell_type": "code",
   "execution_count": 4,
   "id": "5cf8d966-3e74-4e1b-92e6-7d80463a4a6e",
   "metadata": {},
   "outputs": [
    {
     "data": {
      "text/plain": [
       "1"
      ]
     },
     "execution_count": 4,
     "metadata": {},
     "output_type": "execute_result"
    }
   ],
   "source": [
    "s={1, 2, 3, 4, 5, 6}\n",
    "min(s)"
   ]
  },
  {
   "cell_type": "markdown",
   "id": "95080723-d452-4dbf-ad3e-6d7412cf0cee",
   "metadata": {},
   "source": [
    "40. Create a set from user input."
   ]
  },
  {
   "cell_type": "code",
   "execution_count": 8,
   "id": "c740240f-c4be-4daf-ab1c-50e0a01200b6",
   "metadata": {},
   "outputs": [
    {
     "name": "stdin",
     "output_type": "stream",
     "text": [
      "Enter a comma-separated list of values:  5,4,6,4,8\n"
     ]
    },
    {
     "data": {
      "text/plain": [
       "{'4', '5', '6', '8'}"
      ]
     },
     "execution_count": 8,
     "metadata": {},
     "output_type": "execute_result"
    }
   ],
   "source": [
    "element=input(\"Enter a comma-separated list of values: \")\n",
    "set(element.split(\",\"))"
   ]
  },
  {
   "cell_type": "markdown",
   "id": "4275a530-6cf0-43a4-9878-29f0828e820b",
   "metadata": {},
   "source": [
    "41. Check if the intersection of two sets is empty."
   ]
  },
  {
   "cell_type": "code",
   "execution_count": 19,
   "id": "4e117fe4-bddc-4e42-8729-b90ca83e70c6",
   "metadata": {},
   "outputs": [
    {
     "name": "stdout",
     "output_type": "stream",
     "text": [
      "empty\n"
     ]
    }
   ],
   "source": [
    "set1 = {1,2,3,4,5}\n",
    "set2 = {6,7,8,9,10,11}\n",
    "if set2.intersection(set1)==set():\n",
    "    print(\"empty\")\n",
    "else:\n",
    "    print(\"not empty\")"
   ]
  },
  {
   "cell_type": "markdown",
   "id": "81676541-1db8-4be9-a372-93421a6d2a0c",
   "metadata": {},
   "source": [
    "42. Create a set of the first 5 Fibonacci numbers."
   ]
  },
  {
   "cell_type": "markdown",
   "id": "43ec5001-9b17-4f65-aa4c-1840c4bc4279",
   "metadata": {},
   "source": [
    "l=[]\n",
    "n=5\n",
    "for num in range(1,100):\n",
    "    if num>0:\n",
    "        for i in range(2,num):\n",
    "            if num%i==0:\n",
    "                break\n",
    "        else:\n",
    "            l.append(num) \n",
    "set(l[0:n])"
   ]
  },
  {
   "cell_type": "markdown",
   "id": "21552b78-bb88-4cb8-9cb2-9819e65feeea",
   "metadata": {},
   "source": [
    "43. Remove duplicates from a list using sets."
   ]
  },
  {
   "cell_type": "code",
   "execution_count": 25,
   "id": "9adc14d8-d2ce-4ff7-b56b-932e8a28b720",
   "metadata": {},
   "outputs": [
    {
     "data": {
      "text/plain": [
       "{12, 15, 23, 32, 45, 62, 65}"
      ]
     },
     "execution_count": 25,
     "metadata": {},
     "output_type": "execute_result"
    }
   ],
   "source": [
    "List=[12,23,15,65,32,45,62,12,23,65,65,32,45,12,23]\n",
    "set(List)"
   ]
  },
  {
   "cell_type": "markdown",
   "id": "6037602d-1c91-4d88-9923-981b3a7f4723",
   "metadata": {},
   "source": [
    "44. Check if two sets have the same elements, regardless of their count."
   ]
  },
  {
   "cell_type": "code",
   "execution_count": 27,
   "id": "11f83ed6-f85f-4ca4-bff9-3e9fc6f08e0f",
   "metadata": {},
   "outputs": [
    {
     "name": "stdout",
     "output_type": "stream",
     "text": [
      "same element\n"
     ]
    }
   ],
   "source": [
    "set1={1,2,3,4,5}\n",
    "set2={5,3,4,2,1,3}\n",
    "if set1==set2:\n",
    "    print(\"same element\")\n",
    "else:\n",
    "    print(\"not same element\")"
   ]
  },
  {
   "cell_type": "markdown",
   "id": "10152664-d133-4fc1-b330-7dfa3db43ce8",
   "metadata": {},
   "source": [
    "45. Create a set of the first `n` powers of 2."
   ]
  },
  {
   "cell_type": "code",
   "execution_count": 28,
   "id": "e453b014-cd6a-4052-8b55-807188e7d203",
   "metadata": {},
   "outputs": [
    {
     "name": "stdout",
     "output_type": "stream",
     "text": [
      "{1, 4, 9, 16, 25}\n"
     ]
    }
   ],
   "source": [
    "s=set()\n",
    "n=5\n",
    "for i in range(1,n+1):\n",
    "    s.add(i**2)\n",
    "print(s)"
   ]
  },
  {
   "cell_type": "markdown",
   "id": "c4619d32-0518-4c06-8da8-a0c6fdc1bc45",
   "metadata": {},
   "source": [
    "46. Find the common elements between a set and a list."
   ]
  },
  {
   "cell_type": "code",
   "execution_count": 2,
   "id": "199a4014-f51d-40ca-8f9b-1421987f6271",
   "metadata": {},
   "outputs": [
    {
     "data": {
      "text/plain": [
       "{10, 14, 15}"
      ]
     },
     "execution_count": 2,
     "metadata": {},
     "output_type": "execute_result"
    }
   ],
   "source": [
    "set1={10,11,12,13,14,15}\n",
    "List=[14,15,16,17,15,10,16]\n",
    "set2=set(List)\n",
    "set1.intersection(set2)"
   ]
  },
  {
   "cell_type": "markdown",
   "id": "40feeaad-3e8b-424e-b6dc-4830f19a3626",
   "metadata": {},
   "source": [
    "47. Create a set of the first `n` triangular numbers."
   ]
  },
  {
   "cell_type": "code",
   "execution_count": 7,
   "id": "67b720c3-e035-4aec-b77d-28b88ecc0d17",
   "metadata": {},
   "outputs": [
    {
     "data": {
      "text/plain": [
       "{1, 3, 6, 10, 15}"
      ]
     },
     "execution_count": 7,
     "metadata": {},
     "output_type": "execute_result"
    }
   ],
   "source": [
    "n=5\n",
    "s=set()\n",
    "for i in range(1,n+1):\n",
    "    i=i*(i+1)//2\n",
    "    s.add(i)\n",
    "s"
   ]
  },
  {
   "cell_type": "markdown",
   "id": "82401661-01d2-4e2f-8442-4dabf8f4b5b0",
   "metadata": {},
   "source": [
    "48. Check if a set contains another set as a subset."
   ]
  },
  {
   "cell_type": "code",
   "execution_count": 11,
   "id": "bc5df2c8-c5cd-4214-926b-7c56d4b95cd8",
   "metadata": {},
   "outputs": [
    {
     "name": "stdout",
     "output_type": "stream",
     "text": [
      "yes set2 is subset of set1\n"
     ]
    }
   ],
   "source": [
    "set1={10,11,12,13,14,15}\n",
    "set2={11,12}\n",
    "if set2.issubset(set1):\n",
    "    print(\"yes set2 is subset of set1\")\n",
    "else:\n",
    "     print(\"no set2 is no subset of set1\")"
   ]
  },
  {
   "cell_type": "markdown",
   "id": "67d138e8-8a01-4be5-b9be-255bc533bc1a",
   "metadata": {},
   "source": [
    "49. Create a set of alternating 1s and 0s of length `n`."
   ]
  },
  {
   "cell_type": "code",
   "execution_count": 16,
   "id": "1af713ee-34c6-4f11-b94b-7fb3afa54012",
   "metadata": {},
   "outputs": [
    {
     "data": {
      "text/plain": [
       "{0, 1}"
      ]
     },
     "execution_count": 16,
     "metadata": {},
     "output_type": "execute_result"
    }
   ],
   "source": [
    "s=set()\n",
    "n=10\n",
    "for i in range(3):\n",
    "    if i%2==0:\n",
    "        s.add(0)\n",
    "    else:\n",
    "        s.add(1)\n",
    "s #set does not stores repeating value"
   ]
  },
  {
   "cell_type": "markdown",
   "id": "2643bd83-312a-4af6-90ff-16b23dc6eb01",
   "metadata": {},
   "source": [
    "50. Merge multiple sets into one."
   ]
  },
  {
   "cell_type": "code",
   "execution_count": 17,
   "id": "6ae5baba-850c-4b3e-b605-d90880fc16bc",
   "metadata": {},
   "outputs": [
    {
     "name": "stdout",
     "output_type": "stream",
     "text": [
      "{1, 2, 3, 4, 5, 6, 7}\n"
     ]
    }
   ],
   "source": [
    "set1 = {1, 2, 3}\n",
    "set2 = {3, 4, 5}\n",
    "set3 = {5, 6, 7}\n",
    "merged_set = set1.union(set2, set3)\n",
    "print(merged_set)"
   ]
  }
 ],
 "metadata": {
  "kernelspec": {
   "display_name": "Python 3 (ipykernel)",
   "language": "python",
   "name": "python3"
  },
  "language_info": {
   "codemirror_mode": {
    "name": "ipython",
    "version": 3
   },
   "file_extension": ".py",
   "mimetype": "text/x-python",
   "name": "python",
   "nbconvert_exporter": "python",
   "pygments_lexer": "ipython3",
   "version": "3.10.11"
  }
 },
 "nbformat": 4,
 "nbformat_minor": 5
}
